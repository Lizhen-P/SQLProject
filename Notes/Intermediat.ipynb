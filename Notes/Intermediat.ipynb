{
    "metadata": {
        "kernelspec": {
            "name": "SQL",
            "display_name": "SQL",
            "language": "sql"
        },
        "language_info": {
            "name": "sql",
            "version": ""
        }
    },
    "nbformat_minor": 2,
    "nbformat": 4,
    "cells": [
        {
            "cell_type": "markdown",
            "source": [
                "**JOIN**"
            ],
            "metadata": {
                "azdata_cell_guid": "fbaa9545-07b5-464a-992d-864bf6052e59"
            },
            "attachments": {}
        },
        {
            "cell_type": "code",
            "source": [
                "Insert into EmployeeDemographics VALUES\n",
                "(1011, 'Ryan', 'Howard', 26, 'Male'),\n",
                "(NULL, 'Holly', 'Flax', NULL, NULL),\n",
                "(1013, 'Darryl', 'Philbin', NULL, 'Male')"
            ],
            "metadata": {
                "language": "sql",
                "azdata_cell_guid": "bbbb9347-1d07-423f-b673-82eae7c77edc",
                "tags": [
                    "hide_input"
                ]
            },
            "outputs": [
                {
                    "output_type": "display_data",
                    "data": {
                        "text/html": "Commands completed successfully"
                    },
                    "metadata": {}
                },
                {
                    "output_type": "display_data",
                    "data": {
                        "text/html": "Total execution time: 00:00:00.002"
                    },
                    "metadata": {}
                }
            ],
            "execution_count": 8
        },
        {
            "cell_type": "code",
            "source": [
                "SELECT *\n",
                "FROM EmployeeDemographics"
            ],
            "metadata": {
                "azdata_cell_guid": "a343c7a8-a631-4290-85e2-70988506122f",
                "language": "sql",
                "tags": []
            },
            "outputs": [
                {
                    "output_type": "display_data",
                    "data": {
                        "text/html": "(12 row(s) affected)"
                    },
                    "metadata": {}
                },
                {
                    "output_type": "display_data",
                    "data": {
                        "text/html": "Total execution time: 00:00:01.005"
                    },
                    "metadata": {}
                },
                {
                    "output_type": "execute_result",
                    "metadata": {},
                    "execution_count": 9,
                    "data": {
                        "application/vnd.dataresource+json": {
                            "schema": {
                                "fields": [
                                    {
                                        "name": "EmployeeID"
                                    },
                                    {
                                        "name": "FirstName"
                                    },
                                    {
                                        "name": "LastName"
                                    },
                                    {
                                        "name": "Age"
                                    },
                                    {
                                        "name": "Gender"
                                    }
                                ]
                            },
                            "data": [
                                {
                                    "EmployeeID": "1001",
                                    "FirstName": "Jim",
                                    "LastName": "Halpert",
                                    "Age": "30",
                                    "Gender": "Male"
                                },
                                {
                                    "EmployeeID": "1002",
                                    "FirstName": "Pam",
                                    "LastName": "Beasley",
                                    "Age": "30",
                                    "Gender": "Female"
                                },
                                {
                                    "EmployeeID": "1003",
                                    "FirstName": "Dwight",
                                    "LastName": "Schrute",
                                    "Age": "29",
                                    "Gender": "Male"
                                },
                                {
                                    "EmployeeID": "1004",
                                    "FirstName": "Angela",
                                    "LastName": "Martin",
                                    "Age": "31",
                                    "Gender": "Female"
                                },
                                {
                                    "EmployeeID": "1005",
                                    "FirstName": "Toby",
                                    "LastName": "Flenderson",
                                    "Age": "32",
                                    "Gender": "Male"
                                },
                                {
                                    "EmployeeID": "1006",
                                    "FirstName": "Michael",
                                    "LastName": "Scott",
                                    "Age": "35",
                                    "Gender": "Male"
                                },
                                {
                                    "EmployeeID": "1007",
                                    "FirstName": "Meredith",
                                    "LastName": "Palmer",
                                    "Age": "32",
                                    "Gender": "Female"
                                },
                                {
                                    "EmployeeID": "1008",
                                    "FirstName": "Stanley",
                                    "LastName": "Hudson",
                                    "Age": "38",
                                    "Gender": "Male"
                                },
                                {
                                    "EmployeeID": "1009",
                                    "FirstName": "Kevin",
                                    "LastName": "Malone",
                                    "Age": "31",
                                    "Gender": "Male"
                                },
                                {
                                    "EmployeeID": "1011",
                                    "FirstName": "Ryan",
                                    "LastName": "Howard",
                                    "Age": "26",
                                    "Gender": "Male"
                                },
                                {
                                    "EmployeeID": "NULL",
                                    "FirstName": "Holly",
                                    "LastName": "Flax",
                                    "Age": "NULL",
                                    "Gender": "NULL"
                                },
                                {
                                    "EmployeeID": "1013",
                                    "FirstName": "Darryl",
                                    "LastName": "Philbin",
                                    "Age": "NULL",
                                    "Gender": "Male"
                                }
                            ]
                        },
                        "text/html": [
                            "<table>",
                            "<tr><th>EmployeeID</th><th>FirstName</th><th>LastName</th><th>Age</th><th>Gender</th></tr>",
                            "<tr><td>1001</td><td>Jim</td><td>Halpert</td><td>30</td><td>Male</td></tr>",
                            "<tr><td>1002</td><td>Pam</td><td>Beasley</td><td>30</td><td>Female</td></tr>",
                            "<tr><td>1003</td><td>Dwight</td><td>Schrute</td><td>29</td><td>Male</td></tr>",
                            "<tr><td>1004</td><td>Angela</td><td>Martin</td><td>31</td><td>Female</td></tr>",
                            "<tr><td>1005</td><td>Toby</td><td>Flenderson</td><td>32</td><td>Male</td></tr>",
                            "<tr><td>1006</td><td>Michael</td><td>Scott</td><td>35</td><td>Male</td></tr>",
                            "<tr><td>1007</td><td>Meredith</td><td>Palmer</td><td>32</td><td>Female</td></tr>",
                            "<tr><td>1008</td><td>Stanley</td><td>Hudson</td><td>38</td><td>Male</td></tr>",
                            "<tr><td>1009</td><td>Kevin</td><td>Malone</td><td>31</td><td>Male</td></tr>",
                            "<tr><td>1011</td><td>Ryan</td><td>Howard</td><td>26</td><td>Male</td></tr>",
                            "<tr><td>NULL</td><td>Holly</td><td>Flax</td><td>NULL</td><td>NULL</td></tr>",
                            "<tr><td>1013</td><td>Darryl</td><td>Philbin</td><td>NULL</td><td>Male</td></tr>",
                            "</table>"
                        ]
                    }
                }
            ],
            "execution_count": 9
        },
        {
            "cell_type": "code",
            "source": [
                "INSERT INTO EmployeeSalary VALUES\n",
                "(1010, NULL, 47000),\n",
                "(NULL, 'Salesman', 43000)"
            ],
            "metadata": {
                "language": "sql",
                "azdata_cell_guid": "82cc210f-0602-4fa4-9da4-5099bd443c7f",
                "tags": [
                    "hide_input"
                ]
            },
            "outputs": [
                {
                    "output_type": "display_data",
                    "data": {
                        "text/html": "Commands completed successfully"
                    },
                    "metadata": {}
                },
                {
                    "output_type": "display_data",
                    "data": {
                        "text/html": "Total execution time: 00:00:00.002"
                    },
                    "metadata": {}
                }
            ],
            "execution_count": 18
        },
        {
            "cell_type": "code",
            "source": [
                "SELECT *\n",
                "FROM EmployeeSalary"
            ],
            "metadata": {
                "language": "sql",
                "azdata_cell_guid": "3310b571-e8e9-4d7c-ad6d-6212df9579a1"
            },
            "outputs": [
                {
                    "output_type": "display_data",
                    "data": {
                        "text/html": "(11 row(s) affected)"
                    },
                    "metadata": {}
                },
                {
                    "output_type": "display_data",
                    "data": {
                        "text/html": "Total execution time: 00:00:01.008"
                    },
                    "metadata": {}
                },
                {
                    "output_type": "execute_result",
                    "metadata": {},
                    "execution_count": 19,
                    "data": {
                        "application/vnd.dataresource+json": {
                            "schema": {
                                "fields": [
                                    {
                                        "name": "EmployeeID"
                                    },
                                    {
                                        "name": "JobTitle"
                                    },
                                    {
                                        "name": "Salary"
                                    }
                                ]
                            },
                            "data": [
                                {
                                    "EmployeeID": "1001",
                                    "JobTitle": "Salesman",
                                    "Salary": "45000"
                                },
                                {
                                    "EmployeeID": "1002",
                                    "JobTitle": "Receptionist",
                                    "Salary": "36000"
                                },
                                {
                                    "EmployeeID": "1003",
                                    "JobTitle": "Salesman",
                                    "Salary": "63000"
                                },
                                {
                                    "EmployeeID": "1004",
                                    "JobTitle": "Accountant",
                                    "Salary": "47000"
                                },
                                {
                                    "EmployeeID": "1005",
                                    "JobTitle": "HR",
                                    "Salary": "50000"
                                },
                                {
                                    "EmployeeID": "1006",
                                    "JobTitle": "Regional Manager",
                                    "Salary": "65000"
                                },
                                {
                                    "EmployeeID": "1007",
                                    "JobTitle": "Supplier Relations",
                                    "Salary": "41000"
                                },
                                {
                                    "EmployeeID": "1008",
                                    "JobTitle": "Salesman",
                                    "Salary": "48000"
                                },
                                {
                                    "EmployeeID": "1009",
                                    "JobTitle": "Accountant",
                                    "Salary": "42000"
                                },
                                {
                                    "EmployeeID": "1010",
                                    "JobTitle": "NULL",
                                    "Salary": "47000"
                                },
                                {
                                    "EmployeeID": "NULL",
                                    "JobTitle": "Salesman",
                                    "Salary": "43000"
                                }
                            ]
                        },
                        "text/html": [
                            "<table>",
                            "<tr><th>EmployeeID</th><th>JobTitle</th><th>Salary</th></tr>",
                            "<tr><td>1001</td><td>Salesman</td><td>45000</td></tr>",
                            "<tr><td>1002</td><td>Receptionist</td><td>36000</td></tr>",
                            "<tr><td>1003</td><td>Salesman</td><td>63000</td></tr>",
                            "<tr><td>1004</td><td>Accountant</td><td>47000</td></tr>",
                            "<tr><td>1005</td><td>HR</td><td>50000</td></tr>",
                            "<tr><td>1006</td><td>Regional Manager</td><td>65000</td></tr>",
                            "<tr><td>1007</td><td>Supplier Relations</td><td>41000</td></tr>",
                            "<tr><td>1008</td><td>Salesman</td><td>48000</td></tr>",
                            "<tr><td>1009</td><td>Accountant</td><td>42000</td></tr>",
                            "<tr><td>1010</td><td>NULL</td><td>47000</td></tr>",
                            "<tr><td>NULL</td><td>Salesman</td><td>43000</td></tr>",
                            "</table>"
                        ]
                    }
                }
            ],
            "execution_count": 19
        },
        {
            "cell_type": "code",
            "source": [
                "SELECT *\n",
                "FROM EmployeeDemographics\n",
                "INNER JOIN EmployeeSalary \n",
                "    ON EmployeeDemographics.EmployeeID = EmployeeSalary.EmployeeID"
            ],
            "metadata": {
                "language": "sql",
                "azdata_cell_guid": "3efd5e3f-1f3d-4773-9cb4-e98d5415aa3b"
            },
            "outputs": [
                {
                    "output_type": "display_data",
                    "data": {
                        "text/html": "(9 row(s) affected)"
                    },
                    "metadata": {}
                },
                {
                    "output_type": "display_data",
                    "data": {
                        "text/html": "Total execution time: 00:00:01.006"
                    },
                    "metadata": {}
                },
                {
                    "output_type": "execute_result",
                    "metadata": {},
                    "execution_count": 20,
                    "data": {
                        "application/vnd.dataresource+json": {
                            "schema": {
                                "fields": [
                                    {
                                        "name": "EmployeeID"
                                    },
                                    {
                                        "name": "FirstName"
                                    },
                                    {
                                        "name": "LastName"
                                    },
                                    {
                                        "name": "Age"
                                    },
                                    {
                                        "name": "Gender"
                                    },
                                    {
                                        "name": "EmployeeID"
                                    },
                                    {
                                        "name": "JobTitle"
                                    },
                                    {
                                        "name": "Salary"
                                    }
                                ]
                            },
                            "data": [
                                {
                                    "EmployeeID": "1001",
                                    "FirstName": "Jim",
                                    "LastName": "Halpert",
                                    "Age": "30",
                                    "Gender": "Male",
                                    "JobTitle": "Salesman",
                                    "Salary": "45000"
                                },
                                {
                                    "EmployeeID": "1002",
                                    "FirstName": "Pam",
                                    "LastName": "Beasley",
                                    "Age": "30",
                                    "Gender": "Female",
                                    "JobTitle": "Receptionist",
                                    "Salary": "36000"
                                },
                                {
                                    "EmployeeID": "1003",
                                    "FirstName": "Dwight",
                                    "LastName": "Schrute",
                                    "Age": "29",
                                    "Gender": "Male",
                                    "JobTitle": "Salesman",
                                    "Salary": "63000"
                                },
                                {
                                    "EmployeeID": "1004",
                                    "FirstName": "Angela",
                                    "LastName": "Martin",
                                    "Age": "31",
                                    "Gender": "Female",
                                    "JobTitle": "Accountant",
                                    "Salary": "47000"
                                },
                                {
                                    "EmployeeID": "1005",
                                    "FirstName": "Toby",
                                    "LastName": "Flenderson",
                                    "Age": "32",
                                    "Gender": "Male",
                                    "JobTitle": "HR",
                                    "Salary": "50000"
                                },
                                {
                                    "EmployeeID": "1006",
                                    "FirstName": "Michael",
                                    "LastName": "Scott",
                                    "Age": "35",
                                    "Gender": "Male",
                                    "JobTitle": "Regional Manager",
                                    "Salary": "65000"
                                },
                                {
                                    "EmployeeID": "1007",
                                    "FirstName": "Meredith",
                                    "LastName": "Palmer",
                                    "Age": "32",
                                    "Gender": "Female",
                                    "JobTitle": "Supplier Relations",
                                    "Salary": "41000"
                                },
                                {
                                    "EmployeeID": "1008",
                                    "FirstName": "Stanley",
                                    "LastName": "Hudson",
                                    "Age": "38",
                                    "Gender": "Male",
                                    "JobTitle": "Salesman",
                                    "Salary": "48000"
                                },
                                {
                                    "EmployeeID": "1009",
                                    "FirstName": "Kevin",
                                    "LastName": "Malone",
                                    "Age": "31",
                                    "Gender": "Male",
                                    "JobTitle": "Accountant",
                                    "Salary": "42000"
                                }
                            ]
                        },
                        "text/html": [
                            "<table>",
                            "<tr><th>EmployeeID</th><th>FirstName</th><th>LastName</th><th>Age</th><th>Gender</th><th>EmployeeID</th><th>JobTitle</th><th>Salary</th></tr>",
                            "<tr><td>1001</td><td>Jim</td><td>Halpert</td><td>30</td><td>Male</td><td>1001</td><td>Salesman</td><td>45000</td></tr>",
                            "<tr><td>1002</td><td>Pam</td><td>Beasley</td><td>30</td><td>Female</td><td>1002</td><td>Receptionist</td><td>36000</td></tr>",
                            "<tr><td>1003</td><td>Dwight</td><td>Schrute</td><td>29</td><td>Male</td><td>1003</td><td>Salesman</td><td>63000</td></tr>",
                            "<tr><td>1004</td><td>Angela</td><td>Martin</td><td>31</td><td>Female</td><td>1004</td><td>Accountant</td><td>47000</td></tr>",
                            "<tr><td>1005</td><td>Toby</td><td>Flenderson</td><td>32</td><td>Male</td><td>1005</td><td>HR</td><td>50000</td></tr>",
                            "<tr><td>1006</td><td>Michael</td><td>Scott</td><td>35</td><td>Male</td><td>1006</td><td>Regional Manager</td><td>65000</td></tr>",
                            "<tr><td>1007</td><td>Meredith</td><td>Palmer</td><td>32</td><td>Female</td><td>1007</td><td>Supplier Relations</td><td>41000</td></tr>",
                            "<tr><td>1008</td><td>Stanley</td><td>Hudson</td><td>38</td><td>Male</td><td>1008</td><td>Salesman</td><td>48000</td></tr>",
                            "<tr><td>1009</td><td>Kevin</td><td>Malone</td><td>31</td><td>Male</td><td>1009</td><td>Accountant</td><td>42000</td></tr>",
                            "</table>"
                        ]
                    }
                }
            ],
            "execution_count": 20
        },
        {
            "cell_type": "code",
            "source": [
                "SELECT *\n",
                "FROM EmployeeDemographics\n",
                "LEFT JOIN EmployeeSalary \n",
                "    ON EmployeeDemographics.EmployeeID = EmployeeSalary.EmployeeID\n",
                "UNION\n",
                "SELECT * \n",
                "FROM EmployeeDemographics\n",
                "RIGHT JOIN EmployeeSalary\n",
                "    ON EmployeeDemographics.EmployeeID = EmployeeSalary.EmployeeID\n",
                "/* \n",
                "in ms sql server the syntax is simply outer join,\n",
                "no need of use of union \n",
                "*/"
            ],
            "metadata": {
                "language": "sql",
                "azdata_cell_guid": "0eb3405b-d858-4d2d-96d4-40db8683a356"
            },
            "outputs": [
                {
                    "output_type": "display_data",
                    "data": {
                        "text/html": "(14 row(s) affected)"
                    },
                    "metadata": {}
                },
                {
                    "output_type": "display_data",
                    "data": {
                        "text/html": "Total execution time: 00:00:01.006"
                    },
                    "metadata": {}
                },
                {
                    "output_type": "execute_result",
                    "metadata": {},
                    "execution_count": 21,
                    "data": {
                        "application/vnd.dataresource+json": {
                            "schema": {
                                "fields": [
                                    {
                                        "name": "EmployeeID"
                                    },
                                    {
                                        "name": "FirstName"
                                    },
                                    {
                                        "name": "LastName"
                                    },
                                    {
                                        "name": "Age"
                                    },
                                    {
                                        "name": "Gender"
                                    },
                                    {
                                        "name": "EmployeeID"
                                    },
                                    {
                                        "name": "JobTitle"
                                    },
                                    {
                                        "name": "Salary"
                                    }
                                ]
                            },
                            "data": [
                                {
                                    "EmployeeID": "1001",
                                    "FirstName": "Jim",
                                    "LastName": "Halpert",
                                    "Age": "30",
                                    "Gender": "Male",
                                    "JobTitle": "Salesman",
                                    "Salary": "45000"
                                },
                                {
                                    "EmployeeID": "1002",
                                    "FirstName": "Pam",
                                    "LastName": "Beasley",
                                    "Age": "30",
                                    "Gender": "Female",
                                    "JobTitle": "Receptionist",
                                    "Salary": "36000"
                                },
                                {
                                    "EmployeeID": "1003",
                                    "FirstName": "Dwight",
                                    "LastName": "Schrute",
                                    "Age": "29",
                                    "Gender": "Male",
                                    "JobTitle": "Salesman",
                                    "Salary": "63000"
                                },
                                {
                                    "EmployeeID": "1004",
                                    "FirstName": "Angela",
                                    "LastName": "Martin",
                                    "Age": "31",
                                    "Gender": "Female",
                                    "JobTitle": "Accountant",
                                    "Salary": "47000"
                                },
                                {
                                    "EmployeeID": "1005",
                                    "FirstName": "Toby",
                                    "LastName": "Flenderson",
                                    "Age": "32",
                                    "Gender": "Male",
                                    "JobTitle": "HR",
                                    "Salary": "50000"
                                },
                                {
                                    "EmployeeID": "1006",
                                    "FirstName": "Michael",
                                    "LastName": "Scott",
                                    "Age": "35",
                                    "Gender": "Male",
                                    "JobTitle": "Regional Manager",
                                    "Salary": "65000"
                                },
                                {
                                    "EmployeeID": "1007",
                                    "FirstName": "Meredith",
                                    "LastName": "Palmer",
                                    "Age": "32",
                                    "Gender": "Female",
                                    "JobTitle": "Supplier Relations",
                                    "Salary": "41000"
                                },
                                {
                                    "EmployeeID": "1008",
                                    "FirstName": "Stanley",
                                    "LastName": "Hudson",
                                    "Age": "38",
                                    "Gender": "Male",
                                    "JobTitle": "Salesman",
                                    "Salary": "48000"
                                },
                                {
                                    "EmployeeID": "1009",
                                    "FirstName": "Kevin",
                                    "LastName": "Malone",
                                    "Age": "31",
                                    "Gender": "Male",
                                    "JobTitle": "Accountant",
                                    "Salary": "42000"
                                },
                                {
                                    "EmployeeID": "NULL",
                                    "FirstName": "Ryan",
                                    "LastName": "Howard",
                                    "Age": "26",
                                    "Gender": "Male",
                                    "JobTitle": "NULL",
                                    "Salary": "NULL"
                                },
                                {
                                    "EmployeeID": "NULL",
                                    "FirstName": "Holly",
                                    "LastName": "Flax",
                                    "Age": "NULL",
                                    "Gender": "NULL",
                                    "JobTitle": "NULL",
                                    "Salary": "NULL"
                                },
                                {
                                    "EmployeeID": "NULL",
                                    "FirstName": "Darryl",
                                    "LastName": "Philbin",
                                    "Age": "NULL",
                                    "Gender": "Male",
                                    "JobTitle": "NULL",
                                    "Salary": "NULL"
                                },
                                {
                                    "EmployeeID": "1010",
                                    "FirstName": "NULL",
                                    "LastName": "NULL",
                                    "Age": "NULL",
                                    "Gender": "NULL",
                                    "JobTitle": "NULL",
                                    "Salary": "47000"
                                },
                                {
                                    "EmployeeID": "NULL",
                                    "FirstName": "NULL",
                                    "LastName": "NULL",
                                    "Age": "NULL",
                                    "Gender": "NULL",
                                    "JobTitle": "Salesman",
                                    "Salary": "43000"
                                }
                            ]
                        },
                        "text/html": [
                            "<table>",
                            "<tr><th>EmployeeID</th><th>FirstName</th><th>LastName</th><th>Age</th><th>Gender</th><th>EmployeeID</th><th>JobTitle</th><th>Salary</th></tr>",
                            "<tr><td>1001</td><td>Jim</td><td>Halpert</td><td>30</td><td>Male</td><td>1001</td><td>Salesman</td><td>45000</td></tr>",
                            "<tr><td>1002</td><td>Pam</td><td>Beasley</td><td>30</td><td>Female</td><td>1002</td><td>Receptionist</td><td>36000</td></tr>",
                            "<tr><td>1003</td><td>Dwight</td><td>Schrute</td><td>29</td><td>Male</td><td>1003</td><td>Salesman</td><td>63000</td></tr>",
                            "<tr><td>1004</td><td>Angela</td><td>Martin</td><td>31</td><td>Female</td><td>1004</td><td>Accountant</td><td>47000</td></tr>",
                            "<tr><td>1005</td><td>Toby</td><td>Flenderson</td><td>32</td><td>Male</td><td>1005</td><td>HR</td><td>50000</td></tr>",
                            "<tr><td>1006</td><td>Michael</td><td>Scott</td><td>35</td><td>Male</td><td>1006</td><td>Regional Manager</td><td>65000</td></tr>",
                            "<tr><td>1007</td><td>Meredith</td><td>Palmer</td><td>32</td><td>Female</td><td>1007</td><td>Supplier Relations</td><td>41000</td></tr>",
                            "<tr><td>1008</td><td>Stanley</td><td>Hudson</td><td>38</td><td>Male</td><td>1008</td><td>Salesman</td><td>48000</td></tr>",
                            "<tr><td>1009</td><td>Kevin</td><td>Malone</td><td>31</td><td>Male</td><td>1009</td><td>Accountant</td><td>42000</td></tr>",
                            "<tr><td>1011</td><td>Ryan</td><td>Howard</td><td>26</td><td>Male</td><td>NULL</td><td>NULL</td><td>NULL</td></tr>",
                            "<tr><td>NULL</td><td>Holly</td><td>Flax</td><td>NULL</td><td>NULL</td><td>NULL</td><td>NULL</td><td>NULL</td></tr>",
                            "<tr><td>1013</td><td>Darryl</td><td>Philbin</td><td>NULL</td><td>Male</td><td>NULL</td><td>NULL</td><td>NULL</td></tr>",
                            "<tr><td>NULL</td><td>NULL</td><td>NULL</td><td>NULL</td><td>NULL</td><td>1010</td><td>NULL</td><td>47000</td></tr>",
                            "<tr><td>NULL</td><td>NULL</td><td>NULL</td><td>NULL</td><td>NULL</td><td>NULL</td><td>Salesman</td><td>43000</td></tr>",
                            "</table>"
                        ]
                    }
                }
            ],
            "execution_count": 21
        },
        {
            "cell_type": "code",
            "source": [
                "SELECT EmployeeDemographics.EmployeeID, FirstName, LastName, JobTitle, Salary\n",
                "FROM EmployeeDemographics\n",
                "INNER JOIN EmployeeSalary \n",
                "    ON EmployeeDemographics.EmployeeID = EmployeeSalary.EmployeeID"
            ],
            "metadata": {
                "language": "sql",
                "azdata_cell_guid": "bd34d0fc-681c-4a10-a2c2-73c72b1bd9bc"
            },
            "outputs": [
                {
                    "output_type": "display_data",
                    "data": {
                        "text/html": "(9 row(s) affected)"
                    },
                    "metadata": {}
                },
                {
                    "output_type": "display_data",
                    "data": {
                        "text/html": "Total execution time: 00:00:01.008"
                    },
                    "metadata": {}
                },
                {
                    "output_type": "execute_result",
                    "metadata": {},
                    "execution_count": 17,
                    "data": {
                        "application/vnd.dataresource+json": {
                            "schema": {
                                "fields": [
                                    {
                                        "name": "EmployeeID"
                                    },
                                    {
                                        "name": "FirstName"
                                    },
                                    {
                                        "name": "LastName"
                                    },
                                    {
                                        "name": "JobTitle"
                                    },
                                    {
                                        "name": "Salary"
                                    }
                                ]
                            },
                            "data": [
                                {
                                    "EmployeeID": "1001",
                                    "FirstName": "Jim",
                                    "LastName": "Halpert",
                                    "JobTitle": "Salesman",
                                    "Salary": "45000"
                                },
                                {
                                    "EmployeeID": "1002",
                                    "FirstName": "Pam",
                                    "LastName": "Beasley",
                                    "JobTitle": "Receptionist",
                                    "Salary": "36000"
                                },
                                {
                                    "EmployeeID": "1003",
                                    "FirstName": "Dwight",
                                    "LastName": "Schrute",
                                    "JobTitle": "Salesman",
                                    "Salary": "63000"
                                },
                                {
                                    "EmployeeID": "1004",
                                    "FirstName": "Angela",
                                    "LastName": "Martin",
                                    "JobTitle": "Accountant",
                                    "Salary": "47000"
                                },
                                {
                                    "EmployeeID": "1005",
                                    "FirstName": "Toby",
                                    "LastName": "Flenderson",
                                    "JobTitle": "HR",
                                    "Salary": "50000"
                                },
                                {
                                    "EmployeeID": "1006",
                                    "FirstName": "Michael",
                                    "LastName": "Scott",
                                    "JobTitle": "Regional Manager",
                                    "Salary": "65000"
                                },
                                {
                                    "EmployeeID": "1007",
                                    "FirstName": "Meredith",
                                    "LastName": "Palmer",
                                    "JobTitle": "Supplier Relations",
                                    "Salary": "41000"
                                },
                                {
                                    "EmployeeID": "1008",
                                    "FirstName": "Stanley",
                                    "LastName": "Hudson",
                                    "JobTitle": "Salesman",
                                    "Salary": "48000"
                                },
                                {
                                    "EmployeeID": "1009",
                                    "FirstName": "Kevin",
                                    "LastName": "Malone",
                                    "JobTitle": "Accountant",
                                    "Salary": "42000"
                                }
                            ]
                        },
                        "text/html": [
                            "<table>",
                            "<tr><th>EmployeeID</th><th>FirstName</th><th>LastName</th><th>JobTitle</th><th>Salary</th></tr>",
                            "<tr><td>1001</td><td>Jim</td><td>Halpert</td><td>Salesman</td><td>45000</td></tr>",
                            "<tr><td>1002</td><td>Pam</td><td>Beasley</td><td>Receptionist</td><td>36000</td></tr>",
                            "<tr><td>1003</td><td>Dwight</td><td>Schrute</td><td>Salesman</td><td>63000</td></tr>",
                            "<tr><td>1004</td><td>Angela</td><td>Martin</td><td>Accountant</td><td>47000</td></tr>",
                            "<tr><td>1005</td><td>Toby</td><td>Flenderson</td><td>HR</td><td>50000</td></tr>",
                            "<tr><td>1006</td><td>Michael</td><td>Scott</td><td>Regional Manager</td><td>65000</td></tr>",
                            "<tr><td>1007</td><td>Meredith</td><td>Palmer</td><td>Supplier Relations</td><td>41000</td></tr>",
                            "<tr><td>1008</td><td>Stanley</td><td>Hudson</td><td>Salesman</td><td>48000</td></tr>",
                            "<tr><td>1009</td><td>Kevin</td><td>Malone</td><td>Accountant</td><td>42000</td></tr>",
                            "</table>"
                        ]
                    }
                }
            ],
            "execution_count": 17
        },
        {
            "cell_type": "code",
            "source": [
                "SELECT EmployeeDemographics.EmployeeID, FirstName, LastName, Salary\n",
                "FROM EmployeeDemographics\n",
                "INNER JOIN EmployeeSalary\n",
                "    ON EmployeeDemographics.EmployeeID = EmployeeSalary.EmployeeID\n",
                "WHERE FirstName <> 'Michael'\n",
                "ORDER BY Salary DESC"
            ],
            "metadata": {
                "language": "sql",
                "azdata_cell_guid": "22033b82-9ba8-4623-a491-0ac571a065bb"
            },
            "outputs": [
                {
                    "output_type": "display_data",
                    "data": {
                        "text/html": "(8 row(s) affected)"
                    },
                    "metadata": {}
                },
                {
                    "output_type": "display_data",
                    "data": {
                        "text/html": "Total execution time: 00:00:01.005"
                    },
                    "metadata": {}
                },
                {
                    "output_type": "execute_result",
                    "metadata": {},
                    "execution_count": 23,
                    "data": {
                        "application/vnd.dataresource+json": {
                            "schema": {
                                "fields": [
                                    {
                                        "name": "EmployeeID"
                                    },
                                    {
                                        "name": "FirstName"
                                    },
                                    {
                                        "name": "LastName"
                                    },
                                    {
                                        "name": "Salary"
                                    }
                                ]
                            },
                            "data": [
                                {
                                    "EmployeeID": "1003",
                                    "FirstName": "Dwight",
                                    "LastName": "Schrute",
                                    "Salary": "63000"
                                },
                                {
                                    "EmployeeID": "1005",
                                    "FirstName": "Toby",
                                    "LastName": "Flenderson",
                                    "Salary": "50000"
                                },
                                {
                                    "EmployeeID": "1008",
                                    "FirstName": "Stanley",
                                    "LastName": "Hudson",
                                    "Salary": "48000"
                                },
                                {
                                    "EmployeeID": "1004",
                                    "FirstName": "Angela",
                                    "LastName": "Martin",
                                    "Salary": "47000"
                                },
                                {
                                    "EmployeeID": "1001",
                                    "FirstName": "Jim",
                                    "LastName": "Halpert",
                                    "Salary": "45000"
                                },
                                {
                                    "EmployeeID": "1009",
                                    "FirstName": "Kevin",
                                    "LastName": "Malone",
                                    "Salary": "42000"
                                },
                                {
                                    "EmployeeID": "1007",
                                    "FirstName": "Meredith",
                                    "LastName": "Palmer",
                                    "Salary": "41000"
                                },
                                {
                                    "EmployeeID": "1002",
                                    "FirstName": "Pam",
                                    "LastName": "Beasley",
                                    "Salary": "36000"
                                }
                            ]
                        },
                        "text/html": [
                            "<table>",
                            "<tr><th>EmployeeID</th><th>FirstName</th><th>LastName</th><th>Salary</th></tr>",
                            "<tr><td>1003</td><td>Dwight</td><td>Schrute</td><td>63000</td></tr>",
                            "<tr><td>1005</td><td>Toby</td><td>Flenderson</td><td>50000</td></tr>",
                            "<tr><td>1008</td><td>Stanley</td><td>Hudson</td><td>48000</td></tr>",
                            "<tr><td>1004</td><td>Angela</td><td>Martin</td><td>47000</td></tr>",
                            "<tr><td>1001</td><td>Jim</td><td>Halpert</td><td>45000</td></tr>",
                            "<tr><td>1009</td><td>Kevin</td><td>Malone</td><td>42000</td></tr>",
                            "<tr><td>1007</td><td>Meredith</td><td>Palmer</td><td>41000</td></tr>",
                            "<tr><td>1002</td><td>Pam</td><td>Beasley</td><td>36000</td></tr>",
                            "</table>"
                        ]
                    }
                }
            ],
            "execution_count": 23
        },
        {
            "cell_type": "code",
            "source": [
                "SELECT *\n",
                "FROM EmployeeDemographics\n",
                "INNER JOIN EmployeeSalary\n",
                "    ON EmployeeDemographics.EmployeeID = EmployeeSalary.EmployeeID"
            ],
            "metadata": {
                "language": "sql",
                "azdata_cell_guid": "748a523e-5619-4134-a2e3-493eb34691ae"
            },
            "outputs": [
                {
                    "output_type": "display_data",
                    "data": {
                        "text/html": "(9 row(s) affected)"
                    },
                    "metadata": {}
                },
                {
                    "output_type": "display_data",
                    "data": {
                        "text/html": "Total execution time: 00:00:01.008"
                    },
                    "metadata": {}
                },
                {
                    "output_type": "execute_result",
                    "metadata": {},
                    "execution_count": 24,
                    "data": {
                        "application/vnd.dataresource+json": {
                            "schema": {
                                "fields": [
                                    {
                                        "name": "EmployeeID"
                                    },
                                    {
                                        "name": "FirstName"
                                    },
                                    {
                                        "name": "LastName"
                                    },
                                    {
                                        "name": "Age"
                                    },
                                    {
                                        "name": "Gender"
                                    },
                                    {
                                        "name": "EmployeeID"
                                    },
                                    {
                                        "name": "JobTitle"
                                    },
                                    {
                                        "name": "Salary"
                                    }
                                ]
                            },
                            "data": [
                                {
                                    "EmployeeID": "1001",
                                    "FirstName": "Jim",
                                    "LastName": "Halpert",
                                    "Age": "30",
                                    "Gender": "Male",
                                    "JobTitle": "Salesman",
                                    "Salary": "45000"
                                },
                                {
                                    "EmployeeID": "1002",
                                    "FirstName": "Pam",
                                    "LastName": "Beasley",
                                    "Age": "30",
                                    "Gender": "Female",
                                    "JobTitle": "Receptionist",
                                    "Salary": "36000"
                                },
                                {
                                    "EmployeeID": "1003",
                                    "FirstName": "Dwight",
                                    "LastName": "Schrute",
                                    "Age": "29",
                                    "Gender": "Male",
                                    "JobTitle": "Salesman",
                                    "Salary": "63000"
                                },
                                {
                                    "EmployeeID": "1004",
                                    "FirstName": "Angela",
                                    "LastName": "Martin",
                                    "Age": "31",
                                    "Gender": "Female",
                                    "JobTitle": "Accountant",
                                    "Salary": "47000"
                                },
                                {
                                    "EmployeeID": "1005",
                                    "FirstName": "Toby",
                                    "LastName": "Flenderson",
                                    "Age": "32",
                                    "Gender": "Male",
                                    "JobTitle": "HR",
                                    "Salary": "50000"
                                },
                                {
                                    "EmployeeID": "1006",
                                    "FirstName": "Michael",
                                    "LastName": "Scott",
                                    "Age": "35",
                                    "Gender": "Male",
                                    "JobTitle": "Regional Manager",
                                    "Salary": "65000"
                                },
                                {
                                    "EmployeeID": "1007",
                                    "FirstName": "Meredith",
                                    "LastName": "Palmer",
                                    "Age": "32",
                                    "Gender": "Female",
                                    "JobTitle": "Supplier Relations",
                                    "Salary": "41000"
                                },
                                {
                                    "EmployeeID": "1008",
                                    "FirstName": "Stanley",
                                    "LastName": "Hudson",
                                    "Age": "38",
                                    "Gender": "Male",
                                    "JobTitle": "Salesman",
                                    "Salary": "48000"
                                },
                                {
                                    "EmployeeID": "1009",
                                    "FirstName": "Kevin",
                                    "LastName": "Malone",
                                    "Age": "31",
                                    "Gender": "Male",
                                    "JobTitle": "Accountant",
                                    "Salary": "42000"
                                }
                            ]
                        },
                        "text/html": [
                            "<table>",
                            "<tr><th>EmployeeID</th><th>FirstName</th><th>LastName</th><th>Age</th><th>Gender</th><th>EmployeeID</th><th>JobTitle</th><th>Salary</th></tr>",
                            "<tr><td>1001</td><td>Jim</td><td>Halpert</td><td>30</td><td>Male</td><td>1001</td><td>Salesman</td><td>45000</td></tr>",
                            "<tr><td>1002</td><td>Pam</td><td>Beasley</td><td>30</td><td>Female</td><td>1002</td><td>Receptionist</td><td>36000</td></tr>",
                            "<tr><td>1003</td><td>Dwight</td><td>Schrute</td><td>29</td><td>Male</td><td>1003</td><td>Salesman</td><td>63000</td></tr>",
                            "<tr><td>1004</td><td>Angela</td><td>Martin</td><td>31</td><td>Female</td><td>1004</td><td>Accountant</td><td>47000</td></tr>",
                            "<tr><td>1005</td><td>Toby</td><td>Flenderson</td><td>32</td><td>Male</td><td>1005</td><td>HR</td><td>50000</td></tr>",
                            "<tr><td>1006</td><td>Michael</td><td>Scott</td><td>35</td><td>Male</td><td>1006</td><td>Regional Manager</td><td>65000</td></tr>",
                            "<tr><td>1007</td><td>Meredith</td><td>Palmer</td><td>32</td><td>Female</td><td>1007</td><td>Supplier Relations</td><td>41000</td></tr>",
                            "<tr><td>1008</td><td>Stanley</td><td>Hudson</td><td>38</td><td>Male</td><td>1008</td><td>Salesman</td><td>48000</td></tr>",
                            "<tr><td>1009</td><td>Kevin</td><td>Malone</td><td>31</td><td>Male</td><td>1009</td><td>Accountant</td><td>42000</td></tr>",
                            "</table>"
                        ]
                    }
                }
            ],
            "execution_count": 24
        },
        {
            "cell_type": "code",
            "source": [
                "SELECT JobTitle, AVG(Salary)\n",
                "FROM EmployeeDemographics\n",
                "INNER JOIN EmployeeSalary\n",
                "    ON EmployeeDemographics.EmployeeID = EmployeeSalary.EmployeeID\n",
                "WHERE JobTitle LIKE 'Sales%'\n",
                "GROUP by JobTitle"
            ],
            "metadata": {
                "language": "sql",
                "azdata_cell_guid": "fa40b1bf-334d-44ba-87cb-c1834ac76d3b"
            },
            "outputs": [
                {
                    "output_type": "display_data",
                    "data": {
                        "text/html": "(1 row(s) affected)"
                    },
                    "metadata": {}
                },
                {
                    "output_type": "display_data",
                    "data": {
                        "text/html": "Total execution time: 00:00:01.007"
                    },
                    "metadata": {}
                },
                {
                    "output_type": "execute_result",
                    "metadata": {},
                    "execution_count": 27,
                    "data": {
                        "application/vnd.dataresource+json": {
                            "schema": {
                                "fields": [
                                    {
                                        "name": "JobTitle"
                                    },
                                    {
                                        "name": "AVG(Salary)"
                                    }
                                ]
                            },
                            "data": [
                                {
                                    "JobTitle": "Salesman",
                                    "AVG(Salary)": "52000.0000"
                                }
                            ]
                        },
                        "text/html": [
                            "<table>",
                            "<tr><th>JobTitle</th><th>AVG(Salary)</th></tr>",
                            "<tr><td>Salesman</td><td>52000.0000</td></tr>",
                            "</table>"
                        ]
                    }
                }
            ],
            "execution_count": 27
        },
        {
            "cell_type": "markdown",
            "source": [
                "**UNION**"
            ],
            "metadata": {
                "language": "sql",
                "azdata_cell_guid": "2ecb7534-46b3-41b6-b500-8d56356f6103"
            },
            "attachments": {}
        },
        {
            "cell_type": "code",
            "source": [
                "Create Table WareHouseEmployeeDemographics \n",
                "(EmployeeID int, \n",
                "FirstName varchar(50), \n",
                "LastName varchar(50), \n",
                "Age int, \n",
                "Gender varchar(50)\n",
                ")"
            ],
            "metadata": {
                "language": "sql",
                "azdata_cell_guid": "91fd3290-4e22-4f7e-8232-d01ebf37b8d5",
                "tags": [
                    "hide_input"
                ]
            },
            "outputs": [
                {
                    "output_type": "display_data",
                    "data": {
                        "text/html": "Commands completed successfully"
                    },
                    "metadata": {}
                },
                {
                    "output_type": "display_data",
                    "data": {
                        "text/html": "Total execution time: 00:00:00.017"
                    },
                    "metadata": {}
                }
            ],
            "execution_count": 28
        },
        {
            "cell_type": "code",
            "source": [
                "Insert into WareHouseEmployeeDemographics VALUES\n",
                "(1013, 'Darryl', 'Philbin', NULL, 'Male'),\n",
                "(1050, 'Roy', 'Anderson', 31, 'Male'),\n",
                "(1051, 'Hidetoshi', 'Hasagawa', 40, 'Male'),\n",
                "(1052, 'Val', 'Johnson', 31, 'Female')\n",
                ""
            ],
            "metadata": {
                "language": "sql",
                "azdata_cell_guid": "4abbd25f-7bb8-4f82-87f5-fccc28161b32",
                "tags": [
                    "hide_input"
                ]
            },
            "outputs": [
                {
                    "output_type": "display_data",
                    "data": {
                        "text/html": "Commands completed successfully"
                    },
                    "metadata": {}
                },
                {
                    "output_type": "display_data",
                    "data": {
                        "text/html": "Total execution time: 00:00:00.002"
                    },
                    "metadata": {}
                }
            ],
            "execution_count": 29
        },
        {
            "cell_type": "code",
            "source": [
                "SELECT * \n",
                "FROM EmployeeDemographics;\n",
                "\n",
                "SELECT * \n",
                "FROM WareHouseEmployeeDemographics\n",
                ""
            ],
            "metadata": {
                "language": "sql",
                "azdata_cell_guid": "5e6dd0e5-da79-42b7-be60-10e4548290f6"
            },
            "outputs": [
                {
                    "output_type": "display_data",
                    "data": {
                        "text/html": "(12 row(s) affected)"
                    },
                    "metadata": {}
                },
                {
                    "output_type": "display_data",
                    "data": {
                        "text/html": "(4 row(s) affected)"
                    },
                    "metadata": {}
                },
                {
                    "output_type": "display_data",
                    "data": {
                        "text/html": "Total execution time: 00:00:02.014"
                    },
                    "metadata": {}
                },
                {
                    "output_type": "execute_result",
                    "metadata": {},
                    "execution_count": 31,
                    "data": {
                        "application/vnd.dataresource+json": {
                            "schema": {
                                "fields": [
                                    {
                                        "name": "EmployeeID"
                                    },
                                    {
                                        "name": "FirstName"
                                    },
                                    {
                                        "name": "LastName"
                                    },
                                    {
                                        "name": "Age"
                                    },
                                    {
                                        "name": "Gender"
                                    }
                                ]
                            },
                            "data": [
                                {
                                    "EmployeeID": "1001",
                                    "FirstName": "Jim",
                                    "LastName": "Halpert",
                                    "Age": "30",
                                    "Gender": "Male"
                                },
                                {
                                    "EmployeeID": "1002",
                                    "FirstName": "Pam",
                                    "LastName": "Beasley",
                                    "Age": "30",
                                    "Gender": "Female"
                                },
                                {
                                    "EmployeeID": "1003",
                                    "FirstName": "Dwight",
                                    "LastName": "Schrute",
                                    "Age": "29",
                                    "Gender": "Male"
                                },
                                {
                                    "EmployeeID": "1004",
                                    "FirstName": "Angela",
                                    "LastName": "Martin",
                                    "Age": "31",
                                    "Gender": "Female"
                                },
                                {
                                    "EmployeeID": "1005",
                                    "FirstName": "Toby",
                                    "LastName": "Flenderson",
                                    "Age": "32",
                                    "Gender": "Male"
                                },
                                {
                                    "EmployeeID": "1006",
                                    "FirstName": "Michael",
                                    "LastName": "Scott",
                                    "Age": "35",
                                    "Gender": "Male"
                                },
                                {
                                    "EmployeeID": "1007",
                                    "FirstName": "Meredith",
                                    "LastName": "Palmer",
                                    "Age": "32",
                                    "Gender": "Female"
                                },
                                {
                                    "EmployeeID": "1008",
                                    "FirstName": "Stanley",
                                    "LastName": "Hudson",
                                    "Age": "38",
                                    "Gender": "Male"
                                },
                                {
                                    "EmployeeID": "1009",
                                    "FirstName": "Kevin",
                                    "LastName": "Malone",
                                    "Age": "31",
                                    "Gender": "Male"
                                },
                                {
                                    "EmployeeID": "1011",
                                    "FirstName": "Ryan",
                                    "LastName": "Howard",
                                    "Age": "26",
                                    "Gender": "Male"
                                },
                                {
                                    "EmployeeID": "NULL",
                                    "FirstName": "Holly",
                                    "LastName": "Flax",
                                    "Age": "NULL",
                                    "Gender": "NULL"
                                },
                                {
                                    "EmployeeID": "1013",
                                    "FirstName": "Darryl",
                                    "LastName": "Philbin",
                                    "Age": "NULL",
                                    "Gender": "Male"
                                }
                            ]
                        },
                        "text/html": [
                            "<table>",
                            "<tr><th>EmployeeID</th><th>FirstName</th><th>LastName</th><th>Age</th><th>Gender</th></tr>",
                            "<tr><td>1001</td><td>Jim</td><td>Halpert</td><td>30</td><td>Male</td></tr>",
                            "<tr><td>1002</td><td>Pam</td><td>Beasley</td><td>30</td><td>Female</td></tr>",
                            "<tr><td>1003</td><td>Dwight</td><td>Schrute</td><td>29</td><td>Male</td></tr>",
                            "<tr><td>1004</td><td>Angela</td><td>Martin</td><td>31</td><td>Female</td></tr>",
                            "<tr><td>1005</td><td>Toby</td><td>Flenderson</td><td>32</td><td>Male</td></tr>",
                            "<tr><td>1006</td><td>Michael</td><td>Scott</td><td>35</td><td>Male</td></tr>",
                            "<tr><td>1007</td><td>Meredith</td><td>Palmer</td><td>32</td><td>Female</td></tr>",
                            "<tr><td>1008</td><td>Stanley</td><td>Hudson</td><td>38</td><td>Male</td></tr>",
                            "<tr><td>1009</td><td>Kevin</td><td>Malone</td><td>31</td><td>Male</td></tr>",
                            "<tr><td>1011</td><td>Ryan</td><td>Howard</td><td>26</td><td>Male</td></tr>",
                            "<tr><td>NULL</td><td>Holly</td><td>Flax</td><td>NULL</td><td>NULL</td></tr>",
                            "<tr><td>1013</td><td>Darryl</td><td>Philbin</td><td>NULL</td><td>Male</td></tr>",
                            "</table>"
                        ]
                    }
                },
                {
                    "output_type": "execute_result",
                    "metadata": {},
                    "execution_count": 31,
                    "data": {
                        "application/vnd.dataresource+json": {
                            "schema": {
                                "fields": [
                                    {
                                        "name": "EmployeeID"
                                    },
                                    {
                                        "name": "FirstName"
                                    },
                                    {
                                        "name": "LastName"
                                    },
                                    {
                                        "name": "Age"
                                    },
                                    {
                                        "name": "Gender"
                                    }
                                ]
                            },
                            "data": [
                                {
                                    "EmployeeID": "1013",
                                    "FirstName": "Darryl",
                                    "LastName": "Philbin",
                                    "Age": "NULL",
                                    "Gender": "Male"
                                },
                                {
                                    "EmployeeID": "1050",
                                    "FirstName": "Roy",
                                    "LastName": "Anderson",
                                    "Age": "31",
                                    "Gender": "Male"
                                },
                                {
                                    "EmployeeID": "1051",
                                    "FirstName": "Hidetoshi",
                                    "LastName": "Hasagawa",
                                    "Age": "40",
                                    "Gender": "Male"
                                },
                                {
                                    "EmployeeID": "1052",
                                    "FirstName": "Val",
                                    "LastName": "Johnson",
                                    "Age": "31",
                                    "Gender": "Female"
                                }
                            ]
                        },
                        "text/html": [
                            "<table>",
                            "<tr><th>EmployeeID</th><th>FirstName</th><th>LastName</th><th>Age</th><th>Gender</th></tr>",
                            "<tr><td>1013</td><td>Darryl</td><td>Philbin</td><td>NULL</td><td>Male</td></tr>",
                            "<tr><td>1050</td><td>Roy</td><td>Anderson</td><td>31</td><td>Male</td></tr>",
                            "<tr><td>1051</td><td>Hidetoshi</td><td>Hasagawa</td><td>40</td><td>Male</td></tr>",
                            "<tr><td>1052</td><td>Val</td><td>Johnson</td><td>31</td><td>Female</td></tr>",
                            "</table>"
                        ]
                    }
                }
            ],
            "execution_count": 31
        },
        {
            "cell_type": "code",
            "source": [
                "SELECT * \n",
                "FROM EmployeeDemographics\n",
                "UNION\n",
                "SELECT * \n",
                "FROM WareHouseEmployeeDemographics"
            ],
            "metadata": {
                "language": "sql",
                "azdata_cell_guid": "b0099378-f02c-4161-a693-8d4afc37cd8a"
            },
            "outputs": [
                {
                    "output_type": "display_data",
                    "data": {
                        "text/html": "(15 row(s) affected)"
                    },
                    "metadata": {}
                },
                {
                    "output_type": "display_data",
                    "data": {
                        "text/html": "Total execution time: 00:00:01.003"
                    },
                    "metadata": {}
                },
                {
                    "output_type": "execute_result",
                    "metadata": {},
                    "execution_count": 32,
                    "data": {
                        "application/vnd.dataresource+json": {
                            "schema": {
                                "fields": [
                                    {
                                        "name": "EmployeeID"
                                    },
                                    {
                                        "name": "FirstName"
                                    },
                                    {
                                        "name": "LastName"
                                    },
                                    {
                                        "name": "Age"
                                    },
                                    {
                                        "name": "Gender"
                                    }
                                ]
                            },
                            "data": [
                                {
                                    "EmployeeID": "1001",
                                    "FirstName": "Jim",
                                    "LastName": "Halpert",
                                    "Age": "30",
                                    "Gender": "Male"
                                },
                                {
                                    "EmployeeID": "1002",
                                    "FirstName": "Pam",
                                    "LastName": "Beasley",
                                    "Age": "30",
                                    "Gender": "Female"
                                },
                                {
                                    "EmployeeID": "1003",
                                    "FirstName": "Dwight",
                                    "LastName": "Schrute",
                                    "Age": "29",
                                    "Gender": "Male"
                                },
                                {
                                    "EmployeeID": "1004",
                                    "FirstName": "Angela",
                                    "LastName": "Martin",
                                    "Age": "31",
                                    "Gender": "Female"
                                },
                                {
                                    "EmployeeID": "1005",
                                    "FirstName": "Toby",
                                    "LastName": "Flenderson",
                                    "Age": "32",
                                    "Gender": "Male"
                                },
                                {
                                    "EmployeeID": "1006",
                                    "FirstName": "Michael",
                                    "LastName": "Scott",
                                    "Age": "35",
                                    "Gender": "Male"
                                },
                                {
                                    "EmployeeID": "1007",
                                    "FirstName": "Meredith",
                                    "LastName": "Palmer",
                                    "Age": "32",
                                    "Gender": "Female"
                                },
                                {
                                    "EmployeeID": "1008",
                                    "FirstName": "Stanley",
                                    "LastName": "Hudson",
                                    "Age": "38",
                                    "Gender": "Male"
                                },
                                {
                                    "EmployeeID": "1009",
                                    "FirstName": "Kevin",
                                    "LastName": "Malone",
                                    "Age": "31",
                                    "Gender": "Male"
                                },
                                {
                                    "EmployeeID": "1011",
                                    "FirstName": "Ryan",
                                    "LastName": "Howard",
                                    "Age": "26",
                                    "Gender": "Male"
                                },
                                {
                                    "EmployeeID": "NULL",
                                    "FirstName": "Holly",
                                    "LastName": "Flax",
                                    "Age": "NULL",
                                    "Gender": "NULL"
                                },
                                {
                                    "EmployeeID": "1013",
                                    "FirstName": "Darryl",
                                    "LastName": "Philbin",
                                    "Age": "NULL",
                                    "Gender": "Male"
                                },
                                {
                                    "EmployeeID": "1050",
                                    "FirstName": "Roy",
                                    "LastName": "Anderson",
                                    "Age": "31",
                                    "Gender": "Male"
                                },
                                {
                                    "EmployeeID": "1051",
                                    "FirstName": "Hidetoshi",
                                    "LastName": "Hasagawa",
                                    "Age": "40",
                                    "Gender": "Male"
                                },
                                {
                                    "EmployeeID": "1052",
                                    "FirstName": "Val",
                                    "LastName": "Johnson",
                                    "Age": "31",
                                    "Gender": "Female"
                                }
                            ]
                        },
                        "text/html": [
                            "<table>",
                            "<tr><th>EmployeeID</th><th>FirstName</th><th>LastName</th><th>Age</th><th>Gender</th></tr>",
                            "<tr><td>1001</td><td>Jim</td><td>Halpert</td><td>30</td><td>Male</td></tr>",
                            "<tr><td>1002</td><td>Pam</td><td>Beasley</td><td>30</td><td>Female</td></tr>",
                            "<tr><td>1003</td><td>Dwight</td><td>Schrute</td><td>29</td><td>Male</td></tr>",
                            "<tr><td>1004</td><td>Angela</td><td>Martin</td><td>31</td><td>Female</td></tr>",
                            "<tr><td>1005</td><td>Toby</td><td>Flenderson</td><td>32</td><td>Male</td></tr>",
                            "<tr><td>1006</td><td>Michael</td><td>Scott</td><td>35</td><td>Male</td></tr>",
                            "<tr><td>1007</td><td>Meredith</td><td>Palmer</td><td>32</td><td>Female</td></tr>",
                            "<tr><td>1008</td><td>Stanley</td><td>Hudson</td><td>38</td><td>Male</td></tr>",
                            "<tr><td>1009</td><td>Kevin</td><td>Malone</td><td>31</td><td>Male</td></tr>",
                            "<tr><td>1011</td><td>Ryan</td><td>Howard</td><td>26</td><td>Male</td></tr>",
                            "<tr><td>NULL</td><td>Holly</td><td>Flax</td><td>NULL</td><td>NULL</td></tr>",
                            "<tr><td>1013</td><td>Darryl</td><td>Philbin</td><td>NULL</td><td>Male</td></tr>",
                            "<tr><td>1050</td><td>Roy</td><td>Anderson</td><td>31</td><td>Male</td></tr>",
                            "<tr><td>1051</td><td>Hidetoshi</td><td>Hasagawa</td><td>40</td><td>Male</td></tr>",
                            "<tr><td>1052</td><td>Val</td><td>Johnson</td><td>31</td><td>Female</td></tr>",
                            "</table>"
                        ]
                    }
                }
            ],
            "execution_count": 32
        },
        {
            "cell_type": "code",
            "source": [
                "SELECT * \n",
                "FROM EmployeeDemographics\n",
                "UNION ALL -- show duplicates\n",
                "SELECT * \n",
                "FROM WareHouseEmployeeDemographics"
            ],
            "metadata": {
                "language": "sql",
                "azdata_cell_guid": "8f625410-77ec-46aa-8488-a37d8b441c00"
            },
            "outputs": [
                {
                    "output_type": "display_data",
                    "data": {
                        "text/html": "(16 row(s) affected)"
                    },
                    "metadata": {}
                },
                {
                    "output_type": "display_data",
                    "data": {
                        "text/html": "Total execution time: 00:00:01.006"
                    },
                    "metadata": {}
                },
                {
                    "output_type": "execute_result",
                    "metadata": {},
                    "execution_count": 33,
                    "data": {
                        "application/vnd.dataresource+json": {
                            "schema": {
                                "fields": [
                                    {
                                        "name": "EmployeeID"
                                    },
                                    {
                                        "name": "FirstName"
                                    },
                                    {
                                        "name": "LastName"
                                    },
                                    {
                                        "name": "Age"
                                    },
                                    {
                                        "name": "Gender"
                                    }
                                ]
                            },
                            "data": [
                                {
                                    "EmployeeID": "1001",
                                    "FirstName": "Jim",
                                    "LastName": "Halpert",
                                    "Age": "30",
                                    "Gender": "Male"
                                },
                                {
                                    "EmployeeID": "1002",
                                    "FirstName": "Pam",
                                    "LastName": "Beasley",
                                    "Age": "30",
                                    "Gender": "Female"
                                },
                                {
                                    "EmployeeID": "1003",
                                    "FirstName": "Dwight",
                                    "LastName": "Schrute",
                                    "Age": "29",
                                    "Gender": "Male"
                                },
                                {
                                    "EmployeeID": "1004",
                                    "FirstName": "Angela",
                                    "LastName": "Martin",
                                    "Age": "31",
                                    "Gender": "Female"
                                },
                                {
                                    "EmployeeID": "1005",
                                    "FirstName": "Toby",
                                    "LastName": "Flenderson",
                                    "Age": "32",
                                    "Gender": "Male"
                                },
                                {
                                    "EmployeeID": "1006",
                                    "FirstName": "Michael",
                                    "LastName": "Scott",
                                    "Age": "35",
                                    "Gender": "Male"
                                },
                                {
                                    "EmployeeID": "1007",
                                    "FirstName": "Meredith",
                                    "LastName": "Palmer",
                                    "Age": "32",
                                    "Gender": "Female"
                                },
                                {
                                    "EmployeeID": "1008",
                                    "FirstName": "Stanley",
                                    "LastName": "Hudson",
                                    "Age": "38",
                                    "Gender": "Male"
                                },
                                {
                                    "EmployeeID": "1009",
                                    "FirstName": "Kevin",
                                    "LastName": "Malone",
                                    "Age": "31",
                                    "Gender": "Male"
                                },
                                {
                                    "EmployeeID": "1011",
                                    "FirstName": "Ryan",
                                    "LastName": "Howard",
                                    "Age": "26",
                                    "Gender": "Male"
                                },
                                {
                                    "EmployeeID": "NULL",
                                    "FirstName": "Holly",
                                    "LastName": "Flax",
                                    "Age": "NULL",
                                    "Gender": "NULL"
                                },
                                {
                                    "EmployeeID": "1013",
                                    "FirstName": "Darryl",
                                    "LastName": "Philbin",
                                    "Age": "NULL",
                                    "Gender": "Male"
                                },
                                {
                                    "EmployeeID": "1013",
                                    "FirstName": "Darryl",
                                    "LastName": "Philbin",
                                    "Age": "NULL",
                                    "Gender": "Male"
                                },
                                {
                                    "EmployeeID": "1050",
                                    "FirstName": "Roy",
                                    "LastName": "Anderson",
                                    "Age": "31",
                                    "Gender": "Male"
                                },
                                {
                                    "EmployeeID": "1051",
                                    "FirstName": "Hidetoshi",
                                    "LastName": "Hasagawa",
                                    "Age": "40",
                                    "Gender": "Male"
                                },
                                {
                                    "EmployeeID": "1052",
                                    "FirstName": "Val",
                                    "LastName": "Johnson",
                                    "Age": "31",
                                    "Gender": "Female"
                                }
                            ]
                        },
                        "text/html": [
                            "<table>",
                            "<tr><th>EmployeeID</th><th>FirstName</th><th>LastName</th><th>Age</th><th>Gender</th></tr>",
                            "<tr><td>1001</td><td>Jim</td><td>Halpert</td><td>30</td><td>Male</td></tr>",
                            "<tr><td>1002</td><td>Pam</td><td>Beasley</td><td>30</td><td>Female</td></tr>",
                            "<tr><td>1003</td><td>Dwight</td><td>Schrute</td><td>29</td><td>Male</td></tr>",
                            "<tr><td>1004</td><td>Angela</td><td>Martin</td><td>31</td><td>Female</td></tr>",
                            "<tr><td>1005</td><td>Toby</td><td>Flenderson</td><td>32</td><td>Male</td></tr>",
                            "<tr><td>1006</td><td>Michael</td><td>Scott</td><td>35</td><td>Male</td></tr>",
                            "<tr><td>1007</td><td>Meredith</td><td>Palmer</td><td>32</td><td>Female</td></tr>",
                            "<tr><td>1008</td><td>Stanley</td><td>Hudson</td><td>38</td><td>Male</td></tr>",
                            "<tr><td>1009</td><td>Kevin</td><td>Malone</td><td>31</td><td>Male</td></tr>",
                            "<tr><td>1011</td><td>Ryan</td><td>Howard</td><td>26</td><td>Male</td></tr>",
                            "<tr><td>NULL</td><td>Holly</td><td>Flax</td><td>NULL</td><td>NULL</td></tr>",
                            "<tr><td>1013</td><td>Darryl</td><td>Philbin</td><td>NULL</td><td>Male</td></tr>",
                            "<tr><td>1013</td><td>Darryl</td><td>Philbin</td><td>NULL</td><td>Male</td></tr>",
                            "<tr><td>1050</td><td>Roy</td><td>Anderson</td><td>31</td><td>Male</td></tr>",
                            "<tr><td>1051</td><td>Hidetoshi</td><td>Hasagawa</td><td>40</td><td>Male</td></tr>",
                            "<tr><td>1052</td><td>Val</td><td>Johnson</td><td>31</td><td>Female</td></tr>",
                            "</table>"
                        ]
                    }
                }
            ],
            "execution_count": 33
        },
        {
            "cell_type": "markdown",
            "source": [
                "**CASE**"
            ],
            "metadata": {
                "language": "sql",
                "azdata_cell_guid": "5b6e81b5-e666-40da-b830-fed92d9af3fc"
            },
            "attachments": {}
        },
        {
            "cell_type": "code",
            "source": [
                "SELECT FirstName, LastName, Age,\n",
                "CASE\n",
                "    WHEN Age = 26 THEN 'Troll'\n",
                "    WHEN Age > 30 THEN 'Old'\n",
                "    ELSE 'Young'\n",
                "END\n",
                "FROM EmployeeDemographics\n",
                "WHERE Age is NOT NULL\n",
                "ORDER by Age"
            ],
            "metadata": {
                "language": "sql",
                "azdata_cell_guid": "811df4de-b0e1-406f-bf91-ccd9574f228a"
            },
            "outputs": [
                {
                    "output_type": "display_data",
                    "data": {
                        "text/html": "(10 row(s) affected)"
                    },
                    "metadata": {}
                },
                {
                    "output_type": "display_data",
                    "data": {
                        "text/html": "Total execution time: 00:00:01.006"
                    },
                    "metadata": {}
                },
                {
                    "output_type": "execute_result",
                    "metadata": {},
                    "execution_count": 37,
                    "data": {
                        "application/vnd.dataresource+json": {
                            "schema": {
                                "fields": [
                                    {
                                        "name": "FirstName"
                                    },
                                    {
                                        "name": "LastName"
                                    },
                                    {
                                        "name": "Age"
                                    },
                                    {
                                        "name": "CASE\n    WHEN Age = 26 THEN &#39;Troll&#39;\n    WHEN Age &gt; 30 THEN &#39;Old&#39;\n    ELSE &#39;Young&#39;\nEND"
                                    }
                                ]
                            },
                            "data": [
                                {
                                    "FirstName": "Ryan",
                                    "LastName": "Howard",
                                    "Age": "26",
                                    "CASE\n    WHEN Age = 26 THEN 'Troll'\n    WHEN Age > 30 THEN 'Old'\n    ELSE 'Young'\nEND": "Troll"
                                },
                                {
                                    "FirstName": "Dwight",
                                    "LastName": "Schrute",
                                    "Age": "29",
                                    "CASE\n    WHEN Age = 26 THEN 'Troll'\n    WHEN Age > 30 THEN 'Old'\n    ELSE 'Young'\nEND": "Young"
                                },
                                {
                                    "FirstName": "Jim",
                                    "LastName": "Halpert",
                                    "Age": "30",
                                    "CASE\n    WHEN Age = 26 THEN 'Troll'\n    WHEN Age > 30 THEN 'Old'\n    ELSE 'Young'\nEND": "Young"
                                },
                                {
                                    "FirstName": "Pam",
                                    "LastName": "Beasley",
                                    "Age": "30",
                                    "CASE\n    WHEN Age = 26 THEN 'Troll'\n    WHEN Age > 30 THEN 'Old'\n    ELSE 'Young'\nEND": "Young"
                                },
                                {
                                    "FirstName": "Angela",
                                    "LastName": "Martin",
                                    "Age": "31",
                                    "CASE\n    WHEN Age = 26 THEN 'Troll'\n    WHEN Age > 30 THEN 'Old'\n    ELSE 'Young'\nEND": "Old"
                                },
                                {
                                    "FirstName": "Kevin",
                                    "LastName": "Malone",
                                    "Age": "31",
                                    "CASE\n    WHEN Age = 26 THEN 'Troll'\n    WHEN Age > 30 THEN 'Old'\n    ELSE 'Young'\nEND": "Old"
                                },
                                {
                                    "FirstName": "Toby",
                                    "LastName": "Flenderson",
                                    "Age": "32",
                                    "CASE\n    WHEN Age = 26 THEN 'Troll'\n    WHEN Age > 30 THEN 'Old'\n    ELSE 'Young'\nEND": "Old"
                                },
                                {
                                    "FirstName": "Meredith",
                                    "LastName": "Palmer",
                                    "Age": "32",
                                    "CASE\n    WHEN Age = 26 THEN 'Troll'\n    WHEN Age > 30 THEN 'Old'\n    ELSE 'Young'\nEND": "Old"
                                },
                                {
                                    "FirstName": "Michael",
                                    "LastName": "Scott",
                                    "Age": "35",
                                    "CASE\n    WHEN Age = 26 THEN 'Troll'\n    WHEN Age > 30 THEN 'Old'\n    ELSE 'Young'\nEND": "Old"
                                },
                                {
                                    "FirstName": "Stanley",
                                    "LastName": "Hudson",
                                    "Age": "38",
                                    "CASE\n    WHEN Age = 26 THEN 'Troll'\n    WHEN Age > 30 THEN 'Old'\n    ELSE 'Young'\nEND": "Old"
                                }
                            ]
                        },
                        "text/html": [
                            "<table>",
                            "<tr><th>FirstName</th><th>LastName</th><th>Age</th><th>CASE\n    WHEN Age = 26 THEN &#39;Troll&#39;\n    WHEN Age &gt; 30 THEN &#39;Old&#39;\n    ELSE &#39;Young&#39;\nEND</th></tr>",
                            "<tr><td>Ryan</td><td>Howard</td><td>26</td><td>Troll</td></tr>",
                            "<tr><td>Dwight</td><td>Schrute</td><td>29</td><td>Young</td></tr>",
                            "<tr><td>Jim</td><td>Halpert</td><td>30</td><td>Young</td></tr>",
                            "<tr><td>Pam</td><td>Beasley</td><td>30</td><td>Young</td></tr>",
                            "<tr><td>Angela</td><td>Martin</td><td>31</td><td>Old</td></tr>",
                            "<tr><td>Kevin</td><td>Malone</td><td>31</td><td>Old</td></tr>",
                            "<tr><td>Toby</td><td>Flenderson</td><td>32</td><td>Old</td></tr>",
                            "<tr><td>Meredith</td><td>Palmer</td><td>32</td><td>Old</td></tr>",
                            "<tr><td>Michael</td><td>Scott</td><td>35</td><td>Old</td></tr>",
                            "<tr><td>Stanley</td><td>Hudson</td><td>38</td><td>Old</td></tr>",
                            "</table>"
                        ]
                    }
                }
            ],
            "execution_count": 37
        },
        {
            "cell_type": "code",
            "source": [
                "SELECT FirstName, LastName, JobTitle, Salary, -- ',' before CASE\n",
                "CASE\n",
                "    WHEN JobTitle LIKE 'Sales%' THEN Salary * 1.1\n",
                "    WHEN JobTitle LIKE 'Accoun%' THEN Salary * 1.05\n",
                "    WHEN JobTitle = 'HR' THEN Salary * 1.000001\n",
                "    ELSE Salary * 1.03\n",
                "END AS SalaryAfterRaise\n",
                "FROM EmployeeDemographics\n",
                "JOIN EmployeeSalary\n",
                "    ON EmployeeDemographics.EmployeeID = EmployeeSalary.EmployeeID"
            ],
            "metadata": {
                "language": "sql",
                "azdata_cell_guid": "0b747356-e9ce-44de-b4c1-abf020e065c4"
            },
            "outputs": [
                {
                    "output_type": "display_data",
                    "data": {
                        "text/html": "(9 row(s) affected)"
                    },
                    "metadata": {}
                },
                {
                    "output_type": "display_data",
                    "data": {
                        "text/html": "Total execution time: 00:00:01.005"
                    },
                    "metadata": {}
                },
                {
                    "output_type": "execute_result",
                    "metadata": {},
                    "execution_count": 38,
                    "data": {
                        "application/vnd.dataresource+json": {
                            "schema": {
                                "fields": [
                                    {
                                        "name": "FirstName"
                                    },
                                    {
                                        "name": "LastName"
                                    },
                                    {
                                        "name": "JobTitle"
                                    },
                                    {
                                        "name": "Salary"
                                    },
                                    {
                                        "name": "SalaryAfterRaise"
                                    }
                                ]
                            },
                            "data": [
                                {
                                    "FirstName": "Jim",
                                    "LastName": "Halpert",
                                    "JobTitle": "Salesman",
                                    "Salary": "45000",
                                    "SalaryAfterRaise": "49500.0"
                                },
                                {
                                    "FirstName": "Pam",
                                    "LastName": "Beasley",
                                    "JobTitle": "Receptionist",
                                    "Salary": "36000",
                                    "SalaryAfterRaise": "37080.00"
                                },
                                {
                                    "FirstName": "Dwight",
                                    "LastName": "Schrute",
                                    "JobTitle": "Salesman",
                                    "Salary": "63000",
                                    "SalaryAfterRaise": "69300.0"
                                },
                                {
                                    "FirstName": "Angela",
                                    "LastName": "Martin",
                                    "JobTitle": "Accountant",
                                    "Salary": "47000",
                                    "SalaryAfterRaise": "49350.00"
                                },
                                {
                                    "FirstName": "Toby",
                                    "LastName": "Flenderson",
                                    "JobTitle": "HR",
                                    "Salary": "50000",
                                    "SalaryAfterRaise": "50000.050000"
                                },
                                {
                                    "FirstName": "Michael",
                                    "LastName": "Scott",
                                    "JobTitle": "Regional Manager",
                                    "Salary": "65000",
                                    "SalaryAfterRaise": "66950.00"
                                },
                                {
                                    "FirstName": "Meredith",
                                    "LastName": "Palmer",
                                    "JobTitle": "Supplier Relations",
                                    "Salary": "41000",
                                    "SalaryAfterRaise": "42230.00"
                                },
                                {
                                    "FirstName": "Stanley",
                                    "LastName": "Hudson",
                                    "JobTitle": "Salesman",
                                    "Salary": "48000",
                                    "SalaryAfterRaise": "52800.0"
                                },
                                {
                                    "FirstName": "Kevin",
                                    "LastName": "Malone",
                                    "JobTitle": "Accountant",
                                    "Salary": "42000",
                                    "SalaryAfterRaise": "44100.00"
                                }
                            ]
                        },
                        "text/html": [
                            "<table>",
                            "<tr><th>FirstName</th><th>LastName</th><th>JobTitle</th><th>Salary</th><th>SalaryAfterRaise</th></tr>",
                            "<tr><td>Jim</td><td>Halpert</td><td>Salesman</td><td>45000</td><td>49500.0</td></tr>",
                            "<tr><td>Pam</td><td>Beasley</td><td>Receptionist</td><td>36000</td><td>37080.00</td></tr>",
                            "<tr><td>Dwight</td><td>Schrute</td><td>Salesman</td><td>63000</td><td>69300.0</td></tr>",
                            "<tr><td>Angela</td><td>Martin</td><td>Accountant</td><td>47000</td><td>49350.00</td></tr>",
                            "<tr><td>Toby</td><td>Flenderson</td><td>HR</td><td>50000</td><td>50000.050000</td></tr>",
                            "<tr><td>Michael</td><td>Scott</td><td>Regional Manager</td><td>65000</td><td>66950.00</td></tr>",
                            "<tr><td>Meredith</td><td>Palmer</td><td>Supplier Relations</td><td>41000</td><td>42230.00</td></tr>",
                            "<tr><td>Stanley</td><td>Hudson</td><td>Salesman</td><td>48000</td><td>52800.0</td></tr>",
                            "<tr><td>Kevin</td><td>Malone</td><td>Accountant</td><td>42000</td><td>44100.00</td></tr>",
                            "</table>"
                        ]
                    }
                }
            ],
            "execution_count": 38
        },
        {
            "cell_type": "markdown",
            "source": [
                "**HAVING CLAUSE**"
            ],
            "metadata": {
                "language": "sql",
                "azdata_cell_guid": "f06df5e0-c3d8-4b9c-a437-2f6688583fab"
            },
            "attachments": {}
        },
        {
            "cell_type": "code",
            "source": [
                "SELECT JobTitle, COUNT(JobTitle)\n",
                "FROM EmployeeDemographics\n",
                "JOIN EmployeeSalary\n",
                "    ON EmployeeDemographics.EmployeeID = EmployeeSalary.EmployeeID\n",
                "GROUP BY JobTitle\n",
                "HAVING COUNT(JobTitle) > 1"
            ],
            "metadata": {
                "language": "sql",
                "azdata_cell_guid": "1044c077-4d63-4977-abc5-8b6b9ec3e5c1"
            },
            "outputs": [
                {
                    "output_type": "display_data",
                    "data": {
                        "text/html": "(2 row(s) affected)"
                    },
                    "metadata": {}
                },
                {
                    "output_type": "display_data",
                    "data": {
                        "text/html": "Total execution time: 00:00:01.006"
                    },
                    "metadata": {}
                },
                {
                    "output_type": "execute_result",
                    "metadata": {},
                    "execution_count": 47,
                    "data": {
                        "application/vnd.dataresource+json": {
                            "schema": {
                                "fields": [
                                    {
                                        "name": "JobTitle"
                                    },
                                    {
                                        "name": "COUNT(JobTitle)"
                                    }
                                ]
                            },
                            "data": [
                                {
                                    "JobTitle": "Salesman",
                                    "COUNT(JobTitle)": "3"
                                },
                                {
                                    "JobTitle": "Accountant",
                                    "COUNT(JobTitle)": "2"
                                }
                            ]
                        },
                        "text/html": [
                            "<table>",
                            "<tr><th>JobTitle</th><th>COUNT(JobTitle)</th></tr>",
                            "<tr><td>Salesman</td><td>3</td></tr>",
                            "<tr><td>Accountant</td><td>2</td></tr>",
                            "</table>"
                        ]
                    }
                }
            ],
            "execution_count": 47
        },
        {
            "cell_type": "code",
            "source": [
                "SELECT JobTitle, AVG(Salary), COUNT(JobTitle)\n",
                "FROM EmployeeDemographics\n",
                "JOIN EmployeeSalary\n",
                "    ON EmployeeDemographics.EmployeeID = EmployeeSalary.EmployeeID\n",
                "GROUP BY JobTitle\n",
                "HAVING AVG(Salary) > 45000\n",
                "ORDER BY AVG(Salary)"
            ],
            "metadata": {
                "language": "sql",
                "azdata_cell_guid": "29485c08-a83c-4022-a309-f496f06d94e5"
            },
            "outputs": [
                {
                    "output_type": "display_data",
                    "data": {
                        "text/html": "(3 row(s) affected)"
                    },
                    "metadata": {}
                },
                {
                    "output_type": "display_data",
                    "data": {
                        "text/html": "Total execution time: 00:00:01.006"
                    },
                    "metadata": {}
                },
                {
                    "output_type": "execute_result",
                    "metadata": {},
                    "execution_count": 51,
                    "data": {
                        "application/vnd.dataresource+json": {
                            "schema": {
                                "fields": [
                                    {
                                        "name": "JobTitle"
                                    },
                                    {
                                        "name": "AVG(Salary)"
                                    },
                                    {
                                        "name": "COUNT(JobTitle)"
                                    }
                                ]
                            },
                            "data": [
                                {
                                    "JobTitle": "HR",
                                    "AVG(Salary)": "50000.0000",
                                    "COUNT(JobTitle)": "1"
                                },
                                {
                                    "JobTitle": "Salesman",
                                    "AVG(Salary)": "52000.0000",
                                    "COUNT(JobTitle)": "3"
                                },
                                {
                                    "JobTitle": "Regional Manager",
                                    "AVG(Salary)": "65000.0000",
                                    "COUNT(JobTitle)": "1"
                                }
                            ]
                        },
                        "text/html": [
                            "<table>",
                            "<tr><th>JobTitle</th><th>AVG(Salary)</th><th>COUNT(JobTitle)</th></tr>",
                            "<tr><td>HR</td><td>50000.0000</td><td>1</td></tr>",
                            "<tr><td>Salesman</td><td>52000.0000</td><td>3</td></tr>",
                            "<tr><td>Regional Manager</td><td>65000.0000</td><td>1</td></tr>",
                            "</table>"
                        ]
                    }
                }
            ],
            "execution_count": 51
        },
        {
            "cell_type": "markdown",
            "source": [
                "**UPDATE AND DELETE**"
            ],
            "metadata": {
                "language": "sql",
                "azdata_cell_guid": "d74d0c57-66a9-42cf-8fcf-1a73dfbf3546"
            },
            "attachments": {}
        },
        {
            "cell_type": "code",
            "source": [
                "UPDATE EmployeeDemographics\n",
                "SET EmployeeID = 1012, Age = 31, Gender = 'Female'\n",
                "WHERE FirstName = 'Holly' AND LastName = 'Flax'"
            ],
            "metadata": {
                "language": "sql",
                "azdata_cell_guid": "7a183246-720c-424d-9c5d-34e66589aedc",
                "tags": []
            },
            "outputs": [
                {
                    "output_type": "display_data",
                    "data": {
                        "text/html": "Commands completed successfully"
                    },
                    "metadata": {}
                },
                {
                    "output_type": "display_data",
                    "data": {
                        "text/html": "Total execution time: 00:00:00.001"
                    },
                    "metadata": {}
                }
            ],
            "execution_count": 54
        },
        {
            "cell_type": "code",
            "source": [
                "SELECT * FROM EmployeeDemographics"
            ],
            "metadata": {
                "language": "sql",
                "azdata_cell_guid": "32cf5f74-8ea5-4c02-898a-60af6ac2d323"
            },
            "outputs": [
                {
                    "output_type": "display_data",
                    "data": {
                        "text/html": "(12 row(s) affected)"
                    },
                    "metadata": {}
                },
                {
                    "output_type": "display_data",
                    "data": {
                        "text/html": "Total execution time: 00:00:01.004"
                    },
                    "metadata": {}
                },
                {
                    "output_type": "execute_result",
                    "metadata": {},
                    "execution_count": 55,
                    "data": {
                        "application/vnd.dataresource+json": {
                            "schema": {
                                "fields": [
                                    {
                                        "name": "EmployeeID"
                                    },
                                    {
                                        "name": "FirstName"
                                    },
                                    {
                                        "name": "LastName"
                                    },
                                    {
                                        "name": "Age"
                                    },
                                    {
                                        "name": "Gender"
                                    }
                                ]
                            },
                            "data": [
                                {
                                    "EmployeeID": "1001",
                                    "FirstName": "Jim",
                                    "LastName": "Halpert",
                                    "Age": "30",
                                    "Gender": "Male"
                                },
                                {
                                    "EmployeeID": "1002",
                                    "FirstName": "Pam",
                                    "LastName": "Beasley",
                                    "Age": "30",
                                    "Gender": "Female"
                                },
                                {
                                    "EmployeeID": "1003",
                                    "FirstName": "Dwight",
                                    "LastName": "Schrute",
                                    "Age": "29",
                                    "Gender": "Male"
                                },
                                {
                                    "EmployeeID": "1004",
                                    "FirstName": "Angela",
                                    "LastName": "Martin",
                                    "Age": "31",
                                    "Gender": "Female"
                                },
                                {
                                    "EmployeeID": "1005",
                                    "FirstName": "Toby",
                                    "LastName": "Flenderson",
                                    "Age": "32",
                                    "Gender": "Male"
                                },
                                {
                                    "EmployeeID": "1006",
                                    "FirstName": "Michael",
                                    "LastName": "Scott",
                                    "Age": "35",
                                    "Gender": "Male"
                                },
                                {
                                    "EmployeeID": "1007",
                                    "FirstName": "Meredith",
                                    "LastName": "Palmer",
                                    "Age": "32",
                                    "Gender": "Female"
                                },
                                {
                                    "EmployeeID": "1008",
                                    "FirstName": "Stanley",
                                    "LastName": "Hudson",
                                    "Age": "38",
                                    "Gender": "Male"
                                },
                                {
                                    "EmployeeID": "1009",
                                    "FirstName": "Kevin",
                                    "LastName": "Malone",
                                    "Age": "31",
                                    "Gender": "Male"
                                },
                                {
                                    "EmployeeID": "1011",
                                    "FirstName": "Ryan",
                                    "LastName": "Howard",
                                    "Age": "26",
                                    "Gender": "Male"
                                },
                                {
                                    "EmployeeID": "1012",
                                    "FirstName": "Holly",
                                    "LastName": "Flax",
                                    "Age": "31",
                                    "Gender": "Female"
                                },
                                {
                                    "EmployeeID": "1013",
                                    "FirstName": "Darryl",
                                    "LastName": "Philbin",
                                    "Age": "NULL",
                                    "Gender": "Male"
                                }
                            ]
                        },
                        "text/html": [
                            "<table>",
                            "<tr><th>EmployeeID</th><th>FirstName</th><th>LastName</th><th>Age</th><th>Gender</th></tr>",
                            "<tr><td>1001</td><td>Jim</td><td>Halpert</td><td>30</td><td>Male</td></tr>",
                            "<tr><td>1002</td><td>Pam</td><td>Beasley</td><td>30</td><td>Female</td></tr>",
                            "<tr><td>1003</td><td>Dwight</td><td>Schrute</td><td>29</td><td>Male</td></tr>",
                            "<tr><td>1004</td><td>Angela</td><td>Martin</td><td>31</td><td>Female</td></tr>",
                            "<tr><td>1005</td><td>Toby</td><td>Flenderson</td><td>32</td><td>Male</td></tr>",
                            "<tr><td>1006</td><td>Michael</td><td>Scott</td><td>35</td><td>Male</td></tr>",
                            "<tr><td>1007</td><td>Meredith</td><td>Palmer</td><td>32</td><td>Female</td></tr>",
                            "<tr><td>1008</td><td>Stanley</td><td>Hudson</td><td>38</td><td>Male</td></tr>",
                            "<tr><td>1009</td><td>Kevin</td><td>Malone</td><td>31</td><td>Male</td></tr>",
                            "<tr><td>1011</td><td>Ryan</td><td>Howard</td><td>26</td><td>Male</td></tr>",
                            "<tr><td>1012</td><td>Holly</td><td>Flax</td><td>31</td><td>Female</td></tr>",
                            "<tr><td>1013</td><td>Darryl</td><td>Philbin</td><td>NULL</td><td>Male</td></tr>",
                            "</table>"
                        ]
                    }
                }
            ],
            "execution_count": 55
        },
        {
            "cell_type": "code",
            "source": [
                "DELETE FROM EmployeeDemographics\n",
                "WHERE EmployeeID = 1005\n",
                "/* \n",
                "first use select to confirm what you want to delete\n",
                "then proceed with delete \n",
                "*/"
            ],
            "metadata": {
                "language": "sql",
                "azdata_cell_guid": "db5dafac-e359-49f0-b346-66e5896f3e6b"
            },
            "outputs": [
                {
                    "output_type": "display_data",
                    "data": {
                        "text/html": "Commands completed successfully"
                    },
                    "metadata": {}
                },
                {
                    "output_type": "display_data",
                    "data": {
                        "text/html": "Total execution time: 00:00:00.001"
                    },
                    "metadata": {}
                }
            ],
            "execution_count": 56
        },
        {
            "cell_type": "code",
            "source": [
                "SELECT * FROM EmployeeDemographics"
            ],
            "metadata": {
                "language": "sql",
                "azdata_cell_guid": "c36002a0-7a31-44d1-9851-7f6670d319a8"
            },
            "outputs": [
                {
                    "output_type": "display_data",
                    "data": {
                        "text/html": "(11 row(s) affected)"
                    },
                    "metadata": {}
                },
                {
                    "output_type": "display_data",
                    "data": {
                        "text/html": "Total execution time: 00:00:01.006"
                    },
                    "metadata": {}
                },
                {
                    "output_type": "execute_result",
                    "metadata": {},
                    "execution_count": 57,
                    "data": {
                        "application/vnd.dataresource+json": {
                            "schema": {
                                "fields": [
                                    {
                                        "name": "EmployeeID"
                                    },
                                    {
                                        "name": "FirstName"
                                    },
                                    {
                                        "name": "LastName"
                                    },
                                    {
                                        "name": "Age"
                                    },
                                    {
                                        "name": "Gender"
                                    }
                                ]
                            },
                            "data": [
                                {
                                    "EmployeeID": "1001",
                                    "FirstName": "Jim",
                                    "LastName": "Halpert",
                                    "Age": "30",
                                    "Gender": "Male"
                                },
                                {
                                    "EmployeeID": "1002",
                                    "FirstName": "Pam",
                                    "LastName": "Beasley",
                                    "Age": "30",
                                    "Gender": "Female"
                                },
                                {
                                    "EmployeeID": "1003",
                                    "FirstName": "Dwight",
                                    "LastName": "Schrute",
                                    "Age": "29",
                                    "Gender": "Male"
                                },
                                {
                                    "EmployeeID": "1004",
                                    "FirstName": "Angela",
                                    "LastName": "Martin",
                                    "Age": "31",
                                    "Gender": "Female"
                                },
                                {
                                    "EmployeeID": "1006",
                                    "FirstName": "Michael",
                                    "LastName": "Scott",
                                    "Age": "35",
                                    "Gender": "Male"
                                },
                                {
                                    "EmployeeID": "1007",
                                    "FirstName": "Meredith",
                                    "LastName": "Palmer",
                                    "Age": "32",
                                    "Gender": "Female"
                                },
                                {
                                    "EmployeeID": "1008",
                                    "FirstName": "Stanley",
                                    "LastName": "Hudson",
                                    "Age": "38",
                                    "Gender": "Male"
                                },
                                {
                                    "EmployeeID": "1009",
                                    "FirstName": "Kevin",
                                    "LastName": "Malone",
                                    "Age": "31",
                                    "Gender": "Male"
                                },
                                {
                                    "EmployeeID": "1011",
                                    "FirstName": "Ryan",
                                    "LastName": "Howard",
                                    "Age": "26",
                                    "Gender": "Male"
                                },
                                {
                                    "EmployeeID": "1012",
                                    "FirstName": "Holly",
                                    "LastName": "Flax",
                                    "Age": "31",
                                    "Gender": "Female"
                                },
                                {
                                    "EmployeeID": "1013",
                                    "FirstName": "Darryl",
                                    "LastName": "Philbin",
                                    "Age": "NULL",
                                    "Gender": "Male"
                                }
                            ]
                        },
                        "text/html": [
                            "<table>",
                            "<tr><th>EmployeeID</th><th>FirstName</th><th>LastName</th><th>Age</th><th>Gender</th></tr>",
                            "<tr><td>1001</td><td>Jim</td><td>Halpert</td><td>30</td><td>Male</td></tr>",
                            "<tr><td>1002</td><td>Pam</td><td>Beasley</td><td>30</td><td>Female</td></tr>",
                            "<tr><td>1003</td><td>Dwight</td><td>Schrute</td><td>29</td><td>Male</td></tr>",
                            "<tr><td>1004</td><td>Angela</td><td>Martin</td><td>31</td><td>Female</td></tr>",
                            "<tr><td>1006</td><td>Michael</td><td>Scott</td><td>35</td><td>Male</td></tr>",
                            "<tr><td>1007</td><td>Meredith</td><td>Palmer</td><td>32</td><td>Female</td></tr>",
                            "<tr><td>1008</td><td>Stanley</td><td>Hudson</td><td>38</td><td>Male</td></tr>",
                            "<tr><td>1009</td><td>Kevin</td><td>Malone</td><td>31</td><td>Male</td></tr>",
                            "<tr><td>1011</td><td>Ryan</td><td>Howard</td><td>26</td><td>Male</td></tr>",
                            "<tr><td>1012</td><td>Holly</td><td>Flax</td><td>31</td><td>Female</td></tr>",
                            "<tr><td>1013</td><td>Darryl</td><td>Philbin</td><td>NULL</td><td>Male</td></tr>",
                            "</table>"
                        ]
                    }
                }
            ],
            "execution_count": 57
        },
        {
            "cell_type": "markdown",
            "source": [
                "**ALIASING**"
            ],
            "metadata": {
                "language": "sql",
                "azdata_cell_guid": "52f54cf2-aea1-424a-90ff-baa91b195b7c"
            },
            "attachments": {}
        },
        {
            "cell_type": "code",
            "source": [
                "SELECT CONCAT(FirstName, ' ', LastName) AS FullName -- simply use FirstName + ' ' + LastName in ms sql server\n",
                "FROM EmployeeDemographics"
            ],
            "metadata": {
                "language": "sql",
                "azdata_cell_guid": "e93701ac-7d34-4cd1-870f-27f6683eaeed"
            },
            "outputs": [
                {
                    "output_type": "display_data",
                    "data": {
                        "text/html": "(11 row(s) affected)"
                    },
                    "metadata": {}
                },
                {
                    "output_type": "display_data",
                    "data": {
                        "text/html": "Total execution time: 00:00:01.004"
                    },
                    "metadata": {}
                },
                {
                    "output_type": "execute_result",
                    "metadata": {},
                    "execution_count": 67,
                    "data": {
                        "application/vnd.dataresource+json": {
                            "schema": {
                                "fields": [
                                    {
                                        "name": "FullName"
                                    }
                                ]
                            },
                            "data": [
                                {
                                    "FullName": "Jim Halpert"
                                },
                                {
                                    "FullName": "Pam Beasley"
                                },
                                {
                                    "FullName": "Dwight Schrute"
                                },
                                {
                                    "FullName": "Angela Martin"
                                },
                                {
                                    "FullName": "Michael Scott"
                                },
                                {
                                    "FullName": "Meredith Palmer"
                                },
                                {
                                    "FullName": "Stanley Hudson"
                                },
                                {
                                    "FullName": "Kevin Malone"
                                },
                                {
                                    "FullName": "Ryan Howard"
                                },
                                {
                                    "FullName": "Holly Flax"
                                },
                                {
                                    "FullName": "Darryl Philbin"
                                }
                            ]
                        },
                        "text/html": [
                            "<table>",
                            "<tr><th>FullName</th></tr>",
                            "<tr><td>Jim Halpert</td></tr>",
                            "<tr><td>Pam Beasley</td></tr>",
                            "<tr><td>Dwight Schrute</td></tr>",
                            "<tr><td>Angela Martin</td></tr>",
                            "<tr><td>Michael Scott</td></tr>",
                            "<tr><td>Meredith Palmer</td></tr>",
                            "<tr><td>Stanley Hudson</td></tr>",
                            "<tr><td>Kevin Malone</td></tr>",
                            "<tr><td>Ryan Howard</td></tr>",
                            "<tr><td>Holly Flax</td></tr>",
                            "<tr><td>Darryl Philbin</td></tr>",
                            "</table>"
                        ]
                    }
                }
            ],
            "execution_count": 67
        },
        {
            "cell_type": "code",
            "source": [
                "SELECT AVG(Age) AS AvgAge -- 'AS' is always optional\n",
                "FROM EmployeeDemographics"
            ],
            "metadata": {
                "language": "sql",
                "azdata_cell_guid": "f730450c-ab61-4b26-a2d8-73680980f2ba"
            },
            "outputs": [
                {
                    "output_type": "display_data",
                    "data": {
                        "text/html": "(1 row(s) affected)"
                    },
                    "metadata": {}
                },
                {
                    "output_type": "display_data",
                    "data": {
                        "text/html": "Total execution time: 00:00:01.006"
                    },
                    "metadata": {}
                },
                {
                    "output_type": "execute_result",
                    "metadata": {},
                    "execution_count": 68,
                    "data": {
                        "application/vnd.dataresource+json": {
                            "schema": {
                                "fields": [
                                    {
                                        "name": "AvgAge"
                                    }
                                ]
                            },
                            "data": [
                                {
                                    "AvgAge": "31.3000"
                                }
                            ]
                        },
                        "text/html": [
                            "<table>",
                            "<tr><th>AvgAge</th></tr>",
                            "<tr><td>31.3000</td></tr>",
                            "</table>"
                        ]
                    }
                }
            ],
            "execution_count": 68
        },
        {
            "cell_type": "code",
            "source": [
                "SELECT Demo.EmployeeID, Sal.Salary\n",
                "FROM EmployeeDemographics AS Demo -- table aliasing\n",
                "JOIN EmployeeSalary AS Sal \n",
                "    ON Demo.EmployeeID = Sal.EmployeeID"
            ],
            "metadata": {
                "language": "sql",
                "azdata_cell_guid": "96cd2305-a259-4488-9661-01f99a75660f"
            },
            "outputs": [
                {
                    "output_type": "display_data",
                    "data": {
                        "text/html": "(8 row(s) affected)"
                    },
                    "metadata": {}
                },
                {
                    "output_type": "display_data",
                    "data": {
                        "text/html": "Total execution time: 00:00:01.005"
                    },
                    "metadata": {}
                },
                {
                    "output_type": "execute_result",
                    "metadata": {},
                    "execution_count": 69,
                    "data": {
                        "application/vnd.dataresource+json": {
                            "schema": {
                                "fields": [
                                    {
                                        "name": "EmployeeID"
                                    },
                                    {
                                        "name": "Salary"
                                    }
                                ]
                            },
                            "data": [
                                {
                                    "EmployeeID": "1001",
                                    "Salary": "45000"
                                },
                                {
                                    "EmployeeID": "1002",
                                    "Salary": "36000"
                                },
                                {
                                    "EmployeeID": "1003",
                                    "Salary": "63000"
                                },
                                {
                                    "EmployeeID": "1004",
                                    "Salary": "47000"
                                },
                                {
                                    "EmployeeID": "1006",
                                    "Salary": "65000"
                                },
                                {
                                    "EmployeeID": "1007",
                                    "Salary": "41000"
                                },
                                {
                                    "EmployeeID": "1008",
                                    "Salary": "48000"
                                },
                                {
                                    "EmployeeID": "1009",
                                    "Salary": "42000"
                                }
                            ]
                        },
                        "text/html": [
                            "<table>",
                            "<tr><th>EmployeeID</th><th>Salary</th></tr>",
                            "<tr><td>1001</td><td>45000</td></tr>",
                            "<tr><td>1002</td><td>36000</td></tr>",
                            "<tr><td>1003</td><td>63000</td></tr>",
                            "<tr><td>1004</td><td>47000</td></tr>",
                            "<tr><td>1006</td><td>65000</td></tr>",
                            "<tr><td>1007</td><td>41000</td></tr>",
                            "<tr><td>1008</td><td>48000</td></tr>",
                            "<tr><td>1009</td><td>42000</td></tr>",
                            "</table>"
                        ]
                    }
                }
            ],
            "execution_count": 69
        },
        {
            "cell_type": "markdown",
            "source": [
                "**PARTITION BY**"
            ],
            "metadata": {
                "language": "sql",
                "azdata_cell_guid": "b6b8b31e-eaeb-4d5a-9cf9-626fbdcf8707"
            },
            "attachments": {}
        },
        {
            "cell_type": "code",
            "source": [
                "SELECT FirstName, LastName, Gender, Salary, COUNT(Gender) -- GROUP BY doesn't work\n",
                "FROM EmployeeDemographics Demo \n",
                "JOIN EmployeeSalary Sal \n",
                "    ON Demo.EmployeeID = Sal.EmployeeID\n",
                "GROUP by FirstName, LastName, Gender, Salary, Gender"
            ],
            "metadata": {
                "language": "sql",
                "azdata_cell_guid": "6e78de5f-f508-4ab4-854e-d9bd124f9f56"
            },
            "outputs": [
                {
                    "output_type": "display_data",
                    "data": {
                        "text/html": "(8 row(s) affected)"
                    },
                    "metadata": {}
                },
                {
                    "output_type": "display_data",
                    "data": {
                        "text/html": "Total execution time: 00:00:01.006"
                    },
                    "metadata": {}
                },
                {
                    "output_type": "execute_result",
                    "metadata": {},
                    "execution_count": 77,
                    "data": {
                        "application/vnd.dataresource+json": {
                            "schema": {
                                "fields": [
                                    {
                                        "name": "FirstName"
                                    },
                                    {
                                        "name": "LastName"
                                    },
                                    {
                                        "name": "Gender"
                                    },
                                    {
                                        "name": "Salary"
                                    },
                                    {
                                        "name": "COUNT(Gender)"
                                    }
                                ]
                            },
                            "data": [
                                {
                                    "FirstName": "Jim",
                                    "LastName": "Halpert",
                                    "Gender": "Male",
                                    "Salary": "45000",
                                    "COUNT(Gender)": "1"
                                },
                                {
                                    "FirstName": "Pam",
                                    "LastName": "Beasley",
                                    "Gender": "Female",
                                    "Salary": "36000",
                                    "COUNT(Gender)": "1"
                                },
                                {
                                    "FirstName": "Dwight",
                                    "LastName": "Schrute",
                                    "Gender": "Male",
                                    "Salary": "63000",
                                    "COUNT(Gender)": "1"
                                },
                                {
                                    "FirstName": "Angela",
                                    "LastName": "Martin",
                                    "Gender": "Female",
                                    "Salary": "47000",
                                    "COUNT(Gender)": "1"
                                },
                                {
                                    "FirstName": "Michael",
                                    "LastName": "Scott",
                                    "Gender": "Male",
                                    "Salary": "65000",
                                    "COUNT(Gender)": "1"
                                },
                                {
                                    "FirstName": "Meredith",
                                    "LastName": "Palmer",
                                    "Gender": "Female",
                                    "Salary": "41000",
                                    "COUNT(Gender)": "1"
                                },
                                {
                                    "FirstName": "Stanley",
                                    "LastName": "Hudson",
                                    "Gender": "Male",
                                    "Salary": "48000",
                                    "COUNT(Gender)": "1"
                                },
                                {
                                    "FirstName": "Kevin",
                                    "LastName": "Malone",
                                    "Gender": "Male",
                                    "Salary": "42000",
                                    "COUNT(Gender)": "1"
                                }
                            ]
                        },
                        "text/html": [
                            "<table>",
                            "<tr><th>FirstName</th><th>LastName</th><th>Gender</th><th>Salary</th><th>COUNT(Gender)</th></tr>",
                            "<tr><td>Jim</td><td>Halpert</td><td>Male</td><td>45000</td><td>1</td></tr>",
                            "<tr><td>Pam</td><td>Beasley</td><td>Female</td><td>36000</td><td>1</td></tr>",
                            "<tr><td>Dwight</td><td>Schrute</td><td>Male</td><td>63000</td><td>1</td></tr>",
                            "<tr><td>Angela</td><td>Martin</td><td>Female</td><td>47000</td><td>1</td></tr>",
                            "<tr><td>Michael</td><td>Scott</td><td>Male</td><td>65000</td><td>1</td></tr>",
                            "<tr><td>Meredith</td><td>Palmer</td><td>Female</td><td>41000</td><td>1</td></tr>",
                            "<tr><td>Stanley</td><td>Hudson</td><td>Male</td><td>48000</td><td>1</td></tr>",
                            "<tr><td>Kevin</td><td>Malone</td><td>Male</td><td>42000</td><td>1</td></tr>",
                            "</table>"
                        ]
                    }
                }
            ],
            "execution_count": 77
        },
        {
            "cell_type": "code",
            "source": [
                "SELECT FirstName, LastName, Gender, Salary, \n",
                "COUNT(Gender) OVER (PARTITION BY Gender) as TotalGender -- PARTITION BY\n",
                "FROM EmployeeDemographics Demo\n",
                "JOIN EmployeeSalary Sal \n",
                "    ON Demo.EmployeeID = Sal.EmployeeID"
            ],
            "metadata": {
                "language": "sql",
                "azdata_cell_guid": "7c5f1aae-de78-42e7-a9e5-124cdd276c08"
            },
            "outputs": [
                {
                    "output_type": "display_data",
                    "data": {
                        "text/html": "(8 row(s) affected)"
                    },
                    "metadata": {}
                },
                {
                    "output_type": "display_data",
                    "data": {
                        "text/html": "Total execution time: 00:00:01.010"
                    },
                    "metadata": {}
                },
                {
                    "output_type": "execute_result",
                    "metadata": {},
                    "execution_count": 76,
                    "data": {
                        "application/vnd.dataresource+json": {
                            "schema": {
                                "fields": [
                                    {
                                        "name": "FirstName"
                                    },
                                    {
                                        "name": "LastName"
                                    },
                                    {
                                        "name": "Gender"
                                    },
                                    {
                                        "name": "Salary"
                                    },
                                    {
                                        "name": "TotalGender"
                                    }
                                ]
                            },
                            "data": [
                                {
                                    "FirstName": "Pam",
                                    "LastName": "Beasley",
                                    "Gender": "Female",
                                    "Salary": "36000",
                                    "TotalGender": "3"
                                },
                                {
                                    "FirstName": "Angela",
                                    "LastName": "Martin",
                                    "Gender": "Female",
                                    "Salary": "47000",
                                    "TotalGender": "3"
                                },
                                {
                                    "FirstName": "Meredith",
                                    "LastName": "Palmer",
                                    "Gender": "Female",
                                    "Salary": "41000",
                                    "TotalGender": "3"
                                },
                                {
                                    "FirstName": "Jim",
                                    "LastName": "Halpert",
                                    "Gender": "Male",
                                    "Salary": "45000",
                                    "TotalGender": "5"
                                },
                                {
                                    "FirstName": "Dwight",
                                    "LastName": "Schrute",
                                    "Gender": "Male",
                                    "Salary": "63000",
                                    "TotalGender": "5"
                                },
                                {
                                    "FirstName": "Michael",
                                    "LastName": "Scott",
                                    "Gender": "Male",
                                    "Salary": "65000",
                                    "TotalGender": "5"
                                },
                                {
                                    "FirstName": "Stanley",
                                    "LastName": "Hudson",
                                    "Gender": "Male",
                                    "Salary": "48000",
                                    "TotalGender": "5"
                                },
                                {
                                    "FirstName": "Kevin",
                                    "LastName": "Malone",
                                    "Gender": "Male",
                                    "Salary": "42000",
                                    "TotalGender": "5"
                                }
                            ]
                        },
                        "text/html": [
                            "<table>",
                            "<tr><th>FirstName</th><th>LastName</th><th>Gender</th><th>Salary</th><th>TotalGender</th></tr>",
                            "<tr><td>Pam</td><td>Beasley</td><td>Female</td><td>36000</td><td>3</td></tr>",
                            "<tr><td>Angela</td><td>Martin</td><td>Female</td><td>47000</td><td>3</td></tr>",
                            "<tr><td>Meredith</td><td>Palmer</td><td>Female</td><td>41000</td><td>3</td></tr>",
                            "<tr><td>Jim</td><td>Halpert</td><td>Male</td><td>45000</td><td>5</td></tr>",
                            "<tr><td>Dwight</td><td>Schrute</td><td>Male</td><td>63000</td><td>5</td></tr>",
                            "<tr><td>Michael</td><td>Scott</td><td>Male</td><td>65000</td><td>5</td></tr>",
                            "<tr><td>Stanley</td><td>Hudson</td><td>Male</td><td>48000</td><td>5</td></tr>",
                            "<tr><td>Kevin</td><td>Malone</td><td>Male</td><td>42000</td><td>5</td></tr>",
                            "</table>"
                        ]
                    }
                }
            ],
            "execution_count": 76
        }
    ]
}
{
    "metadata": {
        "kernelspec": {
            "name": "SQL",
            "display_name": "SQL",
            "language": "sql"
        },
        "language_info": {
            "name": "sql",
            "version": ""
        }
    },
    "nbformat_minor": 2,
    "nbformat": 4,
    "cells": [
        {
            "cell_type": "markdown",
            "source": [
                "**CTE (Common Table Expression)**"
            ],
            "metadata": {
                "azdata_cell_guid": "bb897528-789d-4e4e-b9b6-41f0215f83b4"
            },
            "attachments": {}
        },
        {
            "cell_type": "code",
            "source": [
                "USE tutorial"
            ],
            "metadata": {
                "language": "sql",
                "azdata_cell_guid": "7e0d0e15-a9f7-41af-86f5-580f71039ca7"
            },
            "outputs": [
                {
                    "output_type": "display_data",
                    "data": {
                        "text/html": "Commands completed successfully"
                    },
                    "metadata": {}
                },
                {
                    "output_type": "display_data",
                    "data": {
                        "text/html": "Total execution time: 00:00:00"
                    },
                    "metadata": {}
                }
            ],
            "execution_count": 79
        },
        {
            "cell_type": "code",
            "source": [
                "WITH CTE_Employee AS\n",
                "(SELECT FirstName, LastName, Gender, Salary\n",
                ", COUNT(Gender) OVER (PARTITION BY Gender) TotalGender\n",
                ", AVG(Salary) OVER (PARTITION BY Gender) AvgSalary\n",
                "FROM EmployeeDemographics Demo\n",
                "join EmployeeSalary Sal\n",
                "    ON Demo.EmployeeID = Sal.EmployeeID\n",
                "WHERE Salary > '45000'\n",
                ")\n",
                "SELECT * -- have to be right after the cte statement\n",
                "FROM CTE_Employee"
            ],
            "metadata": {
                "azdata_cell_guid": "c1a4dcc0-fa7a-4992-ab09-1f00b76aec5a",
                "language": "sql"
            },
            "outputs": [
                {
                    "output_type": "display_data",
                    "data": {
                        "text/html": "(4 row(s) affected)"
                    },
                    "metadata": {}
                },
                {
                    "output_type": "display_data",
                    "data": {
                        "text/html": "Total execution time: 00:00:01.005"
                    },
                    "metadata": {}
                },
                {
                    "output_type": "execute_result",
                    "metadata": {},
                    "execution_count": 43,
                    "data": {
                        "application/vnd.dataresource+json": {
                            "schema": {
                                "fields": [
                                    {
                                        "name": "FirstName"
                                    },
                                    {
                                        "name": "LastName"
                                    },
                                    {
                                        "name": "Gender"
                                    },
                                    {
                                        "name": "Salary"
                                    },
                                    {
                                        "name": "TotalGender"
                                    },
                                    {
                                        "name": "AvgSalary"
                                    }
                                ]
                            },
                            "data": [
                                {
                                    "FirstName": "Angela",
                                    "LastName": "Martin",
                                    "Gender": "Female",
                                    "Salary": "47000",
                                    "TotalGender": "1",
                                    "AvgSalary": "47000.0000"
                                },
                                {
                                    "FirstName": "Dwight",
                                    "LastName": "Schrute",
                                    "Gender": "Male",
                                    "Salary": "63000",
                                    "TotalGender": "3",
                                    "AvgSalary": "58666.6667"
                                },
                                {
                                    "FirstName": "Michael",
                                    "LastName": "Scott",
                                    "Gender": "Male",
                                    "Salary": "65000",
                                    "TotalGender": "3",
                                    "AvgSalary": "58666.6667"
                                },
                                {
                                    "FirstName": "Stanley",
                                    "LastName": "Hudson",
                                    "Gender": "Male",
                                    "Salary": "48000",
                                    "TotalGender": "3",
                                    "AvgSalary": "58666.6667"
                                }
                            ]
                        },
                        "text/html": [
                            "<table>",
                            "<tr><th>FirstName</th><th>LastName</th><th>Gender</th><th>Salary</th><th>TotalGender</th><th>AvgSalary</th></tr>",
                            "<tr><td>Angela</td><td>Martin</td><td>Female</td><td>47000</td><td>1</td><td>47000.0000</td></tr>",
                            "<tr><td>Dwight</td><td>Schrute</td><td>Male</td><td>63000</td><td>3</td><td>58666.6667</td></tr>",
                            "<tr><td>Michael</td><td>Scott</td><td>Male</td><td>65000</td><td>3</td><td>58666.6667</td></tr>",
                            "<tr><td>Stanley</td><td>Hudson</td><td>Male</td><td>48000</td><td>3</td><td>58666.6667</td></tr>",
                            "</table>"
                        ]
                    }
                }
            ],
            "execution_count": 43
        },
        {
            "cell_type": "markdown",
            "source": [
                "**TEMP TABLES**"
            ],
            "metadata": {
                "language": "sql",
                "azdata_cell_guid": "6ac3f4f8-bf1f-4f22-b08d-04b5f5f59b79"
            },
            "attachments": {}
        },
        {
            "cell_type": "code",
            "source": [
                "CREATE TEMPORARY TABLE temp_Employee ( -- in ms sql server, its like create table #temp_Employee...\n",
                "    EmployeeID int,\n",
                "    JobTitle varchar(100),\n",
                "    Salary int\n",
                ");"
            ],
            "metadata": {
                "language": "sql",
                "azdata_cell_guid": "0fd25842-ee66-46a2-9c19-135ab7e692a5"
            },
            "outputs": [
                {
                    "output_type": "display_data",
                    "data": {
                        "text/html": "Commands completed successfully"
                    },
                    "metadata": {}
                },
                {
                    "output_type": "display_data",
                    "data": {
                        "text/html": "Total execution time: 00:00:00.001"
                    },
                    "metadata": {}
                }
            ],
            "execution_count": 44
        },
        {
            "cell_type": "code",
            "source": [
                "SELECT * FROM temp_Employee"
            ],
            "metadata": {
                "language": "sql",
                "azdata_cell_guid": "b86437e8-909b-4706-9d4f-d0b1eab8d63b"
            },
            "outputs": [
                {
                    "output_type": "display_data",
                    "data": {
                        "text/html": "(0 row(s) affected)"
                    },
                    "metadata": {}
                },
                {
                    "output_type": "display_data",
                    "data": {
                        "text/html": "Total execution time: 00:00:01.006"
                    },
                    "metadata": {}
                },
                {
                    "output_type": "execute_result",
                    "metadata": {},
                    "execution_count": 45,
                    "data": {
                        "application/vnd.dataresource+json": {
                            "schema": {
                                "fields": [
                                    {
                                        "name": "EmployeeID"
                                    },
                                    {
                                        "name": "JobTitle"
                                    },
                                    {
                                        "name": "Salary"
                                    }
                                ]
                            },
                            "data": []
                        },
                        "text/html": [
                            "<table>",
                            "<tr><th>EmployeeID</th><th>JobTitle</th><th>Salary</th></tr>",
                            "</table>"
                        ]
                    }
                }
            ],
            "execution_count": 45
        },
        {
            "cell_type": "code",
            "source": [
                "INSERT INTO temp_Employee -- copying the table\n",
                "SELECT * \n",
                "FROM EmployeeSalary"
            ],
            "metadata": {
                "language": "sql",
                "azdata_cell_guid": "d7e3d5f2-ad76-489b-a614-62d3974ec7e7"
            },
            "outputs": [
                {
                    "output_type": "display_data",
                    "data": {
                        "text/html": "Commands completed successfully"
                    },
                    "metadata": {}
                },
                {
                    "output_type": "display_data",
                    "data": {
                        "text/html": "Total execution time: 00:00:00.001"
                    },
                    "metadata": {}
                }
            ],
            "execution_count": 46
        },
        {
            "cell_type": "code",
            "source": [
                "DROP TABLE IF EXISTS temp_Employee2 -- make sure that new temp table does exist already"
            ],
            "metadata": {
                "language": "sql",
                "azdata_cell_guid": "17a3530c-dae6-40cf-96af-917fde954f9c"
            },
            "outputs": [
                {
                    "output_type": "display_data",
                    "data": {
                        "text/html": "Commands completed successfully"
                    },
                    "metadata": {}
                },
                {
                    "output_type": "display_data",
                    "data": {
                        "text/html": "Total execution time: 00:00:00.001"
                    },
                    "metadata": {}
                }
            ],
            "execution_count": 65
        },
        {
            "cell_type": "code",
            "source": [
                "CREATE TEMPORARY TABLE temp_Employee2 (\n",
                "    JobTitle VARCHAR(50),\n",
                "    EmployeePerJob int,\n",
                "    AvgAge int,\n",
                "    AvgSalary int\n",
                ")"
            ],
            "metadata": {
                "language": "sql",
                "azdata_cell_guid": "c486f2e0-a9a7-4307-acb2-1ae8f5a30741"
            },
            "outputs": [
                {
                    "output_type": "display_data",
                    "data": {
                        "text/html": "Commands completed successfully"
                    },
                    "metadata": {}
                },
                {
                    "output_type": "display_data",
                    "data": {
                        "text/html": "Total execution time: 00:00:00.001"
                    },
                    "metadata": {}
                }
            ],
            "execution_count": 66
        },
        {
            "cell_type": "code",
            "source": [
                "INSERT INTO temp_Employee2\n",
                "SELECT JobTitle, COUNT(JobTitle), AVG(Age), Avg(Salary)\n",
                "FROM EmployeeDemographics Demo\n",
                "JOIN EmployeeSalary Sal \n",
                "    ON Demo.EmployeeID = Sal.EmployeeID\n",
                "GROUP BY JobTitle"
            ],
            "metadata": {
                "language": "sql",
                "azdata_cell_guid": "a5e988f0-156c-4e95-9bcf-295f684d3d60"
            },
            "outputs": [
                {
                    "output_type": "display_data",
                    "data": {
                        "text/html": "Commands completed successfully"
                    },
                    "metadata": {}
                },
                {
                    "output_type": "display_data",
                    "data": {
                        "text/html": "Total execution time: 00:00:00.001"
                    },
                    "metadata": {}
                }
            ],
            "execution_count": 67
        },
        {
            "cell_type": "code",
            "source": [
                "SELECT * FROM temp_Employee2"
            ],
            "metadata": {
                "language": "sql",
                "azdata_cell_guid": "96f76ecb-37be-4a83-bdb1-4a623b3fe3e5"
            },
            "outputs": [
                {
                    "output_type": "display_data",
                    "data": {
                        "text/html": "(5 row(s) affected)"
                    },
                    "metadata": {}
                },
                {
                    "output_type": "display_data",
                    "data": {
                        "text/html": "Total execution time: 00:00:01.004"
                    },
                    "metadata": {}
                },
                {
                    "output_type": "execute_result",
                    "metadata": {},
                    "execution_count": 68,
                    "data": {
                        "application/vnd.dataresource+json": {
                            "schema": {
                                "fields": [
                                    {
                                        "name": "JobTitle"
                                    },
                                    {
                                        "name": "EmployeePerJob"
                                    },
                                    {
                                        "name": "AvgAge"
                                    },
                                    {
                                        "name": "AvgSalary"
                                    }
                                ]
                            },
                            "data": [
                                {
                                    "JobTitle": "Salesman",
                                    "EmployeePerJob": "3",
                                    "AvgAge": "32",
                                    "AvgSalary": "52000"
                                },
                                {
                                    "JobTitle": "Receptionist",
                                    "EmployeePerJob": "1",
                                    "AvgAge": "30",
                                    "AvgSalary": "36000"
                                },
                                {
                                    "JobTitle": "Accountant",
                                    "EmployeePerJob": "2",
                                    "AvgAge": "31",
                                    "AvgSalary": "44500"
                                },
                                {
                                    "JobTitle": "Regional Manager",
                                    "EmployeePerJob": "1",
                                    "AvgAge": "35",
                                    "AvgSalary": "65000"
                                },
                                {
                                    "JobTitle": "Supplier Relations",
                                    "EmployeePerJob": "1",
                                    "AvgAge": "32",
                                    "AvgSalary": "41000"
                                }
                            ]
                        },
                        "text/html": [
                            "<table>",
                            "<tr><th>JobTitle</th><th>EmployeePerJob</th><th>AvgAge</th><th>AvgSalary</th></tr>",
                            "<tr><td>Salesman</td><td>3</td><td>32</td><td>52000</td></tr>",
                            "<tr><td>Receptionist</td><td>1</td><td>30</td><td>36000</td></tr>",
                            "<tr><td>Accountant</td><td>2</td><td>31</td><td>44500</td></tr>",
                            "<tr><td>Regional Manager</td><td>1</td><td>35</td><td>65000</td></tr>",
                            "<tr><td>Supplier Relations</td><td>1</td><td>32</td><td>41000</td></tr>",
                            "</table>"
                        ]
                    }
                }
            ],
            "execution_count": 68
        },
        {
            "cell_type": "markdown",
            "source": [
                "STRING FN"
            ],
            "metadata": {
                "language": "sql",
                "azdata_cell_guid": "e36e80df-97fb-4fbc-af01-04aea32b7e97"
            },
            "attachments": {}
        },
        {
            "cell_type": "code",
            "source": [
                "/*\n",
                "\n",
                "Today's Topic: String Functions - TRIM, LTRIM, RTRIM, Replace, Substring, Upper, Lower\n",
                "\n",
                "*/\n",
                "CREATE TABLE EmployeeErrors (\n",
                "EmployeeID varchar(50)\n",
                ",FirstName varchar(50)\n",
                ",LastName varchar(50)\n",
                ")\n",
                ""
            ],
            "metadata": {
                "language": "sql",
                "azdata_cell_guid": "a3bf9588-2e0a-4368-8218-20aefbc0f1bf",
                "tags": [
                    "hide_input"
                ]
            },
            "outputs": [
                {
                    "output_type": "display_data",
                    "data": {
                        "text/html": "Total execution time: 00:00:00"
                    },
                    "metadata": {}
                }
            ],
            "execution_count": 51
        },
        {
            "cell_type": "code",
            "source": [
                "Insert into EmployeeErrors Values \n",
                "('1001  ', 'Jimbo', 'Halbert')\n",
                ",('  1002', 'Pamela', 'Beasely')\n",
                ",('1005', 'TOby', 'Flenderson - Fired')"
            ],
            "metadata": {
                "language": "sql",
                "azdata_cell_guid": "ccd8d821-d723-448c-9997-0d9eb8e06e36",
                "tags": [
                    "hide_input"
                ]
            },
            "outputs": [
                {
                    "output_type": "error",
                    "evalue": "1050 (42S01): Table 'employeeerrors' already exists",
                    "ename": "",
                    "traceback": []
                },
                {
                    "output_type": "display_data",
                    "data": {
                        "text/html": "Commands completed successfully"
                    },
                    "metadata": {}
                },
                {
                    "output_type": "display_data",
                    "data": {
                        "text/html": "Total execution time: 00:00:00.006"
                    },
                    "metadata": {}
                }
            ],
            "execution_count": 52
        },
        {
            "cell_type": "code",
            "source": [
                "Select *\n",
                "From EmployeeErrors"
            ],
            "metadata": {
                "language": "sql",
                "azdata_cell_guid": "90cd8567-d792-4c05-be0b-c5362707a609",
                "tags": []
            },
            "outputs": [
                {
                    "output_type": "display_data",
                    "data": {
                        "text/html": "(3 row(s) affected)"
                    },
                    "metadata": {}
                },
                {
                    "output_type": "display_data",
                    "data": {
                        "text/html": "Total execution time: 00:00:01.008"
                    },
                    "metadata": {}
                },
                {
                    "output_type": "execute_result",
                    "metadata": {},
                    "execution_count": 24,
                    "data": {
                        "application/vnd.dataresource+json": {
                            "schema": {
                                "fields": [
                                    {
                                        "name": "EmployeeID"
                                    },
                                    {
                                        "name": "FirstName"
                                    },
                                    {
                                        "name": "LastName"
                                    }
                                ]
                            },
                            "data": [
                                {
                                    "EmployeeID": "1001  ",
                                    "FirstName": "Jimbo",
                                    "LastName": "Halbert"
                                },
                                {
                                    "EmployeeID": "  1002",
                                    "FirstName": "Pamela",
                                    "LastName": "Beasely"
                                },
                                {
                                    "EmployeeID": "1005",
                                    "FirstName": "TOby",
                                    "LastName": "Flenderson - Fired"
                                }
                            ]
                        },
                        "text/html": [
                            "<table>",
                            "<tr><th>EmployeeID</th><th>FirstName</th><th>LastName</th></tr>",
                            "<tr><td>1001  </td><td>Jimbo</td><td>Halbert</td></tr>",
                            "<tr><td>  1002</td><td>Pamela</td><td>Beasely</td></tr>",
                            "<tr><td>1005</td><td>TOby</td><td>Flenderson - Fired</td></tr>",
                            "</table>"
                        ]
                    }
                }
            ],
            "execution_count": 24
        },
        {
            "cell_type": "code",
            "source": [
                "-- TRIM, LTRIM, RTRIM\n",
                "SELECT EmployeeID, TRIM(EmployeeID) IDTRIM -- TRIM both sides, LeftTRIM, RightTRIM\n",
                "FROM EmployeeErrors"
            ],
            "metadata": {
                "language": "sql",
                "azdata_cell_guid": "94a3c0a1-ea98-4d37-af97-25ab2c23f188"
            },
            "outputs": [
                {
                    "output_type": "display_data",
                    "data": {
                        "text/html": "(3 row(s) affected)"
                    },
                    "metadata": {}
                },
                {
                    "output_type": "display_data",
                    "data": {
                        "text/html": "Total execution time: 00:00:01.006"
                    },
                    "metadata": {}
                },
                {
                    "output_type": "execute_result",
                    "metadata": {},
                    "execution_count": 25,
                    "data": {
                        "application/vnd.dataresource+json": {
                            "schema": {
                                "fields": [
                                    {
                                        "name": "EmployeeID"
                                    },
                                    {
                                        "name": "IDTRIM"
                                    }
                                ]
                            },
                            "data": [
                                {
                                    "EmployeeID": "1001  ",
                                    "IDTRIM": "1001"
                                },
                                {
                                    "EmployeeID": "  1002",
                                    "IDTRIM": "1002"
                                },
                                {
                                    "EmployeeID": "1005",
                                    "IDTRIM": "1005"
                                }
                            ]
                        },
                        "text/html": [
                            "<table>",
                            "<tr><th>EmployeeID</th><th>IDTRIM</th></tr>",
                            "<tr><td>1001  </td><td>1001</td></tr>",
                            "<tr><td>  1002</td><td>1002</td></tr>",
                            "<tr><td>1005</td><td>1005</td></tr>",
                            "</table>"
                        ]
                    }
                }
            ],
            "execution_count": 25
        },
        {
            "cell_type": "code",
            "source": [
                "-- Replace\n",
                "Select LastName, REPLACE(LastName, '- Fired', '') LastNameFixed\n",
                "From EmployeeErrors"
            ],
            "metadata": {
                "language": "sql",
                "azdata_cell_guid": "c37c6b76-f75b-45b8-a459-9193b521a600"
            },
            "outputs": [
                {
                    "output_type": "display_data",
                    "data": {
                        "text/html": "(3 row(s) affected)"
                    },
                    "metadata": {}
                },
                {
                    "output_type": "display_data",
                    "data": {
                        "text/html": "Total execution time: 00:00:01.002"
                    },
                    "metadata": {}
                },
                {
                    "output_type": "execute_result",
                    "metadata": {},
                    "execution_count": 27,
                    "data": {
                        "application/vnd.dataresource+json": {
                            "schema": {
                                "fields": [
                                    {
                                        "name": "LastName"
                                    },
                                    {
                                        "name": "LastNameFixed"
                                    }
                                ]
                            },
                            "data": [
                                {
                                    "LastName": "Halbert",
                                    "LastNameFixed": "Halbert"
                                },
                                {
                                    "LastName": "Beasely",
                                    "LastNameFixed": "Beasely"
                                },
                                {
                                    "LastName": "Flenderson - Fired",
                                    "LastNameFixed": "Flenderson "
                                }
                            ]
                        },
                        "text/html": [
                            "<table>",
                            "<tr><th>LastName</th><th>LastNameFixed</th></tr>",
                            "<tr><td>Halbert</td><td>Halbert</td></tr>",
                            "<tr><td>Beasely</td><td>Beasely</td></tr>",
                            "<tr><td>Flenderson - Fired</td><td>Flenderson </td></tr>",
                            "</table>"
                        ]
                    }
                }
            ],
            "execution_count": 27
        },
        {
            "cell_type": "code",
            "source": [
                "-- Substring\n",
                "SELECT SUBSTRING(FirstName, 1, 3)\n",
                "FROM EmployeeErrors"
            ],
            "metadata": {
                "language": "sql",
                "azdata_cell_guid": "5f6fbea0-ecc5-437a-a41d-771d2af3da90"
            },
            "outputs": [
                {
                    "output_type": "display_data",
                    "data": {
                        "text/html": "(3 row(s) affected)"
                    },
                    "metadata": {}
                },
                {
                    "output_type": "display_data",
                    "data": {
                        "text/html": "Total execution time: 00:00:01.006"
                    },
                    "metadata": {}
                },
                {
                    "output_type": "execute_result",
                    "metadata": {},
                    "execution_count": 28,
                    "data": {
                        "application/vnd.dataresource+json": {
                            "schema": {
                                "fields": [
                                    {
                                        "name": "SUBSTRING(FirstName, 1, 3)"
                                    }
                                ]
                            },
                            "data": [
                                {
                                    "SUBSTRING(FirstName, 1, 3)": "Jim"
                                },
                                {
                                    "SUBSTRING(FirstName, 1, 3)": "Pam"
                                },
                                {
                                    "SUBSTRING(FirstName, 1, 3)": "TOb"
                                }
                            ]
                        },
                        "text/html": [
                            "<table>",
                            "<tr><th>SUBSTRING(FirstName, 1, 3)</th></tr>",
                            "<tr><td>Jim</td></tr>",
                            "<tr><td>Pam</td></tr>",
                            "<tr><td>TOb</td></tr>",
                            "</table>"
                        ]
                    }
                }
            ],
            "execution_count": 28
        },
        {
            "cell_type": "code",
            "source": [
                "-- Fuzzy matching\n",
                "Select Substring(err.FirstName,1,3), Substring(dem.FirstName,1,3), Substring(err.LastName,1,3), Substring(dem.LastName,1,3)\n",
                "FROM EmployeeErrors err\n",
                "JOIN EmployeeDemographics dem\n",
                "\ton Substring(err.FirstName,1,3) = Substring(dem.FirstName,1,3)\n",
                "\tand Substring(err.LastName,1,3) = Substring(dem.LastName,1,3)"
            ],
            "metadata": {
                "language": "sql",
                "azdata_cell_guid": "f8cacdaf-b083-4c6d-9bc4-954ab75090fa"
            },
            "outputs": [
                {
                    "output_type": "display_data",
                    "data": {
                        "text/html": "(2 row(s) affected)"
                    },
                    "metadata": {}
                },
                {
                    "output_type": "display_data",
                    "data": {
                        "text/html": "Total execution time: 00:00:01.004"
                    },
                    "metadata": {}
                },
                {
                    "output_type": "execute_result",
                    "metadata": {},
                    "execution_count": 29,
                    "data": {
                        "application/vnd.dataresource+json": {
                            "schema": {
                                "fields": [
                                    {
                                        "name": "Substring(err.FirstName,1,3)"
                                    },
                                    {
                                        "name": "Substring(dem.FirstName,1,3)"
                                    },
                                    {
                                        "name": "Substring(err.LastName,1,3)"
                                    },
                                    {
                                        "name": "Substring(dem.LastName,1,3)"
                                    }
                                ]
                            },
                            "data": [
                                {
                                    "Substring(err.FirstName,1,3)": "Jim",
                                    "Substring(dem.FirstName,1,3)": "Jim",
                                    "Substring(err.LastName,1,3)": "Hal",
                                    "Substring(dem.LastName,1,3)": "Hal"
                                },
                                {
                                    "Substring(err.FirstName,1,3)": "Pam",
                                    "Substring(dem.FirstName,1,3)": "Pam",
                                    "Substring(err.LastName,1,3)": "Bea",
                                    "Substring(dem.LastName,1,3)": "Bea"
                                }
                            ]
                        },
                        "text/html": [
                            "<table>",
                            "<tr><th>Substring(err.FirstName,1,3)</th><th>Substring(dem.FirstName,1,3)</th><th>Substring(err.LastName,1,3)</th><th>Substring(dem.LastName,1,3)</th></tr>",
                            "<tr><td>Jim</td><td>Jim</td><td>Hal</td><td>Hal</td></tr>",
                            "<tr><td>Pam</td><td>Pam</td><td>Bea</td><td>Bea</td></tr>",
                            "</table>"
                        ]
                    }
                }
            ],
            "execution_count": 29
        },
        {
            "cell_type": "code",
            "source": [
                "-- Lowercase\n",
                "Select FirstName, LOWER(firstname)\n",
                "from EmployeeErrors"
            ],
            "metadata": {
                "language": "sql",
                "azdata_cell_guid": "b2f40998-caa0-4ea3-b6db-669c615c7818"
            },
            "outputs": [
                {
                    "output_type": "display_data",
                    "data": {
                        "text/html": "(3 row(s) affected)"
                    },
                    "metadata": {}
                },
                {
                    "output_type": "display_data",
                    "data": {
                        "text/html": "Total execution time: 00:00:01.007"
                    },
                    "metadata": {}
                },
                {
                    "output_type": "execute_result",
                    "metadata": {},
                    "execution_count": 31,
                    "data": {
                        "application/vnd.dataresource+json": {
                            "schema": {
                                "fields": [
                                    {
                                        "name": "FirstName"
                                    },
                                    {
                                        "name": "LOWER(firstname)"
                                    }
                                ]
                            },
                            "data": [
                                {
                                    "FirstName": "Jimbo",
                                    "LOWER(firstname)": "jimbo"
                                },
                                {
                                    "FirstName": "Pamela",
                                    "LOWER(firstname)": "pamela"
                                },
                                {
                                    "FirstName": "TOby",
                                    "LOWER(firstname)": "toby"
                                }
                            ]
                        },
                        "text/html": [
                            "<table>",
                            "<tr><th>FirstName</th><th>LOWER(firstname)</th></tr>",
                            "<tr><td>Jimbo</td><td>jimbo</td></tr>",
                            "<tr><td>Pamela</td><td>pamela</td></tr>",
                            "<tr><td>TOby</td><td>toby</td></tr>",
                            "</table>"
                        ]
                    }
                }
            ],
            "execution_count": 31
        },
        {
            "cell_type": "code",
            "source": [
                "-- uppercase\n",
                "Select Firstname, UPPER(FirstName)\n",
                "from EmployeeErrors"
            ],
            "metadata": {
                "language": "sql",
                "azdata_cell_guid": "4edfea3d-4b99-488b-904f-15fd5fde9756"
            },
            "outputs": [
                {
                    "output_type": "display_data",
                    "data": {
                        "text/html": "(3 row(s) affected)"
                    },
                    "metadata": {}
                },
                {
                    "output_type": "display_data",
                    "data": {
                        "text/html": "Total execution time: 00:00:01.007"
                    },
                    "metadata": {}
                },
                {
                    "output_type": "execute_result",
                    "metadata": {},
                    "execution_count": 32,
                    "data": {
                        "application/vnd.dataresource+json": {
                            "schema": {
                                "fields": [
                                    {
                                        "name": "Firstname"
                                    },
                                    {
                                        "name": "UPPER(FirstName)"
                                    }
                                ]
                            },
                            "data": [
                                {
                                    "Firstname": "Jimbo",
                                    "UPPER(FirstName)": "JIMBO"
                                },
                                {
                                    "Firstname": "Pamela",
                                    "UPPER(FirstName)": "PAMELA"
                                },
                                {
                                    "Firstname": "TOby",
                                    "UPPER(FirstName)": "TOBY"
                                }
                            ]
                        },
                        "text/html": [
                            "<table>",
                            "<tr><th>Firstname</th><th>UPPER(FirstName)</th></tr>",
                            "<tr><td>Jimbo</td><td>JIMBO</td></tr>",
                            "<tr><td>Pamela</td><td>PAMELA</td></tr>",
                            "<tr><td>TOby</td><td>TOBY</td></tr>",
                            "</table>"
                        ]
                    }
                }
            ],
            "execution_count": 32
        },
        {
            "cell_type": "markdown",
            "source": [
                "**STORED PROCEDURES**"
            ],
            "metadata": {
                "language": "sql",
                "azdata_cell_guid": "fe8cfab7-7bbd-4b62-a925-be9825b3571a"
            },
            "attachments": {}
        },
        {
            "cell_type": "code",
            "source": [
                "CREATE PROCEDURE TEST() -- mysql syntax\n",
                "BEGIN\n",
                "    SELECT * FROM EmployeeDemographics;\n",
                "END;\n",
                ""
            ],
            "metadata": {
                "language": "sql",
                "azdata_cell_guid": "fb295245-7c48-4306-8bb7-badc0ddfe943"
            },
            "outputs": [
                {
                    "output_type": "display_data",
                    "data": {
                        "text/html": "Total execution time: 00:00:00.001"
                    },
                    "metadata": {}
                },
                {
                    "output_type": "error",
                    "evalue": "1304 (42000): PROCEDURE TEST already exists",
                    "ename": "",
                    "traceback": []
                }
            ],
            "execution_count": 59
        },
        {
            "cell_type": "code",
            "source": [
                "CREATE PROCEDURE TEST -- ms sql server syntax; dont run this cell with mysql\n",
                "AS\n",
                "SELECT * \n",
                "FROM EmployeeDemographics;"
            ],
            "metadata": {
                "language": "sql",
                "azdata_cell_guid": "9f3089d7-3349-4509-998c-86d997115f66"
            },
            "outputs": [
                {
                    "output_type": "display_data",
                    "data": {
                        "text/html": "Total execution time: 00:00:00"
                    },
                    "metadata": {}
                },
                {
                    "output_type": "error",
                    "evalue": "1046 (3D000): No database selected",
                    "ename": "",
                    "traceback": []
                }
            ],
            "execution_count": 57
        },
        {
            "cell_type": "code",
            "source": [
                "CALL TEST -- EXEC TEST in ms sql server"
            ],
            "metadata": {
                "language": "sql",
                "azdata_cell_guid": "2ec27280-c227-4c08-8e0d-93cddf037c73"
            },
            "outputs": [
                {
                    "output_type": "display_data",
                    "data": {
                        "text/html": "Total execution time: 00:00:00"
                    },
                    "metadata": {}
                },
                {
                    "output_type": "error",
                    "evalue": "1046 (3D000): No database selected",
                    "ename": "",
                    "traceback": []
                }
            ],
            "execution_count": 62
        },
        {
            "cell_type": "code",
            "source": [
                "CREATE PROCEDURE Temp_Employee() -- mysql syntax\n",
                "BEGIN\n",
                "    CREATE TEMPORARY TABLE temp_employee (\n",
                "        JobTitle VARCHAR(100),\n",
                "        EmployeePerJob INT,\n",
                "        AvgAge INT,\n",
                "        AvgSalary INT\n",
                "    );\n",
                "\n",
                "    INSERT INTO temp_employee\n",
                "    SELECT JobTitle, COUNT(JobTitle) AS EmployeePerJob, AVG(Age) AS AvgAge, AVG(Salary) AS AvgSalary\n",
                "    FROM EmployeeDemographics Demo\n",
                "    JOIN EmployeeSalary Sal ON Demo.EmployeeID = Sal.EmployeeID\n",
                "    GROUP BY JobTitle;\n",
                "\n",
                "    SELECT * FROM temp_employee;\n",
                "END;"
            ],
            "metadata": {
                "language": "sql",
                "azdata_cell_guid": "2f514f64-85fc-42f4-9a70-4bfa8bf911d2"
            },
            "outputs": [
                {
                    "output_type": "display_data",
                    "data": {
                        "text/html": "Commands completed successfully"
                    },
                    "metadata": {}
                },
                {
                    "output_type": "display_data",
                    "data": {
                        "text/html": "Total execution time: 00:00:00.002"
                    },
                    "metadata": {}
                }
            ],
            "execution_count": 70
        },
        {
            "cell_type": "code",
            "source": [
                "CALL Temp_Employee"
            ],
            "metadata": {
                "language": "sql",
                "azdata_cell_guid": "7a7e4179-dc43-48e7-a132-0e96daece0ad"
            },
            "outputs": [
                {
                    "output_type": "display_data",
                    "data": {
                        "text/html": "(5 row(s) affected)"
                    },
                    "metadata": {}
                },
                {
                    "output_type": "display_data",
                    "data": {
                        "text/html": "Total execution time: 00:00:01.004"
                    },
                    "metadata": {}
                },
                {
                    "output_type": "execute_result",
                    "metadata": {},
                    "execution_count": 71,
                    "data": {
                        "application/vnd.dataresource+json": {
                            "schema": {
                                "fields": [
                                    {
                                        "name": "JobTitle"
                                    },
                                    {
                                        "name": "EmployeePerJob"
                                    },
                                    {
                                        "name": "AvgAge"
                                    },
                                    {
                                        "name": "AvgSalary"
                                    }
                                ]
                            },
                            "data": [
                                {
                                    "JobTitle": "Salesman",
                                    "EmployeePerJob": "3",
                                    "AvgAge": "32",
                                    "AvgSalary": "52000"
                                },
                                {
                                    "JobTitle": "Receptionist",
                                    "EmployeePerJob": "1",
                                    "AvgAge": "30",
                                    "AvgSalary": "36000"
                                },
                                {
                                    "JobTitle": "Accountant",
                                    "EmployeePerJob": "2",
                                    "AvgAge": "31",
                                    "AvgSalary": "44500"
                                },
                                {
                                    "JobTitle": "Regional Manager",
                                    "EmployeePerJob": "1",
                                    "AvgAge": "35",
                                    "AvgSalary": "65000"
                                },
                                {
                                    "JobTitle": "Supplier Relations",
                                    "EmployeePerJob": "1",
                                    "AvgAge": "32",
                                    "AvgSalary": "41000"
                                }
                            ]
                        },
                        "text/html": [
                            "<table>",
                            "<tr><th>JobTitle</th><th>EmployeePerJob</th><th>AvgAge</th><th>AvgSalary</th></tr>",
                            "<tr><td>Salesman</td><td>3</td><td>32</td><td>52000</td></tr>",
                            "<tr><td>Receptionist</td><td>1</td><td>30</td><td>36000</td></tr>",
                            "<tr><td>Accountant</td><td>2</td><td>31</td><td>44500</td></tr>",
                            "<tr><td>Regional Manager</td><td>1</td><td>35</td><td>65000</td></tr>",
                            "<tr><td>Supplier Relations</td><td>1</td><td>32</td><td>41000</td></tr>",
                            "</table>"
                        ]
                    }
                }
            ],
            "execution_count": 71
        },
        {
            "cell_type": "code",
            "source": [
                "ALTER PROCEDURE Temp_Employee(@JobTitle VARCHAR(100)) -- sql server syntax; don't run this cell\n",
                "AS\n",
                "CREATE TABLE #temp_employee (\n",
                "    JobTitle VARCHAR(100),\n",
                "    EmployeePerJob INT,\n",
                "    AvgAge INT,\n",
                "    AvgSalary INT\n",
                ")\n",
                "\n",
                "INSERT INTO #temp_employee\n",
                "SELECT JobTitle, COUNT(JobTitle) AS EmployeePerJob, AVG(Age) AS AvgAge, AVG(Salary) AS AvgSalary\n",
                "FROM EmployeeDemographics Demo\n",
                "JOIN EmployeeSalary Sal \n",
                "    ON Demo.EmployeeID = Sal.EmployeeID\n",
                "WHERE JobTitle = @JobTitle\n",
                "GROUP BY JobTitle\n",
                "\n",
                "SELECT * FROM #temp_employee"
            ],
            "metadata": {
                "language": "sql",
                "azdata_cell_guid": "b2189be2-090f-418b-bb2f-0351628c92c8"
            },
            "outputs": [
                {
                    "output_type": "display_data",
                    "data": {
                        "text/html": "Commands completed successfully"
                    },
                    "metadata": {}
                },
                {
                    "output_type": "display_data",
                    "data": {
                        "text/html": "Total execution time: 00:00:00"
                    },
                    "metadata": {}
                },
                {
                    "output_type": "error",
                    "evalue": "1064 (42000): You have an error in your SQL syntax; check the manual that corresponds to your MySQL server version for the right syntax to use near '(In JobTitle VARCHAR(100))\nBEGIN\n    CREATE TEMPORARY TABLE temp_employee (\n    ' at line 1",
                    "ename": "",
                    "traceback": []
                }
            ],
            "execution_count": 74
        },
        {
            "cell_type": "code",
            "source": [
                "EXEC Temp_Employee @JobTitle = 'Salesman' -- sql server syntax"
            ],
            "metadata": {
                "language": "sql",
                "azdata_cell_guid": "f95880cb-da80-4e14-9644-cb438394af8a"
            },
            "outputs": [],
            "execution_count": null
        },
        {
            "cell_type": "code",
            "source": [
                "-- Drop the existing procedure if it exists\n",
                "DROP PROCEDURE IF EXISTS Temp_Employee2; -- there is no alter procedure in mysql.\n",
                "\n",
                "-- Recreate the procedure with the updated logic\n",
                "CREATE PROCEDURE Temp_Employee2(IN JobTitle VARCHAR(100))\n",
                "BEGIN\n",
                "    -- Your updated logic goes here\n",
                "    CREATE TEMPORARY TABLE temp_employee (\n",
                "        JobTitle VARCHAR(100),\n",
                "        EmployeePerJob INT,\n",
                "        AvgAge INT,\n",
                "        AvgSalary INT\n",
                "    );\n",
                "\n",
                "    INSERT INTO temp_employee\n",
                "    SELECT JobTitle, COUNT(JobTitle) AS EmployeePerJob, AVG(Age) AS AvgAge, AVG(Salary) AS AvgSalary\n",
                "    FROM EmployeeDemographics Demo\n",
                "    JOIN EmployeeSalary Sal \n",
                "        ON Demo.EmployeeID = Sal.EmployeeID\n",
                "    WHERE JobTitle = JobTitle\n",
                "    GROUP BY JobTitle;\n",
                "\n",
                "    SELECT * FROM temp_employee;\n",
                "END\n",
                ""
            ],
            "metadata": {
                "language": "sql",
                "azdata_cell_guid": "a8c85ad2-7504-4970-ad22-139babb3891f"
            },
            "outputs": [
                {
                    "output_type": "display_data",
                    "data": {
                        "text/html": "Commands completed successfully"
                    },
                    "metadata": {}
                },
                {
                    "output_type": "display_data",
                    "data": {
                        "text/html": "Commands completed successfully"
                    },
                    "metadata": {}
                },
                {
                    "output_type": "display_data",
                    "data": {
                        "text/html": "Total execution time: 00:00:00.005"
                    },
                    "metadata": {}
                }
            ],
            "execution_count": 75
        },
        {
            "cell_type": "code",
            "source": [
                "CALL Temp_Employee2('Salesman')"
            ],
            "metadata": {
                "language": "sql",
                "azdata_cell_guid": "04d25051-1ddc-4339-a5cd-57b45d8998ac"
            },
            "outputs": [
                {
                    "output_type": "display_data",
                    "data": {
                        "text/html": "(1 row(s) affected)"
                    },
                    "metadata": {}
                },
                {
                    "output_type": "display_data",
                    "data": {
                        "text/html": "Total execution time: 00:00:01.008"
                    },
                    "metadata": {}
                },
                {
                    "output_type": "execute_result",
                    "metadata": {},
                    "execution_count": 77,
                    "data": {
                        "application/vnd.dataresource+json": {
                            "schema": {
                                "fields": [
                                    {
                                        "name": "JobTitle"
                                    },
                                    {
                                        "name": "EmployeePerJob"
                                    },
                                    {
                                        "name": "AvgAge"
                                    },
                                    {
                                        "name": "AvgSalary"
                                    }
                                ]
                            },
                            "data": [
                                {
                                    "JobTitle": "Salesman",
                                    "EmployeePerJob": "8",
                                    "AvgAge": "32",
                                    "AvgSalary": "48375"
                                }
                            ]
                        },
                        "text/html": [
                            "<table>",
                            "<tr><th>JobTitle</th><th>EmployeePerJob</th><th>AvgAge</th><th>AvgSalary</th></tr>",
                            "<tr><td>Salesman</td><td>8</td><td>32</td><td>48375</td></tr>",
                            "</table>"
                        ]
                    }
                }
            ],
            "execution_count": 77
        },
        {
            "cell_type": "markdown",
            "source": [
                "**SUBQUERIES**"
            ],
            "metadata": {
                "language": "sql",
                "azdata_cell_guid": "0fade9d8-e4ca-4afc-9ae6-3bf143bf5347"
            },
            "attachments": {}
        },
        {
            "cell_type": "code",
            "source": [
                "SELECT * \n",
                "FROM EmployeeSalary"
            ],
            "metadata": {
                "language": "sql",
                "azdata_cell_guid": "50f3d953-39e6-47f8-bb0e-c0cdcce7a139"
            },
            "outputs": [
                {
                    "output_type": "display_data",
                    "data": {
                        "text/html": "(11 row(s) affected)"
                    },
                    "metadata": {}
                },
                {
                    "output_type": "display_data",
                    "data": {
                        "text/html": "Total execution time: 00:00:01.004"
                    },
                    "metadata": {}
                },
                {
                    "output_type": "execute_result",
                    "metadata": {},
                    "execution_count": 80,
                    "data": {
                        "application/vnd.dataresource+json": {
                            "schema": {
                                "fields": [
                                    {
                                        "name": "EmployeeID"
                                    },
                                    {
                                        "name": "JobTitle"
                                    },
                                    {
                                        "name": "Salary"
                                    }
                                ]
                            },
                            "data": [
                                {
                                    "EmployeeID": "1001",
                                    "JobTitle": "Salesman",
                                    "Salary": "45000"
                                },
                                {
                                    "EmployeeID": "1002",
                                    "JobTitle": "Receptionist",
                                    "Salary": "36000"
                                },
                                {
                                    "EmployeeID": "1003",
                                    "JobTitle": "Salesman",
                                    "Salary": "63000"
                                },
                                {
                                    "EmployeeID": "1004",
                                    "JobTitle": "Accountant",
                                    "Salary": "47000"
                                },
                                {
                                    "EmployeeID": "1005",
                                    "JobTitle": "HR",
                                    "Salary": "50000"
                                },
                                {
                                    "EmployeeID": "1006",
                                    "JobTitle": "Regional Manager",
                                    "Salary": "65000"
                                },
                                {
                                    "EmployeeID": "1007",
                                    "JobTitle": "Supplier Relations",
                                    "Salary": "41000"
                                },
                                {
                                    "EmployeeID": "1008",
                                    "JobTitle": "Salesman",
                                    "Salary": "48000"
                                },
                                {
                                    "EmployeeID": "1009",
                                    "JobTitle": "Accountant",
                                    "Salary": "42000"
                                },
                                {
                                    "EmployeeID": "1010",
                                    "JobTitle": "NULL",
                                    "Salary": "47000"
                                },
                                {
                                    "EmployeeID": "NULL",
                                    "JobTitle": "Salesman",
                                    "Salary": "43000"
                                }
                            ]
                        },
                        "text/html": [
                            "<table>",
                            "<tr><th>EmployeeID</th><th>JobTitle</th><th>Salary</th></tr>",
                            "<tr><td>1001</td><td>Salesman</td><td>45000</td></tr>",
                            "<tr><td>1002</td><td>Receptionist</td><td>36000</td></tr>",
                            "<tr><td>1003</td><td>Salesman</td><td>63000</td></tr>",
                            "<tr><td>1004</td><td>Accountant</td><td>47000</td></tr>",
                            "<tr><td>1005</td><td>HR</td><td>50000</td></tr>",
                            "<tr><td>1006</td><td>Regional Manager</td><td>65000</td></tr>",
                            "<tr><td>1007</td><td>Supplier Relations</td><td>41000</td></tr>",
                            "<tr><td>1008</td><td>Salesman</td><td>48000</td></tr>",
                            "<tr><td>1009</td><td>Accountant</td><td>42000</td></tr>",
                            "<tr><td>1010</td><td>NULL</td><td>47000</td></tr>",
                            "<tr><td>NULL</td><td>Salesman</td><td>43000</td></tr>",
                            "</table>"
                        ]
                    }
                }
            ],
            "execution_count": 80
        },
        {
            "cell_type": "code",
            "source": [
                "SELECT EmployeeID, Salary, (SELECT AVG(Salary) FROM EmployeeSalary) AllAvgSalary\n",
                "FROM EmployeeSalary"
            ],
            "metadata": {
                "language": "sql",
                "azdata_cell_guid": "5a79fca4-78ea-4d9b-931c-8f4db081d868"
            },
            "outputs": [
                {
                    "output_type": "display_data",
                    "data": {
                        "text/html": "(11 row(s) affected)"
                    },
                    "metadata": {}
                },
                {
                    "output_type": "display_data",
                    "data": {
                        "text/html": "Total execution time: 00:00:01.007"
                    },
                    "metadata": {}
                },
                {
                    "output_type": "execute_result",
                    "metadata": {},
                    "execution_count": 83,
                    "data": {
                        "application/vnd.dataresource+json": {
                            "schema": {
                                "fields": [
                                    {
                                        "name": "EmployeeID"
                                    },
                                    {
                                        "name": "Salary"
                                    },
                                    {
                                        "name": "AllAvgSalary"
                                    }
                                ]
                            },
                            "data": [
                                {
                                    "EmployeeID": "1001",
                                    "Salary": "45000",
                                    "AllAvgSalary": "47909.0909"
                                },
                                {
                                    "EmployeeID": "1002",
                                    "Salary": "36000",
                                    "AllAvgSalary": "47909.0909"
                                },
                                {
                                    "EmployeeID": "1003",
                                    "Salary": "63000",
                                    "AllAvgSalary": "47909.0909"
                                },
                                {
                                    "EmployeeID": "1004",
                                    "Salary": "47000",
                                    "AllAvgSalary": "47909.0909"
                                },
                                {
                                    "EmployeeID": "1005",
                                    "Salary": "50000",
                                    "AllAvgSalary": "47909.0909"
                                },
                                {
                                    "EmployeeID": "1006",
                                    "Salary": "65000",
                                    "AllAvgSalary": "47909.0909"
                                },
                                {
                                    "EmployeeID": "1007",
                                    "Salary": "41000",
                                    "AllAvgSalary": "47909.0909"
                                },
                                {
                                    "EmployeeID": "1008",
                                    "Salary": "48000",
                                    "AllAvgSalary": "47909.0909"
                                },
                                {
                                    "EmployeeID": "1009",
                                    "Salary": "42000",
                                    "AllAvgSalary": "47909.0909"
                                },
                                {
                                    "EmployeeID": "1010",
                                    "Salary": "47000",
                                    "AllAvgSalary": "47909.0909"
                                },
                                {
                                    "EmployeeID": "NULL",
                                    "Salary": "43000",
                                    "AllAvgSalary": "47909.0909"
                                }
                            ]
                        },
                        "text/html": [
                            "<table>",
                            "<tr><th>EmployeeID</th><th>Salary</th><th>AllAvgSalary</th></tr>",
                            "<tr><td>1001</td><td>45000</td><td>47909.0909</td></tr>",
                            "<tr><td>1002</td><td>36000</td><td>47909.0909</td></tr>",
                            "<tr><td>1003</td><td>63000</td><td>47909.0909</td></tr>",
                            "<tr><td>1004</td><td>47000</td><td>47909.0909</td></tr>",
                            "<tr><td>1005</td><td>50000</td><td>47909.0909</td></tr>",
                            "<tr><td>1006</td><td>65000</td><td>47909.0909</td></tr>",
                            "<tr><td>1007</td><td>41000</td><td>47909.0909</td></tr>",
                            "<tr><td>1008</td><td>48000</td><td>47909.0909</td></tr>",
                            "<tr><td>1009</td><td>42000</td><td>47909.0909</td></tr>",
                            "<tr><td>1010</td><td>47000</td><td>47909.0909</td></tr>",
                            "<tr><td>NULL</td><td>43000</td><td>47909.0909</td></tr>",
                            "</table>"
                        ]
                    }
                }
            ],
            "execution_count": 83
        },
        {
            "cell_type": "code",
            "source": [
                "SELECT EmployeeID, Salary, AVG(Salary) OVER() AllAvgSalary -- over() partition by everything\n",
                "FROM EmployeeSalary"
            ],
            "metadata": {
                "language": "sql",
                "azdata_cell_guid": "37e1d240-5a46-4643-82a3-6f7a87623fdf",
                "tags": []
            },
            "outputs": [
                {
                    "output_type": "display_data",
                    "data": {
                        "text/html": "(11 row(s) affected)"
                    },
                    "metadata": {}
                },
                {
                    "output_type": "display_data",
                    "data": {
                        "text/html": "Total execution time: 00:00:01.002"
                    },
                    "metadata": {}
                },
                {
                    "output_type": "execute_result",
                    "metadata": {},
                    "execution_count": 84,
                    "data": {
                        "application/vnd.dataresource+json": {
                            "schema": {
                                "fields": [
                                    {
                                        "name": "EmployeeID"
                                    },
                                    {
                                        "name": "Salary"
                                    },
                                    {
                                        "name": "AllAvgSalary"
                                    }
                                ]
                            },
                            "data": [
                                {
                                    "EmployeeID": "1001",
                                    "Salary": "45000",
                                    "AllAvgSalary": "47909.0909"
                                },
                                {
                                    "EmployeeID": "1002",
                                    "Salary": "36000",
                                    "AllAvgSalary": "47909.0909"
                                },
                                {
                                    "EmployeeID": "1003",
                                    "Salary": "63000",
                                    "AllAvgSalary": "47909.0909"
                                },
                                {
                                    "EmployeeID": "1004",
                                    "Salary": "47000",
                                    "AllAvgSalary": "47909.0909"
                                },
                                {
                                    "EmployeeID": "1005",
                                    "Salary": "50000",
                                    "AllAvgSalary": "47909.0909"
                                },
                                {
                                    "EmployeeID": "1006",
                                    "Salary": "65000",
                                    "AllAvgSalary": "47909.0909"
                                },
                                {
                                    "EmployeeID": "1007",
                                    "Salary": "41000",
                                    "AllAvgSalary": "47909.0909"
                                },
                                {
                                    "EmployeeID": "1008",
                                    "Salary": "48000",
                                    "AllAvgSalary": "47909.0909"
                                },
                                {
                                    "EmployeeID": "1009",
                                    "Salary": "42000",
                                    "AllAvgSalary": "47909.0909"
                                },
                                {
                                    "EmployeeID": "1010",
                                    "Salary": "47000",
                                    "AllAvgSalary": "47909.0909"
                                },
                                {
                                    "EmployeeID": "NULL",
                                    "Salary": "43000",
                                    "AllAvgSalary": "47909.0909"
                                }
                            ]
                        },
                        "text/html": [
                            "<table>",
                            "<tr><th>EmployeeID</th><th>Salary</th><th>AllAvgSalary</th></tr>",
                            "<tr><td>1001</td><td>45000</td><td>47909.0909</td></tr>",
                            "<tr><td>1002</td><td>36000</td><td>47909.0909</td></tr>",
                            "<tr><td>1003</td><td>63000</td><td>47909.0909</td></tr>",
                            "<tr><td>1004</td><td>47000</td><td>47909.0909</td></tr>",
                            "<tr><td>1005</td><td>50000</td><td>47909.0909</td></tr>",
                            "<tr><td>1006</td><td>65000</td><td>47909.0909</td></tr>",
                            "<tr><td>1007</td><td>41000</td><td>47909.0909</td></tr>",
                            "<tr><td>1008</td><td>48000</td><td>47909.0909</td></tr>",
                            "<tr><td>1009</td><td>42000</td><td>47909.0909</td></tr>",
                            "<tr><td>1010</td><td>47000</td><td>47909.0909</td></tr>",
                            "<tr><td>NULL</td><td>43000</td><td>47909.0909</td></tr>",
                            "</table>"
                        ]
                    }
                }
            ],
            "execution_count": 84
        },
        {
            "cell_type": "code",
            "source": [
                "SELECT * \n",
                "FROM (SELECT EmployeeID, Salary, AVG(Salary) OVER() AllAvgSalary\n",
                "    FROM EmployeeSalary) a -- aliasing is not needed in sql server"
            ],
            "metadata": {
                "language": "sql",
                "azdata_cell_guid": "b93727bd-f25c-417e-98cb-ca799b48e950"
            },
            "outputs": [
                {
                    "output_type": "display_data",
                    "data": {
                        "text/html": "(11 row(s) affected)"
                    },
                    "metadata": {}
                },
                {
                    "output_type": "display_data",
                    "data": {
                        "text/html": "Total execution time: 00:00:01.006"
                    },
                    "metadata": {}
                },
                {
                    "output_type": "execute_result",
                    "metadata": {},
                    "execution_count": 87,
                    "data": {
                        "application/vnd.dataresource+json": {
                            "schema": {
                                "fields": [
                                    {
                                        "name": "EmployeeID"
                                    },
                                    {
                                        "name": "Salary"
                                    },
                                    {
                                        "name": "AllAvgSalary"
                                    }
                                ]
                            },
                            "data": [
                                {
                                    "EmployeeID": "1001",
                                    "Salary": "45000",
                                    "AllAvgSalary": "47909.0909"
                                },
                                {
                                    "EmployeeID": "1002",
                                    "Salary": "36000",
                                    "AllAvgSalary": "47909.0909"
                                },
                                {
                                    "EmployeeID": "1003",
                                    "Salary": "63000",
                                    "AllAvgSalary": "47909.0909"
                                },
                                {
                                    "EmployeeID": "1004",
                                    "Salary": "47000",
                                    "AllAvgSalary": "47909.0909"
                                },
                                {
                                    "EmployeeID": "1005",
                                    "Salary": "50000",
                                    "AllAvgSalary": "47909.0909"
                                },
                                {
                                    "EmployeeID": "1006",
                                    "Salary": "65000",
                                    "AllAvgSalary": "47909.0909"
                                },
                                {
                                    "EmployeeID": "1007",
                                    "Salary": "41000",
                                    "AllAvgSalary": "47909.0909"
                                },
                                {
                                    "EmployeeID": "1008",
                                    "Salary": "48000",
                                    "AllAvgSalary": "47909.0909"
                                },
                                {
                                    "EmployeeID": "1009",
                                    "Salary": "42000",
                                    "AllAvgSalary": "47909.0909"
                                },
                                {
                                    "EmployeeID": "1010",
                                    "Salary": "47000",
                                    "AllAvgSalary": "47909.0909"
                                },
                                {
                                    "EmployeeID": "NULL",
                                    "Salary": "43000",
                                    "AllAvgSalary": "47909.0909"
                                }
                            ]
                        },
                        "text/html": [
                            "<table>",
                            "<tr><th>EmployeeID</th><th>Salary</th><th>AllAvgSalary</th></tr>",
                            "<tr><td>1001</td><td>45000</td><td>47909.0909</td></tr>",
                            "<tr><td>1002</td><td>36000</td><td>47909.0909</td></tr>",
                            "<tr><td>1003</td><td>63000</td><td>47909.0909</td></tr>",
                            "<tr><td>1004</td><td>47000</td><td>47909.0909</td></tr>",
                            "<tr><td>1005</td><td>50000</td><td>47909.0909</td></tr>",
                            "<tr><td>1006</td><td>65000</td><td>47909.0909</td></tr>",
                            "<tr><td>1007</td><td>41000</td><td>47909.0909</td></tr>",
                            "<tr><td>1008</td><td>48000</td><td>47909.0909</td></tr>",
                            "<tr><td>1009</td><td>42000</td><td>47909.0909</td></tr>",
                            "<tr><td>1010</td><td>47000</td><td>47909.0909</td></tr>",
                            "<tr><td>NULL</td><td>43000</td><td>47909.0909</td></tr>",
                            "</table>"
                        ]
                    }
                }
            ],
            "execution_count": 87
        },
        {
            "cell_type": "code",
            "source": [
                "SELECT a.EmployeeID\n",
                "FROM (SELECT EmployeeID, Salary, AVG(Salary) OVER() AllAvgSalary\n",
                "    FROM EmployeeSalary) a"
            ],
            "metadata": {
                "language": "sql",
                "azdata_cell_guid": "043e1acf-cfe4-4235-8729-380def74da25"
            },
            "outputs": [
                {
                    "output_type": "display_data",
                    "data": {
                        "text/html": "(11 row(s) affected)"
                    },
                    "metadata": {}
                },
                {
                    "output_type": "display_data",
                    "data": {
                        "text/html": "Total execution time: 00:00:01.006"
                    },
                    "metadata": {}
                },
                {
                    "output_type": "execute_result",
                    "metadata": {},
                    "execution_count": 88,
                    "data": {
                        "application/vnd.dataresource+json": {
                            "schema": {
                                "fields": [
                                    {
                                        "name": "EmployeeID"
                                    }
                                ]
                            },
                            "data": [
                                {
                                    "EmployeeID": "1001"
                                },
                                {
                                    "EmployeeID": "1002"
                                },
                                {
                                    "EmployeeID": "1003"
                                },
                                {
                                    "EmployeeID": "1004"
                                },
                                {
                                    "EmployeeID": "1005"
                                },
                                {
                                    "EmployeeID": "1006"
                                },
                                {
                                    "EmployeeID": "1007"
                                },
                                {
                                    "EmployeeID": "1008"
                                },
                                {
                                    "EmployeeID": "1009"
                                },
                                {
                                    "EmployeeID": "1010"
                                },
                                {
                                    "EmployeeID": "NULL"
                                }
                            ]
                        },
                        "text/html": [
                            "<table>",
                            "<tr><th>EmployeeID</th></tr>",
                            "<tr><td>1001</td></tr>",
                            "<tr><td>1002</td></tr>",
                            "<tr><td>1003</td></tr>",
                            "<tr><td>1004</td></tr>",
                            "<tr><td>1005</td></tr>",
                            "<tr><td>1006</td></tr>",
                            "<tr><td>1007</td></tr>",
                            "<tr><td>1008</td></tr>",
                            "<tr><td>1009</td></tr>",
                            "<tr><td>1010</td></tr>",
                            "<tr><td>NULL</td></tr>",
                            "</table>"
                        ]
                    }
                }
            ],
            "execution_count": 88
        },
        {
            "cell_type": "code",
            "source": [
                "SELECT EmployeeID, JobTitle, Salary \n",
                "FROM EmployeeSalary\n",
                "WHERE EmployeeID IN (\n",
                "    SELECT EmployeeID \n",
                "    FROM EmployeeDemographics\n",
                "    WHERE Age > 30\n",
                ")"
            ],
            "metadata": {
                "language": "sql",
                "azdata_cell_guid": "cdb84b37-bb7b-45b4-9d02-be71aa7790f8"
            },
            "outputs": [
                {
                    "output_type": "display_data",
                    "data": {
                        "text/html": "(5 row(s) affected)"
                    },
                    "metadata": {}
                },
                {
                    "output_type": "display_data",
                    "data": {
                        "text/html": "Total execution time: 00:00:01.001"
                    },
                    "metadata": {}
                },
                {
                    "output_type": "execute_result",
                    "metadata": {},
                    "execution_count": 89,
                    "data": {
                        "application/vnd.dataresource+json": {
                            "schema": {
                                "fields": [
                                    {
                                        "name": "EmployeeID"
                                    },
                                    {
                                        "name": "JobTitle"
                                    },
                                    {
                                        "name": "Salary"
                                    }
                                ]
                            },
                            "data": [
                                {
                                    "EmployeeID": "1004",
                                    "JobTitle": "Accountant",
                                    "Salary": "47000"
                                },
                                {
                                    "EmployeeID": "1006",
                                    "JobTitle": "Regional Manager",
                                    "Salary": "65000"
                                },
                                {
                                    "EmployeeID": "1007",
                                    "JobTitle": "Supplier Relations",
                                    "Salary": "41000"
                                },
                                {
                                    "EmployeeID": "1008",
                                    "JobTitle": "Salesman",
                                    "Salary": "48000"
                                },
                                {
                                    "EmployeeID": "1009",
                                    "JobTitle": "Accountant",
                                    "Salary": "42000"
                                }
                            ]
                        },
                        "text/html": [
                            "<table>",
                            "<tr><th>EmployeeID</th><th>JobTitle</th><th>Salary</th></tr>",
                            "<tr><td>1004</td><td>Accountant</td><td>47000</td></tr>",
                            "<tr><td>1006</td><td>Regional Manager</td><td>65000</td></tr>",
                            "<tr><td>1007</td><td>Supplier Relations</td><td>41000</td></tr>",
                            "<tr><td>1008</td><td>Salesman</td><td>48000</td></tr>",
                            "<tr><td>1009</td><td>Accountant</td><td>42000</td></tr>",
                            "</table>"
                        ]
                    }
                }
            ],
            "execution_count": 89
        }
    ]
}
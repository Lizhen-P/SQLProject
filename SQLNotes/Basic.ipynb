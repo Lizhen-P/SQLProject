{
    "metadata": {
        "kernelspec": {
            "name": "SQL",
            "display_name": "SQL",
            "language": "sql"
        },
        "language_info": {
            "name": "sql",
            "version": ""
        }
    },
    "nbformat_minor": 2,
    "nbformat": 4,
    "cells": [
        {
            "cell_type": "code",
            "source": [
                "USE tutorial"
            ],
            "metadata": {
                "language": "sql",
                "azdata_cell_guid": "da99c7c6-4ce5-43ca-9a16-2a2d4dcd3aeb"
            },
            "outputs": [
                {
                    "output_type": "display_data",
                    "data": {
                        "text/html": "Commands completed successfully"
                    },
                    "metadata": {}
                },
                {
                    "output_type": "display_data",
                    "data": {
                        "text/html": "Total execution time: 00:00:00.001"
                    },
                    "metadata": {}
                }
            ],
            "execution_count": 2
        },
        {
            "cell_type": "code",
            "source": [
                "Create Table EmployeeDemographics \n",
                "(EmployeeID int, \n",
                "FirstName varchar(50), \n",
                "LastName varchar(50), \n",
                "Age int, \n",
                "Gender varchar(50)\n",
                ")"
            ],
            "metadata": {
                "azdata_cell_guid": "16d12409-5268-4266-a04d-bf9543a7d820",
                "language": "sql"
            },
            "outputs": [
                {
                    "output_type": "display_data",
                    "data": {
                        "text/html": "Commands completed successfully"
                    },
                    "metadata": {}
                },
                {
                    "output_type": "display_data",
                    "data": {
                        "text/html": "Total execution time: 00:00:00.008"
                    },
                    "metadata": {}
                }
            ],
            "execution_count": 8
        },
        {
            "cell_type": "code",
            "source": [
                "Create Table EmployeeSalary \n",
                "(EmployeeID int, \n",
                "JobTitle varchar(50), \n",
                "Salary int\n",
                ")"
            ],
            "metadata": {
                "language": "sql",
                "azdata_cell_guid": "b3c04696-16c8-422f-9b9a-e22981016a63"
            },
            "outputs": [
                {
                    "output_type": "display_data",
                    "data": {
                        "text/html": "Commands completed successfully"
                    },
                    "metadata": {}
                },
                {
                    "output_type": "display_data",
                    "data": {
                        "text/html": "Total execution time: 00:00:00.007"
                    },
                    "metadata": {}
                }
            ],
            "execution_count": 9
        },
        {
            "cell_type": "code",
            "source": [
                "Insert into EmployeeDemographics VALUES\n",
                "(1001, 'Jim', 'Halpert', 30, 'Male'),\n",
                "(1002, 'Pam', 'Beasley', 30, 'Female'),\n",
                "(1003, 'Dwight', 'Schrute', 29, 'Male'),\n",
                "(1004, 'Angela', 'Martin', 31, 'Female'),\n",
                "(1005, 'Toby', 'Flenderson', 32, 'Male'),\n",
                "(1006, 'Michael', 'Scott', 35, 'Male'),\n",
                "(1007, 'Meredith', 'Palmer', 32, 'Female'),\n",
                "(1008, 'Stanley', 'Hudson', 38, 'Male'),\n",
                "(1009, 'Kevin', 'Malone', 31, 'Male')"
            ],
            "metadata": {
                "language": "sql",
                "azdata_cell_guid": "8948673c-762e-4e08-8139-53093d6fa3f4"
            },
            "outputs": [
                {
                    "output_type": "display_data",
                    "data": {
                        "text/html": "Commands completed successfully"
                    },
                    "metadata": {}
                },
                {
                    "output_type": "display_data",
                    "data": {
                        "text/html": "Total execution time: 00:00:00.005"
                    },
                    "metadata": {}
                }
            ],
            "execution_count": 10
        },
        {
            "cell_type": "code",
            "source": [
                "Insert Into EmployeeSalary VALUES\n",
                "(1001, 'Salesman', 45000),\n",
                "(1002, 'Receptionist', 36000),\n",
                "(1003, 'Salesman', 63000),\n",
                "(1004, 'Accountant', 47000),\n",
                "(1005, 'HR', 50000),\n",
                "(1006, 'Regional Manager', 65000),\n",
                "(1007, 'Supplier Relations', 41000),\n",
                "(1008, 'Salesman', 48000),\n",
                "(1009, 'Accountant', 42000)"
            ],
            "metadata": {
                "language": "sql",
                "azdata_cell_guid": "efbb9270-cffe-4232-9a9a-530e47edfd2a"
            },
            "outputs": [
                {
                    "output_type": "display_data",
                    "data": {
                        "text/html": "Commands completed successfully"
                    },
                    "metadata": {}
                },
                {
                    "output_type": "display_data",
                    "data": {
                        "text/html": "Total execution time: 00:00:00.003"
                    },
                    "metadata": {}
                }
            ],
            "execution_count": 11
        },
        {
            "cell_type": "code",
            "source": [
                "SELECT * FROM EmployeeDemographics LIMIT 5;"
            ],
            "metadata": {
                "language": "sql",
                "azdata_cell_guid": "a07aff76-d94f-400c-99bc-8e71c84558dc"
            },
            "outputs": [
                {
                    "output_type": "display_data",
                    "data": {
                        "text/html": "(5 row(s) affected)"
                    },
                    "metadata": {}
                },
                {
                    "output_type": "display_data",
                    "data": {
                        "text/html": "Total execution time: 00:00:01.005"
                    },
                    "metadata": {}
                },
                {
                    "output_type": "execute_result",
                    "execution_count": 17,
                    "data": {
                        "application/vnd.dataresource+json": {
                            "schema": {
                                "fields": [
                                    {
                                        "name": "EmployeeID"
                                    },
                                    {
                                        "name": "FirstName"
                                    },
                                    {
                                        "name": "LastName"
                                    },
                                    {
                                        "name": "Age"
                                    },
                                    {
                                        "name": "Gender"
                                    }
                                ]
                            },
                            "data": [
                                {
                                    "EmployeeID": "1001",
                                    "FirstName": "Jim",
                                    "LastName": "Halpert",
                                    "Age": "30",
                                    "Gender": "Male"
                                },
                                {
                                    "EmployeeID": "1002",
                                    "FirstName": "Pam",
                                    "LastName": "Beasley",
                                    "Age": "30",
                                    "Gender": "Female"
                                },
                                {
                                    "EmployeeID": "1003",
                                    "FirstName": "Dwight",
                                    "LastName": "Schrute",
                                    "Age": "29",
                                    "Gender": "Male"
                                },
                                {
                                    "EmployeeID": "1004",
                                    "FirstName": "Angela",
                                    "LastName": "Martin",
                                    "Age": "31",
                                    "Gender": "Female"
                                },
                                {
                                    "EmployeeID": "1005",
                                    "FirstName": "Toby",
                                    "LastName": "Flenderson",
                                    "Age": "32",
                                    "Gender": "Male"
                                }
                            ]
                        },
                        "text/html": "<table><tr><th>EmployeeID</th><th>FirstName</th><th>LastName</th><th>Age</th><th>Gender</th></tr><tr><td>1001</td><td>Jim</td><td>Halpert</td><td>30</td><td>Male</td></tr><tr><td>1002</td><td>Pam</td><td>Beasley</td><td>30</td><td>Female</td></tr><tr><td>1003</td><td>Dwight</td><td>Schrute</td><td>29</td><td>Male</td></tr><tr><td>1004</td><td>Angela</td><td>Martin</td><td>31</td><td>Female</td></tr><tr><td>1005</td><td>Toby</td><td>Flenderson</td><td>32</td><td>Male</td></tr></table>"
                    },
                    "metadata": {}
                }
            ],
            "execution_count": 17
        },
        {
            "cell_type": "code",
            "source": [
                "SELECT DISTINCT(Gender) FROM EmployeeDemographics"
            ],
            "metadata": {
                "language": "sql",
                "azdata_cell_guid": "27ac533c-bef9-4a77-bd48-dcbe453ef587"
            },
            "outputs": [
                {
                    "output_type": "display_data",
                    "data": {
                        "text/html": "(2 row(s) affected)"
                    },
                    "metadata": {}
                },
                {
                    "output_type": "display_data",
                    "data": {
                        "text/html": "Total execution time: 00:00:01.003"
                    },
                    "metadata": {}
                },
                {
                    "output_type": "execute_result",
                    "execution_count": 18,
                    "data": {
                        "application/vnd.dataresource+json": {
                            "schema": {
                                "fields": [
                                    {
                                        "name": "Gender"
                                    }
                                ]
                            },
                            "data": [
                                {
                                    "Gender": "Male"
                                },
                                {
                                    "Gender": "Female"
                                }
                            ]
                        },
                        "text/html": "<table><tr><th>Gender</th></tr><tr><td>Male</td></tr><tr><td>Female</td></tr></table>"
                    },
                    "metadata": {}
                }
            ],
            "execution_count": 18
        },
        {
            "cell_type": "code",
            "source": [
                "SELECT COUNT(LastName) AS LastNameCount FROM EmployeeDemographics"
            ],
            "metadata": {
                "language": "sql",
                "azdata_cell_guid": "6b40401e-1446-4315-988d-ec035a17f2a5"
            },
            "outputs": [
                {
                    "output_type": "display_data",
                    "data": {
                        "text/html": "(1 row(s) affected)"
                    },
                    "metadata": {}
                },
                {
                    "output_type": "display_data",
                    "data": {
                        "text/html": "Total execution time: 00:00:01.008"
                    },
                    "metadata": {}
                },
                {
                    "output_type": "execute_result",
                    "execution_count": 20,
                    "data": {
                        "application/vnd.dataresource+json": {
                            "schema": {
                                "fields": [
                                    {
                                        "name": "LastNameCount"
                                    }
                                ]
                            },
                            "data": [
                                {
                                    "LastNameCount": "9"
                                }
                            ]
                        },
                        "text/html": "<table><tr><th>LastNameCount</th></tr><tr><td>9</td></tr></table>"
                    },
                    "metadata": {}
                }
            ],
            "execution_count": 20
        },
        {
            "cell_type": "code",
            "source": [
                "SELECT AVG(Salary)\n",
                "FROM EmployeeSalary"
            ],
            "metadata": {
                "language": "sql",
                "azdata_cell_guid": "af753a23-f44c-47a8-9256-ad78f9d1e4aa"
            },
            "outputs": [
                {
                    "output_type": "display_data",
                    "data": {
                        "text/html": "(1 row(s) affected)"
                    },
                    "metadata": {}
                },
                {
                    "output_type": "display_data",
                    "data": {
                        "text/html": "Total execution time: 00:00:01.002"
                    },
                    "metadata": {}
                },
                {
                    "output_type": "execute_result",
                    "execution_count": 22,
                    "data": {
                        "application/vnd.dataresource+json": {
                            "schema": {
                                "fields": [
                                    {
                                        "name": "AVG(Salary)"
                                    }
                                ]
                            },
                            "data": [
                                {
                                    "AVG(Salary)": "48555.5556"
                                }
                            ]
                        },
                        "text/html": "<table><tr><th>AVG(Salary)</th></tr><tr><td>48555.5556</td></tr></table>"
                    },
                    "metadata": {}
                }
            ],
            "execution_count": 22
        },
        {
            "cell_type": "code",
            "source": [
                "SELECT * FROM tutorial.EmployeeDemographics"
            ],
            "metadata": {
                "language": "sql",
                "azdata_cell_guid": "63b1ce4e-92f0-498a-8262-61d4bccdfb72"
            },
            "outputs": [
                {
                    "output_type": "display_data",
                    "data": {
                        "text/html": "(9 row(s) affected)"
                    },
                    "metadata": {}
                },
                {
                    "output_type": "display_data",
                    "data": {
                        "text/html": "Total execution time: 00:00:01.008"
                    },
                    "metadata": {}
                },
                {
                    "output_type": "execute_result",
                    "execution_count": 24,
                    "data": {
                        "application/vnd.dataresource+json": {
                            "schema": {
                                "fields": [
                                    {
                                        "name": "EmployeeID"
                                    },
                                    {
                                        "name": "FirstName"
                                    },
                                    {
                                        "name": "LastName"
                                    },
                                    {
                                        "name": "Age"
                                    },
                                    {
                                        "name": "Gender"
                                    }
                                ]
                            },
                            "data": [
                                {
                                    "EmployeeID": "1001",
                                    "FirstName": "Jim",
                                    "LastName": "Halpert",
                                    "Age": "30",
                                    "Gender": "Male"
                                },
                                {
                                    "EmployeeID": "1002",
                                    "FirstName": "Pam",
                                    "LastName": "Beasley",
                                    "Age": "30",
                                    "Gender": "Female"
                                },
                                {
                                    "EmployeeID": "1003",
                                    "FirstName": "Dwight",
                                    "LastName": "Schrute",
                                    "Age": "29",
                                    "Gender": "Male"
                                },
                                {
                                    "EmployeeID": "1004",
                                    "FirstName": "Angela",
                                    "LastName": "Martin",
                                    "Age": "31",
                                    "Gender": "Female"
                                },
                                {
                                    "EmployeeID": "1005",
                                    "FirstName": "Toby",
                                    "LastName": "Flenderson",
                                    "Age": "32",
                                    "Gender": "Male"
                                },
                                {
                                    "EmployeeID": "1006",
                                    "FirstName": "Michael",
                                    "LastName": "Scott",
                                    "Age": "35",
                                    "Gender": "Male"
                                },
                                {
                                    "EmployeeID": "1007",
                                    "FirstName": "Meredith",
                                    "LastName": "Palmer",
                                    "Age": "32",
                                    "Gender": "Female"
                                },
                                {
                                    "EmployeeID": "1008",
                                    "FirstName": "Stanley",
                                    "LastName": "Hudson",
                                    "Age": "38",
                                    "Gender": "Male"
                                },
                                {
                                    "EmployeeID": "1009",
                                    "FirstName": "Kevin",
                                    "LastName": "Malone",
                                    "Age": "31",
                                    "Gender": "Male"
                                }
                            ]
                        },
                        "text/html": "<table><tr><th>EmployeeID</th><th>FirstName</th><th>LastName</th><th>Age</th><th>Gender</th></tr><tr><td>1001</td><td>Jim</td><td>Halpert</td><td>30</td><td>Male</td></tr><tr><td>1002</td><td>Pam</td><td>Beasley</td><td>30</td><td>Female</td></tr><tr><td>1003</td><td>Dwight</td><td>Schrute</td><td>29</td><td>Male</td></tr><tr><td>1004</td><td>Angela</td><td>Martin</td><td>31</td><td>Female</td></tr><tr><td>1005</td><td>Toby</td><td>Flenderson</td><td>32</td><td>Male</td></tr><tr><td>1006</td><td>Michael</td><td>Scott</td><td>35</td><td>Male</td></tr><tr><td>1007</td><td>Meredith</td><td>Palmer</td><td>32</td><td>Female</td></tr><tr><td>1008</td><td>Stanley</td><td>Hudson</td><td>38</td><td>Male</td></tr><tr><td>1009</td><td>Kevin</td><td>Malone</td><td>31</td><td>Male</td></tr></table>"
                    },
                    "metadata": {}
                }
            ],
            "execution_count": 24
        },
        {
            "cell_type": "code",
            "source": [
                "SELECT *\n",
                "FROM EmployeeDemographics\n",
                "WHERE FirstName <> 'Jim' AND Age <> 31"
            ],
            "metadata": {
                "language": "sql",
                "azdata_cell_guid": "19177d8c-83da-4c37-a453-83fc0da3b104"
            },
            "outputs": [
                {
                    "output_type": "display_data",
                    "data": {
                        "text/html": "(6 row(s) affected)"
                    },
                    "metadata": {}
                },
                {
                    "output_type": "display_data",
                    "data": {
                        "text/html": "Total execution time: 00:00:01.006"
                    },
                    "metadata": {}
                },
                {
                    "output_type": "execute_result",
                    "execution_count": 31,
                    "data": {
                        "application/vnd.dataresource+json": {
                            "schema": {
                                "fields": [
                                    {
                                        "name": "EmployeeID"
                                    },
                                    {
                                        "name": "FirstName"
                                    },
                                    {
                                        "name": "LastName"
                                    },
                                    {
                                        "name": "Age"
                                    },
                                    {
                                        "name": "Gender"
                                    }
                                ]
                            },
                            "data": [
                                {
                                    "EmployeeID": "1002",
                                    "FirstName": "Pam",
                                    "LastName": "Beasley",
                                    "Age": "30",
                                    "Gender": "Female"
                                },
                                {
                                    "EmployeeID": "1003",
                                    "FirstName": "Dwight",
                                    "LastName": "Schrute",
                                    "Age": "29",
                                    "Gender": "Male"
                                },
                                {
                                    "EmployeeID": "1005",
                                    "FirstName": "Toby",
                                    "LastName": "Flenderson",
                                    "Age": "32",
                                    "Gender": "Male"
                                },
                                {
                                    "EmployeeID": "1006",
                                    "FirstName": "Michael",
                                    "LastName": "Scott",
                                    "Age": "35",
                                    "Gender": "Male"
                                },
                                {
                                    "EmployeeID": "1007",
                                    "FirstName": "Meredith",
                                    "LastName": "Palmer",
                                    "Age": "32",
                                    "Gender": "Female"
                                },
                                {
                                    "EmployeeID": "1008",
                                    "FirstName": "Stanley",
                                    "LastName": "Hudson",
                                    "Age": "38",
                                    "Gender": "Male"
                                }
                            ]
                        },
                        "text/html": "<table><tr><th>EmployeeID</th><th>FirstName</th><th>LastName</th><th>Age</th><th>Gender</th></tr><tr><td>1002</td><td>Pam</td><td>Beasley</td><td>30</td><td>Female</td></tr><tr><td>1003</td><td>Dwight</td><td>Schrute</td><td>29</td><td>Male</td></tr><tr><td>1005</td><td>Toby</td><td>Flenderson</td><td>32</td><td>Male</td></tr><tr><td>1006</td><td>Michael</td><td>Scott</td><td>35</td><td>Male</td></tr><tr><td>1007</td><td>Meredith</td><td>Palmer</td><td>32</td><td>Female</td></tr><tr><td>1008</td><td>Stanley</td><td>Hudson</td><td>38</td><td>Male</td></tr></table>"
                    },
                    "metadata": {}
                }
            ],
            "execution_count": 31
        },
        {
            "cell_type": "code",
            "source": [
                "SELECT *\n",
                "FROM EmployeeDemographics\n",
                "WHERE Age >= 30 OR Gender = 'Male'"
            ],
            "metadata": {
                "language": "sql",
                "azdata_cell_guid": "c62b2735-224f-4c53-9324-20f351a2453a"
            },
            "outputs": [
                {
                    "output_type": "display_data",
                    "data": {
                        "text/html": "(9 row(s) affected)"
                    },
                    "metadata": {}
                },
                {
                    "output_type": "display_data",
                    "data": {
                        "text/html": "Total execution time: 00:00:01.004"
                    },
                    "metadata": {}
                },
                {
                    "output_type": "execute_result",
                    "execution_count": 30,
                    "data": {
                        "application/vnd.dataresource+json": {
                            "schema": {
                                "fields": [
                                    {
                                        "name": "EmployeeID"
                                    },
                                    {
                                        "name": "FirstName"
                                    },
                                    {
                                        "name": "LastName"
                                    },
                                    {
                                        "name": "Age"
                                    },
                                    {
                                        "name": "Gender"
                                    }
                                ]
                            },
                            "data": [
                                {
                                    "EmployeeID": "1001",
                                    "FirstName": "Jim",
                                    "LastName": "Halpert",
                                    "Age": "30",
                                    "Gender": "Male"
                                },
                                {
                                    "EmployeeID": "1002",
                                    "FirstName": "Pam",
                                    "LastName": "Beasley",
                                    "Age": "30",
                                    "Gender": "Female"
                                },
                                {
                                    "EmployeeID": "1003",
                                    "FirstName": "Dwight",
                                    "LastName": "Schrute",
                                    "Age": "29",
                                    "Gender": "Male"
                                },
                                {
                                    "EmployeeID": "1004",
                                    "FirstName": "Angela",
                                    "LastName": "Martin",
                                    "Age": "31",
                                    "Gender": "Female"
                                },
                                {
                                    "EmployeeID": "1005",
                                    "FirstName": "Toby",
                                    "LastName": "Flenderson",
                                    "Age": "32",
                                    "Gender": "Male"
                                },
                                {
                                    "EmployeeID": "1006",
                                    "FirstName": "Michael",
                                    "LastName": "Scott",
                                    "Age": "35",
                                    "Gender": "Male"
                                },
                                {
                                    "EmployeeID": "1007",
                                    "FirstName": "Meredith",
                                    "LastName": "Palmer",
                                    "Age": "32",
                                    "Gender": "Female"
                                },
                                {
                                    "EmployeeID": "1008",
                                    "FirstName": "Stanley",
                                    "LastName": "Hudson",
                                    "Age": "38",
                                    "Gender": "Male"
                                },
                                {
                                    "EmployeeID": "1009",
                                    "FirstName": "Kevin",
                                    "LastName": "Malone",
                                    "Age": "31",
                                    "Gender": "Male"
                                }
                            ]
                        },
                        "text/html": "<table><tr><th>EmployeeID</th><th>FirstName</th><th>LastName</th><th>Age</th><th>Gender</th></tr><tr><td>1001</td><td>Jim</td><td>Halpert</td><td>30</td><td>Male</td></tr><tr><td>1002</td><td>Pam</td><td>Beasley</td><td>30</td><td>Female</td></tr><tr><td>1003</td><td>Dwight</td><td>Schrute</td><td>29</td><td>Male</td></tr><tr><td>1004</td><td>Angela</td><td>Martin</td><td>31</td><td>Female</td></tr><tr><td>1005</td><td>Toby</td><td>Flenderson</td><td>32</td><td>Male</td></tr><tr><td>1006</td><td>Michael</td><td>Scott</td><td>35</td><td>Male</td></tr><tr><td>1007</td><td>Meredith</td><td>Palmer</td><td>32</td><td>Female</td></tr><tr><td>1008</td><td>Stanley</td><td>Hudson</td><td>38</td><td>Male</td></tr><tr><td>1009</td><td>Kevin</td><td>Malone</td><td>31</td><td>Male</td></tr></table>"
                    },
                    "metadata": {}
                }
            ],
            "execution_count": 30
        },
        {
            "cell_type": "code",
            "source": [
                "SELECT *\n",
                "FROM EmployeeDemographics\n",
                "WHERE LastName LIKE '%S%n%'"
            ],
            "metadata": {
                "language": "sql",
                "azdata_cell_guid": "fed7e0e6-0bab-486b-bd78-0402af98e40f"
            },
            "outputs": [
                {
                    "output_type": "display_data",
                    "data": {
                        "text/html": "(2 row(s) affected)"
                    },
                    "metadata": {}
                },
                {
                    "output_type": "display_data",
                    "data": {
                        "text/html": "Total execution time: 00:00:01.006"
                    },
                    "metadata": {}
                },
                {
                    "output_type": "execute_result",
                    "execution_count": 38,
                    "data": {
                        "application/vnd.dataresource+json": {
                            "schema": {
                                "fields": [
                                    {
                                        "name": "EmployeeID"
                                    },
                                    {
                                        "name": "FirstName"
                                    },
                                    {
                                        "name": "LastName"
                                    },
                                    {
                                        "name": "Age"
                                    },
                                    {
                                        "name": "Gender"
                                    }
                                ]
                            },
                            "data": [
                                {
                                    "EmployeeID": "1005",
                                    "FirstName": "Toby",
                                    "LastName": "Flenderson",
                                    "Age": "32",
                                    "Gender": "Male"
                                },
                                {
                                    "EmployeeID": "1008",
                                    "FirstName": "Stanley",
                                    "LastName": "Hudson",
                                    "Age": "38",
                                    "Gender": "Male"
                                }
                            ]
                        },
                        "text/html": "<table><tr><th>EmployeeID</th><th>FirstName</th><th>LastName</th><th>Age</th><th>Gender</th></tr><tr><td>1005</td><td>Toby</td><td>Flenderson</td><td>32</td><td>Male</td></tr><tr><td>1008</td><td>Stanley</td><td>Hudson</td><td>38</td><td>Male</td></tr></table>"
                    },
                    "metadata": {}
                }
            ],
            "execution_count": 38
        },
        {
            "cell_type": "code",
            "source": [
                "SELECT *\n",
                "FROM EmployeeDemographics"
            ],
            "metadata": {
                "language": "sql",
                "azdata_cell_guid": "e487ee62-9630-459a-ab30-04ba52dc2845"
            },
            "outputs": [
                {
                    "output_type": "display_data",
                    "data": {
                        "text/html": "(9 row(s) affected)"
                    },
                    "metadata": {}
                },
                {
                    "output_type": "display_data",
                    "data": {
                        "text/html": "Total execution time: 00:00:01.006"
                    },
                    "metadata": {}
                },
                {
                    "output_type": "execute_result",
                    "execution_count": 39,
                    "data": {
                        "application/vnd.dataresource+json": {
                            "schema": {
                                "fields": [
                                    {
                                        "name": "EmployeeID"
                                    },
                                    {
                                        "name": "FirstName"
                                    },
                                    {
                                        "name": "LastName"
                                    },
                                    {
                                        "name": "Age"
                                    },
                                    {
                                        "name": "Gender"
                                    }
                                ]
                            },
                            "data": [
                                {
                                    "EmployeeID": "1001",
                                    "FirstName": "Jim",
                                    "LastName": "Halpert",
                                    "Age": "30",
                                    "Gender": "Male"
                                },
                                {
                                    "EmployeeID": "1002",
                                    "FirstName": "Pam",
                                    "LastName": "Beasley",
                                    "Age": "30",
                                    "Gender": "Female"
                                },
                                {
                                    "EmployeeID": "1003",
                                    "FirstName": "Dwight",
                                    "LastName": "Schrute",
                                    "Age": "29",
                                    "Gender": "Male"
                                },
                                {
                                    "EmployeeID": "1004",
                                    "FirstName": "Angela",
                                    "LastName": "Martin",
                                    "Age": "31",
                                    "Gender": "Female"
                                },
                                {
                                    "EmployeeID": "1005",
                                    "FirstName": "Toby",
                                    "LastName": "Flenderson",
                                    "Age": "32",
                                    "Gender": "Male"
                                },
                                {
                                    "EmployeeID": "1006",
                                    "FirstName": "Michael",
                                    "LastName": "Scott",
                                    "Age": "35",
                                    "Gender": "Male"
                                },
                                {
                                    "EmployeeID": "1007",
                                    "FirstName": "Meredith",
                                    "LastName": "Palmer",
                                    "Age": "32",
                                    "Gender": "Female"
                                },
                                {
                                    "EmployeeID": "1008",
                                    "FirstName": "Stanley",
                                    "LastName": "Hudson",
                                    "Age": "38",
                                    "Gender": "Male"
                                },
                                {
                                    "EmployeeID": "1009",
                                    "FirstName": "Kevin",
                                    "LastName": "Malone",
                                    "Age": "31",
                                    "Gender": "Male"
                                }
                            ]
                        },
                        "text/html": "<table><tr><th>EmployeeID</th><th>FirstName</th><th>LastName</th><th>Age</th><th>Gender</th></tr><tr><td>1001</td><td>Jim</td><td>Halpert</td><td>30</td><td>Male</td></tr><tr><td>1002</td><td>Pam</td><td>Beasley</td><td>30</td><td>Female</td></tr><tr><td>1003</td><td>Dwight</td><td>Schrute</td><td>29</td><td>Male</td></tr><tr><td>1004</td><td>Angela</td><td>Martin</td><td>31</td><td>Female</td></tr><tr><td>1005</td><td>Toby</td><td>Flenderson</td><td>32</td><td>Male</td></tr><tr><td>1006</td><td>Michael</td><td>Scott</td><td>35</td><td>Male</td></tr><tr><td>1007</td><td>Meredith</td><td>Palmer</td><td>32</td><td>Female</td></tr><tr><td>1008</td><td>Stanley</td><td>Hudson</td><td>38</td><td>Male</td></tr><tr><td>1009</td><td>Kevin</td><td>Malone</td><td>31</td><td>Male</td></tr></table>"
                    },
                    "metadata": {}
                }
            ],
            "execution_count": 39
        },
        {
            "cell_type": "code",
            "source": [
                "SELECT *\n",
                "FROM EmployeeDemographics\n",
                "WHERE FirstName IS NOT NULL"
            ],
            "metadata": {
                "language": "sql",
                "azdata_cell_guid": "99250207-4622-409e-a435-ef92f9a7adc7"
            },
            "outputs": [
                {
                    "output_type": "display_data",
                    "data": {
                        "text/html": "(9 row(s) affected)"
                    },
                    "metadata": {}
                },
                {
                    "output_type": "display_data",
                    "data": {
                        "text/html": "Total execution time: 00:00:01.005"
                    },
                    "metadata": {}
                },
                {
                    "output_type": "execute_result",
                    "execution_count": 40,
                    "data": {
                        "application/vnd.dataresource+json": {
                            "schema": {
                                "fields": [
                                    {
                                        "name": "EmployeeID"
                                    },
                                    {
                                        "name": "FirstName"
                                    },
                                    {
                                        "name": "LastName"
                                    },
                                    {
                                        "name": "Age"
                                    },
                                    {
                                        "name": "Gender"
                                    }
                                ]
                            },
                            "data": [
                                {
                                    "EmployeeID": "1001",
                                    "FirstName": "Jim",
                                    "LastName": "Halpert",
                                    "Age": "30",
                                    "Gender": "Male"
                                },
                                {
                                    "EmployeeID": "1002",
                                    "FirstName": "Pam",
                                    "LastName": "Beasley",
                                    "Age": "30",
                                    "Gender": "Female"
                                },
                                {
                                    "EmployeeID": "1003",
                                    "FirstName": "Dwight",
                                    "LastName": "Schrute",
                                    "Age": "29",
                                    "Gender": "Male"
                                },
                                {
                                    "EmployeeID": "1004",
                                    "FirstName": "Angela",
                                    "LastName": "Martin",
                                    "Age": "31",
                                    "Gender": "Female"
                                },
                                {
                                    "EmployeeID": "1005",
                                    "FirstName": "Toby",
                                    "LastName": "Flenderson",
                                    "Age": "32",
                                    "Gender": "Male"
                                },
                                {
                                    "EmployeeID": "1006",
                                    "FirstName": "Michael",
                                    "LastName": "Scott",
                                    "Age": "35",
                                    "Gender": "Male"
                                },
                                {
                                    "EmployeeID": "1007",
                                    "FirstName": "Meredith",
                                    "LastName": "Palmer",
                                    "Age": "32",
                                    "Gender": "Female"
                                },
                                {
                                    "EmployeeID": "1008",
                                    "FirstName": "Stanley",
                                    "LastName": "Hudson",
                                    "Age": "38",
                                    "Gender": "Male"
                                },
                                {
                                    "EmployeeID": "1009",
                                    "FirstName": "Kevin",
                                    "LastName": "Malone",
                                    "Age": "31",
                                    "Gender": "Male"
                                }
                            ]
                        },
                        "text/html": "<table><tr><th>EmployeeID</th><th>FirstName</th><th>LastName</th><th>Age</th><th>Gender</th></tr><tr><td>1001</td><td>Jim</td><td>Halpert</td><td>30</td><td>Male</td></tr><tr><td>1002</td><td>Pam</td><td>Beasley</td><td>30</td><td>Female</td></tr><tr><td>1003</td><td>Dwight</td><td>Schrute</td><td>29</td><td>Male</td></tr><tr><td>1004</td><td>Angela</td><td>Martin</td><td>31</td><td>Female</td></tr><tr><td>1005</td><td>Toby</td><td>Flenderson</td><td>32</td><td>Male</td></tr><tr><td>1006</td><td>Michael</td><td>Scott</td><td>35</td><td>Male</td></tr><tr><td>1007</td><td>Meredith</td><td>Palmer</td><td>32</td><td>Female</td></tr><tr><td>1008</td><td>Stanley</td><td>Hudson</td><td>38</td><td>Male</td></tr><tr><td>1009</td><td>Kevin</td><td>Malone</td><td>31</td><td>Male</td></tr></table>"
                    },
                    "metadata": {}
                }
            ],
            "execution_count": 40
        },
        {
            "cell_type": "code",
            "source": [
                "SELECT *\n",
                "FROM EmployeeDemographics\n",
                "WHERE FirstName IN ('Jim', 'Michael')"
            ],
            "metadata": {
                "language": "sql",
                "azdata_cell_guid": "e28ef368-d087-4b89-a456-f381e56fc3ec"
            },
            "outputs": [
                {
                    "output_type": "display_data",
                    "data": {
                        "text/html": "(2 row(s) affected)"
                    },
                    "metadata": {}
                },
                {
                    "output_type": "display_data",
                    "data": {
                        "text/html": "Total execution time: 00:00:01.003"
                    },
                    "metadata": {}
                },
                {
                    "output_type": "execute_result",
                    "execution_count": 43,
                    "data": {
                        "application/vnd.dataresource+json": {
                            "schema": {
                                "fields": [
                                    {
                                        "name": "EmployeeID"
                                    },
                                    {
                                        "name": "FirstName"
                                    },
                                    {
                                        "name": "LastName"
                                    },
                                    {
                                        "name": "Age"
                                    },
                                    {
                                        "name": "Gender"
                                    }
                                ]
                            },
                            "data": [
                                {
                                    "EmployeeID": "1001",
                                    "FirstName": "Jim",
                                    "LastName": "Halpert",
                                    "Age": "30",
                                    "Gender": "Male"
                                },
                                {
                                    "EmployeeID": "1006",
                                    "FirstName": "Michael",
                                    "LastName": "Scott",
                                    "Age": "35",
                                    "Gender": "Male"
                                }
                            ]
                        },
                        "text/html": "<table><tr><th>EmployeeID</th><th>FirstName</th><th>LastName</th><th>Age</th><th>Gender</th></tr><tr><td>1001</td><td>Jim</td><td>Halpert</td><td>30</td><td>Male</td></tr><tr><td>1006</td><td>Michael</td><td>Scott</td><td>35</td><td>Male</td></tr></table>"
                    },
                    "metadata": {}
                }
            ],
            "execution_count": 43
        },
        {
            "cell_type": "code",
            "source": [
                "SELECT Gender, COUNT(Gender)\n",
                "FROM EmployeeDemographics\n",
                "GROUP BY Gender"
            ],
            "metadata": {
                "language": "sql",
                "azdata_cell_guid": "728a1f91-95a8-48cb-a32a-ead5d9f0e43a"
            },
            "outputs": [
                {
                    "output_type": "display_data",
                    "data": {
                        "text/html": "(2 row(s) affected)"
                    },
                    "metadata": {}
                },
                {
                    "output_type": "display_data",
                    "data": {
                        "text/html": "Total execution time: 00:00:01.002"
                    },
                    "metadata": {}
                },
                {
                    "output_type": "execute_result",
                    "execution_count": 49,
                    "data": {
                        "application/vnd.dataresource+json": {
                            "schema": {
                                "fields": [
                                    {
                                        "name": "Gender"
                                    },
                                    {
                                        "name": "COUNT(Gender)"
                                    }
                                ]
                            },
                            "data": [
                                {
                                    "Gender": "Male",
                                    "COUNT(Gender)": "6"
                                },
                                {
                                    "Gender": "Female",
                                    "COUNT(Gender)": "3"
                                }
                            ]
                        },
                        "text/html": "<table><tr><th>Gender</th><th>COUNT(Gender)</th></tr><tr><td>Male</td><td>6</td></tr><tr><td>Female</td><td>3</td></tr></table>"
                    },
                    "metadata": {}
                }
            ],
            "execution_count": 49
        },
        {
            "cell_type": "code",
            "source": [
                "SELECT Gender, Age, COUNT(Gender)\n",
                "FROM EmployeeDemographics\n",
                "GROUP BY Gender, Age"
            ],
            "metadata": {
                "language": "sql",
                "azdata_cell_guid": "937ca8af-f86b-4319-9f33-6acb2b75d959"
            },
            "outputs": [
                {
                    "output_type": "display_data",
                    "data": {
                        "text/html": "(9 row(s) affected)"
                    },
                    "metadata": {}
                },
                {
                    "output_type": "display_data",
                    "data": {
                        "text/html": "Total execution time: 00:00:01.007"
                    },
                    "metadata": {}
                },
                {
                    "output_type": "execute_result",
                    "execution_count": 50,
                    "data": {
                        "application/vnd.dataresource+json": {
                            "schema": {
                                "fields": [
                                    {
                                        "name": "Gender"
                                    },
                                    {
                                        "name": "Age"
                                    },
                                    {
                                        "name": "COUNT(Gender)"
                                    }
                                ]
                            },
                            "data": [
                                {
                                    "Gender": "Male",
                                    "Age": "30",
                                    "COUNT(Gender)": "1"
                                },
                                {
                                    "Gender": "Female",
                                    "Age": "30",
                                    "COUNT(Gender)": "1"
                                },
                                {
                                    "Gender": "Male",
                                    "Age": "29",
                                    "COUNT(Gender)": "1"
                                },
                                {
                                    "Gender": "Female",
                                    "Age": "31",
                                    "COUNT(Gender)": "1"
                                },
                                {
                                    "Gender": "Male",
                                    "Age": "32",
                                    "COUNT(Gender)": "1"
                                },
                                {
                                    "Gender": "Male",
                                    "Age": "35",
                                    "COUNT(Gender)": "1"
                                },
                                {
                                    "Gender": "Female",
                                    "Age": "32",
                                    "COUNT(Gender)": "1"
                                },
                                {
                                    "Gender": "Male",
                                    "Age": "38",
                                    "COUNT(Gender)": "1"
                                },
                                {
                                    "Gender": "Male",
                                    "Age": "31",
                                    "COUNT(Gender)": "1"
                                }
                            ]
                        },
                        "text/html": "<table><tr><th>Gender</th><th>Age</th><th>COUNT(Gender)</th></tr><tr><td>Male</td><td>30</td><td>1</td></tr><tr><td>Female</td><td>30</td><td>1</td></tr><tr><td>Male</td><td>29</td><td>1</td></tr><tr><td>Female</td><td>31</td><td>1</td></tr><tr><td>Male</td><td>32</td><td>1</td></tr><tr><td>Male</td><td>35</td><td>1</td></tr><tr><td>Female</td><td>32</td><td>1</td></tr><tr><td>Male</td><td>38</td><td>1</td></tr><tr><td>Male</td><td>31</td><td>1</td></tr></table>"
                    },
                    "metadata": {}
                }
            ],
            "execution_count": 50
        },
        {
            "cell_type": "code",
            "source": [
                "SELECT Gender, COUNT(Gender) AS GenderCount\n",
                "FROM EmployeeDemographics\n",
                "WHERE Age > 31\n",
                "GROUP BY Gender\n",
                "ORDER BY GenderCount DESC -- ascend as defualt"
            ],
            "metadata": {
                "language": "sql",
                "azdata_cell_guid": "5c3a94dc-7fff-4ea1-bc57-afdae51544c9"
            },
            "outputs": [
                {
                    "output_type": "display_data",
                    "data": {
                        "text/html": "(2 row(s) affected)"
                    },
                    "metadata": {}
                },
                {
                    "output_type": "display_data",
                    "data": {
                        "text/html": "Total execution time: 00:00:01.006"
                    },
                    "metadata": {}
                },
                {
                    "output_type": "execute_result",
                    "execution_count": 52,
                    "data": {
                        "application/vnd.dataresource+json": {
                            "schema": {
                                "fields": [
                                    {
                                        "name": "Gender"
                                    },
                                    {
                                        "name": "GenderCount"
                                    }
                                ]
                            },
                            "data": [
                                {
                                    "Gender": "Male",
                                    "GenderCount": "3"
                                },
                                {
                                    "Gender": "Female",
                                    "GenderCount": "1"
                                }
                            ]
                        },
                        "text/html": "<table><tr><th>Gender</th><th>GenderCount</th></tr><tr><td>Male</td><td>3</td></tr><tr><td>Female</td><td>1</td></tr></table>"
                    },
                    "metadata": {}
                }
            ],
            "execution_count": 52
        },
        {
            "cell_type": "code",
            "source": [
                "SELECT *\n",
                "FROM EmployeeDemographics\n",
                "ORDER BY Age DESC, Gender DESC -- or 4 desc, 5 desc"
            ],
            "metadata": {
                "language": "sql",
                "azdata_cell_guid": "3205e6e0-5bb5-43aa-8795-f5cd5a793e59"
            },
            "outputs": [
                {
                    "output_type": "display_data",
                    "data": {
                        "text/html": "(9 row(s) affected)"
                    },
                    "metadata": {}
                },
                {
                    "output_type": "display_data",
                    "data": {
                        "text/html": "Total execution time: 00:00:01.004"
                    },
                    "metadata": {}
                },
                {
                    "output_type": "execute_result",
                    "execution_count": 56,
                    "data": {
                        "application/vnd.dataresource+json": {
                            "schema": {
                                "fields": [
                                    {
                                        "name": "EmployeeID"
                                    },
                                    {
                                        "name": "FirstName"
                                    },
                                    {
                                        "name": "LastName"
                                    },
                                    {
                                        "name": "Age"
                                    },
                                    {
                                        "name": "Gender"
                                    }
                                ]
                            },
                            "data": [
                                {
                                    "EmployeeID": "1008",
                                    "FirstName": "Stanley",
                                    "LastName": "Hudson",
                                    "Age": "38",
                                    "Gender": "Male"
                                },
                                {
                                    "EmployeeID": "1006",
                                    "FirstName": "Michael",
                                    "LastName": "Scott",
                                    "Age": "35",
                                    "Gender": "Male"
                                },
                                {
                                    "EmployeeID": "1005",
                                    "FirstName": "Toby",
                                    "LastName": "Flenderson",
                                    "Age": "32",
                                    "Gender": "Male"
                                },
                                {
                                    "EmployeeID": "1007",
                                    "FirstName": "Meredith",
                                    "LastName": "Palmer",
                                    "Age": "32",
                                    "Gender": "Female"
                                },
                                {
                                    "EmployeeID": "1009",
                                    "FirstName": "Kevin",
                                    "LastName": "Malone",
                                    "Age": "31",
                                    "Gender": "Male"
                                },
                                {
                                    "EmployeeID": "1004",
                                    "FirstName": "Angela",
                                    "LastName": "Martin",
                                    "Age": "31",
                                    "Gender": "Female"
                                },
                                {
                                    "EmployeeID": "1001",
                                    "FirstName": "Jim",
                                    "LastName": "Halpert",
                                    "Age": "30",
                                    "Gender": "Male"
                                },
                                {
                                    "EmployeeID": "1002",
                                    "FirstName": "Pam",
                                    "LastName": "Beasley",
                                    "Age": "30",
                                    "Gender": "Female"
                                },
                                {
                                    "EmployeeID": "1003",
                                    "FirstName": "Dwight",
                                    "LastName": "Schrute",
                                    "Age": "29",
                                    "Gender": "Male"
                                }
                            ]
                        },
                        "text/html": "<table><tr><th>EmployeeID</th><th>FirstName</th><th>LastName</th><th>Age</th><th>Gender</th></tr><tr><td>1008</td><td>Stanley</td><td>Hudson</td><td>38</td><td>Male</td></tr><tr><td>1006</td><td>Michael</td><td>Scott</td><td>35</td><td>Male</td></tr><tr><td>1005</td><td>Toby</td><td>Flenderson</td><td>32</td><td>Male</td></tr><tr><td>1007</td><td>Meredith</td><td>Palmer</td><td>32</td><td>Female</td></tr><tr><td>1009</td><td>Kevin</td><td>Malone</td><td>31</td><td>Male</td></tr><tr><td>1004</td><td>Angela</td><td>Martin</td><td>31</td><td>Female</td></tr><tr><td>1001</td><td>Jim</td><td>Halpert</td><td>30</td><td>Male</td></tr><tr><td>1002</td><td>Pam</td><td>Beasley</td><td>30</td><td>Female</td></tr><tr><td>1003</td><td>Dwight</td><td>Schrute</td><td>29</td><td>Male</td></tr></table>"
                    },
                    "metadata": {}
                }
            ],
            "execution_count": 56
        }
    ]
}